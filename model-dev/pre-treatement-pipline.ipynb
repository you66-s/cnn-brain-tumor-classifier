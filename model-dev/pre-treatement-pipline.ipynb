{
 "cells": [
  {
   "cell_type": "code",
   "execution_count": 4,
   "metadata": {},
   "outputs": [],
   "source": [
    "import numpy as np\n",
    "from PIL import Image\n",
    "import os"
   ]
  },
  {
   "cell_type": "code",
   "execution_count": 16,
   "metadata": {},
   "outputs": [],
   "source": [
    "def colored_image_preprocessing_pipeline(image_path, size=(224, 224)):\n",
    "    # 1. Chargement de l'image*\n",
    "    try:\n",
    "        image = Image.open(image_path)\n",
    "    except FileNotFoundError:\n",
    "        return(f\"Image in this path: {image_path} Not found\")\n",
    "    # 2. Redimensionnement de l'image\n",
    "    resized_img = image.resize(size=size)\n",
    "    # 3. Conversion en grayscale\n",
    "    if resized_img.mode != 'RGB':\n",
    "        colored_img = resized_img.convert('RGB')\n",
    "    else:\n",
    "        colored_img = resized_img\n",
    "    # 4. Conversion en array NumPy\n",
    "    img_np_arr = np.array(colored_img)\n",
    "    # 5. Normalisation\n",
    "    img_np_arr_norm = img_np_arr.astype('float32') / 255\n",
    "    return img_np_arr_norm"
   ]
  },
  {
   "cell_type": "code",
   "execution_count": 17,
   "metadata": {},
   "outputs": [
    {
     "data": {
      "text/plain": [
       "(224, 224, 3)"
      ]
     },
     "execution_count": 17,
     "metadata": {},
     "output_type": "execute_result"
    }
   ],
   "source": [
    "img = colored_image_preprocessing_pipeline('../dataset/yes/Y101.jpg')\n",
    "img.shape"
   ]
  },
  {
   "cell_type": "code",
   "execution_count": 48,
   "metadata": {},
   "outputs": [],
   "source": [
    "def image_preprocessing_pipeline(image_path, size=(224, 224)):\n",
    "    # 1. Chargement de l'image*\n",
    "    try:\n",
    "        image = Image.open(image_path)\n",
    "    except FileNotFoundError:\n",
    "        return(f\"Image in this path: {image_path} Not found\")\n",
    "    # 2. Redimensionnement de l'image\n",
    "    resized_img = image.resize(size=size)\n",
    "    # 3. Conversion en grayscale\n",
    "    if resized_img != 'L':\n",
    "        grayscale_img = resized_img.convert('L')\n",
    "    else:\n",
    "        grayscale_img = resized_img\n",
    "    # 4. Conversion en array NumPy\n",
    "    img_np_arr = np.array(grayscale_img)\n",
    "    img_np_arr = np.expand_dims(img_np_arr, axis=-1)\n",
    "    img_np_arr = np.expand_dims(img_np_arr, axis=0)\n",
    "    # 5. Normalisation\n",
    "    img_np_arr_norm = img_np_arr.astype('float32') / 255\n",
    "    return img_np_arr_norm"
   ]
  },
  {
   "cell_type": "code",
   "execution_count": 11,
   "metadata": {},
   "outputs": [
    {
     "ename": "NameError",
     "evalue": "name 'image_preprocessing_pipeline' is not defined",
     "output_type": "error",
     "traceback": [
      "\u001b[1;31m---------------------------------------------------------------------------\u001b[0m",
      "\u001b[1;31mNameError\u001b[0m                                 Traceback (most recent call last)",
      "Cell \u001b[1;32mIn[11], line 9\u001b[0m\n\u001b[0;32m      7\u001b[0m no_list_img \u001b[38;5;241m=\u001b[39m os\u001b[38;5;241m.\u001b[39mlistdir(\u001b[38;5;124m'\u001b[39m\u001b[38;5;124m../dataset/no/\u001b[39m\u001b[38;5;124m'\u001b[39m)\n\u001b[0;32m      8\u001b[0m \u001b[38;5;28;01mfor\u001b[39;00m img \u001b[38;5;129;01min\u001b[39;00m \u001b[38;5;28mrange\u001b[39m(\u001b[38;5;28mlen\u001b[39m(yes_list_img)):\n\u001b[1;32m----> 9\u001b[0m     img_arr \u001b[38;5;241m=\u001b[39m image_preprocessing_pipeline(yes_path \u001b[38;5;241m+\u001b[39m yes_list_img[img])\n\u001b[0;32m     10\u001b[0m     X\u001b[38;5;241m.\u001b[39mappend(img_arr)\n\u001b[0;32m     11\u001b[0m     y\u001b[38;5;241m.\u001b[39mappend(\u001b[38;5;241m1\u001b[39m)\n",
      "\u001b[1;31mNameError\u001b[0m: name 'image_preprocessing_pipeline' is not defined"
     ]
    }
   ],
   "source": [
    "#   Creation du dataset\n",
    "X = []\n",
    "y = []\n",
    "yes_path = '../dataset/yes/'\n",
    "no_path = '../dataset/no/'\n",
    "yes_list_img = os.listdir('../dataset/yes/')\n",
    "no_list_img = os.listdir('../dataset/no/')\n",
    "for img in range(len(yes_list_img)):\n",
    "    img_arr = image_preprocessing_pipeline(yes_path + yes_list_img[img])\n",
    "    X.append(img_arr)\n",
    "    y.append(1)\n",
    "for img in range(len(no_list_img)):\n",
    "    img_arr = image_preprocessing_pipeline(no_path + no_list_img[img])\n",
    "    X.append(img_arr)\n",
    "    y.append(0)\n",
    "\n",
    "# Conversion en tableaux NumPy\n",
    "X = np.vstack(X)  # (n_samples, 224, 224, 1)\n",
    "y = np.array(y)   # (n_samples,)\n",
    "np.savez('../dataset-processed/Brain_Tumor_Dataset.npz', X=X, y=y)\n",
    "print(f\"x shape: {X.shape}\")\n",
    "print(f\"y shape: {y.shape}\")"
   ]
  },
  {
   "cell_type": "code",
   "execution_count": 18,
   "metadata": {},
   "outputs": [
    {
     "name": "stdout",
     "output_type": "stream",
     "text": [
      "x shape: (253, 224, 224, 3)\n",
      "y shape: (253,)\n"
     ]
    }
   ],
   "source": [
    "#   Colored Dataset\n",
    "X = []\n",
    "y = []\n",
    "yes_path = '../dataset/yes/'\n",
    "no_path = '../dataset/no/'\n",
    "yes_list_img = os.listdir('../dataset/yes/')\n",
    "no_list_img = os.listdir('../dataset/no/')\n",
    "for img in range(len(yes_list_img)):\n",
    "    img_arr = colored_image_preprocessing_pipeline(yes_path + yes_list_img[img])\n",
    "    X.append(img_arr)\n",
    "    y.append(1)\n",
    "for img in range(len(no_list_img)):\n",
    "    img_arr = colored_image_preprocessing_pipeline(no_path + no_list_img[img])\n",
    "    X.append(img_arr)\n",
    "    y.append(0)\n",
    "\n",
    "# Conversion en tableaux NumPy\n",
    "X = np.array(X)  # (n_samples, 224, 224, 3)\n",
    "y = np.array(y)   # (n_samples,)\n",
    "np.savez('../colored-dataset/3_Colored_Brain_Tumor_Dataset.npz', X=X, y=y)\n",
    "print(f\"x shape: {X.shape}\")\n",
    "print(f\"y shape: {y.shape}\")"
   ]
  }
 ],
 "metadata": {
  "kernelspec": {
   "display_name": "base",
   "language": "python",
   "name": "python3"
  },
  "language_info": {
   "codemirror_mode": {
    "name": "ipython",
    "version": 3
   },
   "file_extension": ".py",
   "mimetype": "text/x-python",
   "name": "python",
   "nbconvert_exporter": "python",
   "pygments_lexer": "ipython3",
   "version": "3.12.7"
  }
 },
 "nbformat": 4,
 "nbformat_minor": 2
}
