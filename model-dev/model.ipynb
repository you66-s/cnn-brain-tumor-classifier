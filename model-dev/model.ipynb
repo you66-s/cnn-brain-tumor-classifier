{
  "cells": [
    {
      "cell_type": "code",
      "execution_count": 139,
      "metadata": {
        "id": "qTrnEWgmsNGt"
      },
      "outputs": [],
      "source": [
        "import numpy as np\n",
        "import matplotlib.pyplot as plt\n",
        "from sklearn.model_selection import train_test_split\n",
        "import tensorflow as tf\n",
        "from tensorflow.keras.models import Model, Sequential\n",
        "from tensorflow.keras.layers import Dense, Input, Dropout, GlobalAveragePooling2D, Flatten, Activation, Conv2D, AveragePooling2D\n",
        "from tensorflow.keras.losses import BinaryCrossentropy\n",
        "from tensorflow.keras.metrics import Recall, Precision, TruePositives, TrueNegatives, FalseNegatives, FalsePositives, BinaryAccuracy\n",
        "from tensorflow.keras.optimizers import Adam\n",
        "from tensorflow.keras.applications import EfficientNetB7"
      ]
    },
    {
      "cell_type": "code",
      "execution_count": 104,
      "metadata": {
        "id": "sJoxDu5OsjAU"
      },
      "outputs": [],
      "source": [
        "data_path = \"/content/3_Colored_Brain_Tumor_Dataset.npz\"\n",
        "grayscale_data_path = \"/content/Brain_Tumor_Dataset.npz\""
      ]
    },
    {
      "cell_type": "code",
      "execution_count": 130,
      "metadata": {
        "id": "MdFgQSgSsNGy"
      },
      "outputs": [],
      "source": [
        "#   Grayscale data\n",
        "g_data = np.load(grayscale_data_path)\n",
        "g_X = g_data['X']\n",
        "g_y = g_data['y']\n",
        "g_X_train, g_X_test, g_y_train, g_y_test = train_test_split(g_X, g_y, test_size=0.2, random_state=42, shuffle=True)"
      ]
    },
    {
      "cell_type": "code",
      "execution_count": 106,
      "metadata": {
        "id": "FAMVVR7AsNGz"
      },
      "outputs": [],
      "source": [
        "#   Colored data\n",
        "c_data = np.load(data_path)\n",
        "c_X = c_data['X']\n",
        "c_y = c_data['y']\n",
        "c_X_train, c_X_test, c_y_train, c_y_test = train_test_split(c_X, c_y, test_size=0.2, random_state=42, shuffle=True)"
      ]
    },
    {
      "cell_type": "code",
      "execution_count": 107,
      "metadata": {
        "colab": {
          "base_uri": "https://localhost:8080/"
        },
        "id": "Mrm-_P3IsNGz",
        "outputId": "c8c1de78-5e83-4784-85ab-32d1a31b0802"
      },
      "outputs": [
        {
          "data": {
            "text/plain": [
              "(253, 224, 224, 3)"
            ]
          },
          "execution_count": 107,
          "metadata": {},
          "output_type": "execute_result"
        }
      ],
      "source": [
        "c_X.shape"
      ]
    },
    {
      "cell_type": "markdown",
      "metadata": {
        "id": "wheiT8CssNG1"
      },
      "source": [
        "### Transfert Learning:\n",
        "#### 1- ResNet50"
      ]
    },
    {
      "cell_type": "code",
      "execution_count": 108,
      "metadata": {
        "id": "p-uTJlpWsNG2"
      },
      "outputs": [],
      "source": [
        "input_shape = (224, 224, 3)\n",
        "base_model = tf.keras.applications.ResNet50(input_shape=input_shape, weights='imagenet', include_top=False)\n",
        "base_model.trainable = False"
      ]
    },
    {
      "cell_type": "code",
      "execution_count": 109,
      "metadata": {
        "colab": {
          "base_uri": "https://localhost:8080/",
          "height": 369
        },
        "id": "pVE8Wm45sNG3",
        "outputId": "5bd83360-53cf-44e0-d3b3-ccf5455cb1fd"
      },
      "outputs": [
        {
          "data": {
            "text/html": [
              "<pre style=\"white-space:pre;overflow-x:auto;line-height:normal;font-family:Menlo,'DejaVu Sans Mono',consolas,'Courier New',monospace\"><span style=\"font-weight: bold\">Model: \"functional_98\"</span>\n",
              "</pre>\n"
            ],
            "text/plain": [
              "\u001b[1mModel: \"functional_98\"\u001b[0m\n"
            ]
          },
          "metadata": {},
          "output_type": "display_data"
        },
        {
          "data": {
            "text/html": [
              "<pre style=\"white-space:pre;overflow-x:auto;line-height:normal;font-family:Menlo,'DejaVu Sans Mono',consolas,'Courier New',monospace\">┏━━━━━━━━━━━━━━━━━━━━━━━━━━━━━━━━━┳━━━━━━━━━━━━━━━━━━━━━━━━┳━━━━━━━━━━━━━━━┓\n",
              "┃<span style=\"font-weight: bold\"> Layer (type)                    </span>┃<span style=\"font-weight: bold\"> Output Shape           </span>┃<span style=\"font-weight: bold\">       Param # </span>┃\n",
              "┡━━━━━━━━━━━━━━━━━━━━━━━━━━━━━━━━━╇━━━━━━━━━━━━━━━━━━━━━━━━╇━━━━━━━━━━━━━━━┩\n",
              "│ input_layer_43 (<span style=\"color: #0087ff; text-decoration-color: #0087ff\">InputLayer</span>)     │ (<span style=\"color: #00d7ff; text-decoration-color: #00d7ff\">None</span>, <span style=\"color: #00af00; text-decoration-color: #00af00\">224</span>, <span style=\"color: #00af00; text-decoration-color: #00af00\">224</span>, <span style=\"color: #00af00; text-decoration-color: #00af00\">3</span>)    │             <span style=\"color: #00af00; text-decoration-color: #00af00\">0</span> │\n",
              "├─────────────────────────────────┼────────────────────────┼───────────────┤\n",
              "│ resnet50 (<span style=\"color: #0087ff; text-decoration-color: #0087ff\">Functional</span>)           │ (<span style=\"color: #00d7ff; text-decoration-color: #00d7ff\">None</span>, <span style=\"color: #00af00; text-decoration-color: #00af00\">7</span>, <span style=\"color: #00af00; text-decoration-color: #00af00\">7</span>, <span style=\"color: #00af00; text-decoration-color: #00af00\">2048</span>)     │    <span style=\"color: #00af00; text-decoration-color: #00af00\">23,587,712</span> │\n",
              "├─────────────────────────────────┼────────────────────────┼───────────────┤\n",
              "│ global_average_pooling2d_12     │ (<span style=\"color: #00d7ff; text-decoration-color: #00d7ff\">None</span>, <span style=\"color: #00af00; text-decoration-color: #00af00\">2048</span>)           │             <span style=\"color: #00af00; text-decoration-color: #00af00\">0</span> │\n",
              "│ (<span style=\"color: #0087ff; text-decoration-color: #0087ff\">GlobalAveragePooling2D</span>)        │                        │               │\n",
              "├─────────────────────────────────┼────────────────────────┼───────────────┤\n",
              "│ FC-1 (<span style=\"color: #0087ff; text-decoration-color: #0087ff\">Dense</span>)                    │ (<span style=\"color: #00d7ff; text-decoration-color: #00d7ff\">None</span>, <span style=\"color: #00af00; text-decoration-color: #00af00\">128</span>)            │       <span style=\"color: #00af00; text-decoration-color: #00af00\">262,272</span> │\n",
              "├─────────────────────────────────┼────────────────────────┼───────────────┤\n",
              "│ dropout_18 (<span style=\"color: #0087ff; text-decoration-color: #0087ff\">Dropout</span>)            │ (<span style=\"color: #00d7ff; text-decoration-color: #00d7ff\">None</span>, <span style=\"color: #00af00; text-decoration-color: #00af00\">128</span>)            │             <span style=\"color: #00af00; text-decoration-color: #00af00\">0</span> │\n",
              "├─────────────────────────────────┼────────────────────────┼───────────────┤\n",
              "│ FC-2 (<span style=\"color: #0087ff; text-decoration-color: #0087ff\">Dense</span>)                    │ (<span style=\"color: #00d7ff; text-decoration-color: #00d7ff\">None</span>, <span style=\"color: #00af00; text-decoration-color: #00af00\">64</span>)             │         <span style=\"color: #00af00; text-decoration-color: #00af00\">8,256</span> │\n",
              "├─────────────────────────────────┼────────────────────────┼───────────────┤\n",
              "│ Prediction_Layer (<span style=\"color: #0087ff; text-decoration-color: #0087ff\">Dense</span>)        │ (<span style=\"color: #00d7ff; text-decoration-color: #00d7ff\">None</span>, <span style=\"color: #00af00; text-decoration-color: #00af00\">1</span>)              │            <span style=\"color: #00af00; text-decoration-color: #00af00\">65</span> │\n",
              "└─────────────────────────────────┴────────────────────────┴───────────────┘\n",
              "</pre>\n"
            ],
            "text/plain": [
              "┏━━━━━━━━━━━━━━━━━━━━━━━━━━━━━━━━━┳━━━━━━━━━━━━━━━━━━━━━━━━┳━━━━━━━━━━━━━━━┓\n",
              "┃\u001b[1m \u001b[0m\u001b[1mLayer (type)                   \u001b[0m\u001b[1m \u001b[0m┃\u001b[1m \u001b[0m\u001b[1mOutput Shape          \u001b[0m\u001b[1m \u001b[0m┃\u001b[1m \u001b[0m\u001b[1m      Param #\u001b[0m\u001b[1m \u001b[0m┃\n",
              "┡━━━━━━━━━━━━━━━━━━━━━━━━━━━━━━━━━╇━━━━━━━━━━━━━━━━━━━━━━━━╇━━━━━━━━━━━━━━━┩\n",
              "│ input_layer_43 (\u001b[38;5;33mInputLayer\u001b[0m)     │ (\u001b[38;5;45mNone\u001b[0m, \u001b[38;5;34m224\u001b[0m, \u001b[38;5;34m224\u001b[0m, \u001b[38;5;34m3\u001b[0m)    │             \u001b[38;5;34m0\u001b[0m │\n",
              "├─────────────────────────────────┼────────────────────────┼───────────────┤\n",
              "│ resnet50 (\u001b[38;5;33mFunctional\u001b[0m)           │ (\u001b[38;5;45mNone\u001b[0m, \u001b[38;5;34m7\u001b[0m, \u001b[38;5;34m7\u001b[0m, \u001b[38;5;34m2048\u001b[0m)     │    \u001b[38;5;34m23,587,712\u001b[0m │\n",
              "├─────────────────────────────────┼────────────────────────┼───────────────┤\n",
              "│ global_average_pooling2d_12     │ (\u001b[38;5;45mNone\u001b[0m, \u001b[38;5;34m2048\u001b[0m)           │             \u001b[38;5;34m0\u001b[0m │\n",
              "│ (\u001b[38;5;33mGlobalAveragePooling2D\u001b[0m)        │                        │               │\n",
              "├─────────────────────────────────┼────────────────────────┼───────────────┤\n",
              "│ FC-1 (\u001b[38;5;33mDense\u001b[0m)                    │ (\u001b[38;5;45mNone\u001b[0m, \u001b[38;5;34m128\u001b[0m)            │       \u001b[38;5;34m262,272\u001b[0m │\n",
              "├─────────────────────────────────┼────────────────────────┼───────────────┤\n",
              "│ dropout_18 (\u001b[38;5;33mDropout\u001b[0m)            │ (\u001b[38;5;45mNone\u001b[0m, \u001b[38;5;34m128\u001b[0m)            │             \u001b[38;5;34m0\u001b[0m │\n",
              "├─────────────────────────────────┼────────────────────────┼───────────────┤\n",
              "│ FC-2 (\u001b[38;5;33mDense\u001b[0m)                    │ (\u001b[38;5;45mNone\u001b[0m, \u001b[38;5;34m64\u001b[0m)             │         \u001b[38;5;34m8,256\u001b[0m │\n",
              "├─────────────────────────────────┼────────────────────────┼───────────────┤\n",
              "│ Prediction_Layer (\u001b[38;5;33mDense\u001b[0m)        │ (\u001b[38;5;45mNone\u001b[0m, \u001b[38;5;34m1\u001b[0m)              │            \u001b[38;5;34m65\u001b[0m │\n",
              "└─────────────────────────────────┴────────────────────────┴───────────────┘\n"
            ]
          },
          "metadata": {},
          "output_type": "display_data"
        },
        {
          "data": {
            "text/html": [
              "<pre style=\"white-space:pre;overflow-x:auto;line-height:normal;font-family:Menlo,'DejaVu Sans Mono',consolas,'Courier New',monospace\"><span style=\"font-weight: bold\"> Total params: </span><span style=\"color: #00af00; text-decoration-color: #00af00\">23,858,305</span> (91.01 MB)\n",
              "</pre>\n"
            ],
            "text/plain": [
              "\u001b[1m Total params: \u001b[0m\u001b[38;5;34m23,858,305\u001b[0m (91.01 MB)\n"
            ]
          },
          "metadata": {},
          "output_type": "display_data"
        },
        {
          "data": {
            "text/html": [
              "<pre style=\"white-space:pre;overflow-x:auto;line-height:normal;font-family:Menlo,'DejaVu Sans Mono',consolas,'Courier New',monospace\"><span style=\"font-weight: bold\"> Trainable params: </span><span style=\"color: #00af00; text-decoration-color: #00af00\">270,593</span> (1.03 MB)\n",
              "</pre>\n"
            ],
            "text/plain": [
              "\u001b[1m Trainable params: \u001b[0m\u001b[38;5;34m270,593\u001b[0m (1.03 MB)\n"
            ]
          },
          "metadata": {},
          "output_type": "display_data"
        },
        {
          "data": {
            "text/html": [
              "<pre style=\"white-space:pre;overflow-x:auto;line-height:normal;font-family:Menlo,'DejaVu Sans Mono',consolas,'Courier New',monospace\"><span style=\"font-weight: bold\"> Non-trainable params: </span><span style=\"color: #00af00; text-decoration-color: #00af00\">23,587,712</span> (89.98 MB)\n",
              "</pre>\n"
            ],
            "text/plain": [
              "\u001b[1m Non-trainable params: \u001b[0m\u001b[38;5;34m23,587,712\u001b[0m (89.98 MB)\n"
            ]
          },
          "metadata": {},
          "output_type": "display_data"
        }
      ],
      "source": [
        "input = Input(shape=input_shape)\n",
        "b_model = base_model(input, training=False)\n",
        "gap = GlobalAveragePooling2D()(b_model)\n",
        "dense1 = Dense(128, activation=\"relu\", name=\"FC-1\")(gap)\n",
        "dropout = Dropout(0.2)(dense1)\n",
        "dense2 = Dense(64, activation=\"relu\", name=\"FC-2\")(dropout)\n",
        "prediction = Dense(1, activation=\"sigmoid\", name=\"Prediction_Layer\")(dense2)\n",
        "\n",
        "model = Model(input, prediction)\n",
        "model.summary()"
      ]
    },
    {
      "cell_type": "code",
      "execution_count": 110,
      "metadata": {
        "colab": {
          "base_uri": "https://localhost:8080/"
        },
        "id": "30OlGT77sNG4",
        "outputId": "c15a9964-fb71-4820-9a89-f688bc48ad62"
      },
      "outputs": [
        {
          "name": "stdout",
          "output_type": "stream",
          "text": [
            "Epoch 1/25\n",
            "\u001b[1m7/7\u001b[0m \u001b[32m━━━━━━━━━━━━━━━━━━━━\u001b[0m\u001b[37m\u001b[0m \u001b[1m16s\u001b[0m 682ms/step - accuracy: 0.5853 - false_negatives_20: 10.0000 - false_positives_20: 43.8750 - loss: 0.6896 - precision_20: 0.6271 - recall_20: 0.8536 - true_negatives_20: 4.6250 - true_positives_20: 76.0000\n",
            "Epoch 2/25\n",
            "\u001b[1m7/7\u001b[0m \u001b[32m━━━━━━━━━━━━━━━━━━━━\u001b[0m\u001b[37m\u001b[0m \u001b[1m1s\u001b[0m 86ms/step - accuracy: 0.5483 - false_negatives_20: 24.2500 - false_positives_20: 31.6250 - loss: 0.6654 - precision_20: 0.6043 - recall_20: 0.6470 - true_negatives_20: 21.1250 - true_positives_20: 57.5000\n",
            "Epoch 3/25\n",
            "\u001b[1m7/7\u001b[0m \u001b[32m━━━━━━━━━━━━━━━━━━━━\u001b[0m\u001b[37m\u001b[0m \u001b[1m1s\u001b[0m 83ms/step - accuracy: 0.6545 - false_negatives_20: 0.3750 - false_positives_20: 47.3750 - loss: 0.6412 - precision_20: 0.6553 - recall_20: 0.9970 - true_negatives_20: 0.2500 - true_positives_20: 86.5000    \n",
            "Epoch 4/25\n",
            "\u001b[1m7/7\u001b[0m \u001b[32m━━━━━━━━━━━━━━━━━━━━\u001b[0m\u001b[37m\u001b[0m \u001b[1m1s\u001b[0m 84ms/step - accuracy: 0.7015 - false_negatives_20: 25.7500 - false_positives_20: 16.7500 - loss: 0.6042 - precision_20: 0.8047 - recall_20: 0.7132 - true_negatives_20: 31.2500 - true_positives_20: 60.7500\n",
            "Epoch 5/25\n",
            "\u001b[1m7/7\u001b[0m \u001b[32m━━━━━━━━━━━━━━━━━━━━\u001b[0m\u001b[37m\u001b[0m \u001b[1m1s\u001b[0m 84ms/step - accuracy: 0.6727 - false_negatives_20: 8.7500 - false_positives_20: 34.3750 - loss: 0.5834 - precision_20: 0.6762 - recall_20: 0.9071 - true_negatives_20: 16.0000 - true_positives_20: 75.3750\n",
            "Epoch 6/25\n",
            "\u001b[1m7/7\u001b[0m \u001b[32m━━━━━━━━━━━━━━━━━━━━\u001b[0m\u001b[37m\u001b[0m \u001b[1m1s\u001b[0m 84ms/step - accuracy: 0.7363 - false_negatives_20: 7.1250 - false_positives_20: 29.0000 - loss: 0.5364 - precision_20: 0.7417 - recall_20: 0.9170 - true_negatives_20: 18.8750 - true_positives_20: 79.5000\n",
            "Epoch 7/25\n",
            "\u001b[1m7/7\u001b[0m \u001b[32m━━━━━━━━━━━━━━━━━━━━\u001b[0m\u001b[37m\u001b[0m \u001b[1m1s\u001b[0m 84ms/step - accuracy: 0.6722 - false_negatives_20: 17.3750 - false_positives_20: 25.0000 - loss: 0.5805 - precision_20: 0.7076 - recall_20: 0.7864 - true_negatives_20: 25.8750 - true_positives_20: 66.2500\n",
            "Epoch 8/25\n",
            "\u001b[1m7/7\u001b[0m \u001b[32m━━━━━━━━━━━━━━━━━━━━\u001b[0m\u001b[37m\u001b[0m \u001b[1m1s\u001b[0m 102ms/step - accuracy: 0.7557 - false_negatives_20: 4.8750 - false_positives_20: 29.8750 - loss: 0.5265 - precision_20: 0.7475 - recall_20: 0.9469 - true_negatives_20: 17.8750 - true_positives_20: 81.8750\n",
            "Epoch 9/25\n",
            "\u001b[1m7/7\u001b[0m \u001b[32m━━━━━━━━━━━━━━━━━━━━\u001b[0m\u001b[37m\u001b[0m \u001b[1m1s\u001b[0m 84ms/step - accuracy: 0.6946 - false_negatives_20: 21.3750 - false_positives_20: 19.7500 - loss: 0.5539 - precision_20: 0.7869 - recall_20: 0.7358 - true_negatives_20: 27.8750 - true_positives_20: 65.5000\n",
            "Epoch 10/25\n",
            "\u001b[1m7/7\u001b[0m \u001b[32m━━━━━━━━━━━━━━━━━━━━\u001b[0m\u001b[37m\u001b[0m \u001b[1m1s\u001b[0m 84ms/step - accuracy: 0.7473 - false_negatives_20: 7.6250 - false_positives_20: 28.5000 - loss: 0.4988 - precision_20: 0.7521 - recall_20: 0.9138 - true_negatives_20: 19.8750 - true_positives_20: 78.5000\n",
            "Epoch 11/25\n",
            "\u001b[1m7/7\u001b[0m \u001b[32m━━━━━━━━━━━━━━━━━━━━\u001b[0m\u001b[37m\u001b[0m \u001b[1m1s\u001b[0m 85ms/step - accuracy: 0.7139 - false_negatives_20: 20.5000 - false_positives_20: 18.6250 - loss: 0.5585 - precision_20: 0.7828 - recall_20: 0.7523 - true_negatives_20: 31.7500 - true_positives_20: 63.6250\n",
            "Epoch 12/25\n",
            "\u001b[1m7/7\u001b[0m \u001b[32m━━━━━━━━━━━━━━━━━━━━\u001b[0m\u001b[37m\u001b[0m \u001b[1m1s\u001b[0m 85ms/step - accuracy: 0.7467 - false_negatives_20: 3.1250 - false_positives_20: 31.2500 - loss: 0.4889 - precision_20: 0.7346 - recall_20: 0.9651 - true_negatives_20: 16.1250 - true_positives_20: 84.0000\n",
            "Epoch 13/25\n",
            "\u001b[1m7/7\u001b[0m \u001b[32m━━━━━━━━━━━━━━━━━━━━\u001b[0m\u001b[37m\u001b[0m \u001b[1m1s\u001b[0m 88ms/step - accuracy: 0.7119 - false_negatives_20: 29.3750 - false_positives_20: 9.2500 - loss: 0.5693 - precision_20: 0.8406 - recall_20: 0.6506 - true_negatives_20: 41.7500 - true_positives_20: 54.1250\n",
            "Epoch 14/25\n",
            "\u001b[1m7/7\u001b[0m \u001b[32m━━━━━━━━━━━━━━━━━━━━\u001b[0m\u001b[37m\u001b[0m \u001b[1m1s\u001b[0m 91ms/step - accuracy: 0.7209 - false_negatives_20: 6.2500 - false_positives_20: 30.6250 - loss: 0.5340 - precision_20: 0.7198 - recall_20: 0.9209 - true_negatives_20: 18.5000 - true_positives_20: 79.1250\n",
            "Epoch 15/25\n",
            "\u001b[1m7/7\u001b[0m \u001b[32m━━━━━━━━━━━━━━━━━━━━\u001b[0m\u001b[37m\u001b[0m \u001b[1m1s\u001b[0m 88ms/step - accuracy: 0.7229 - false_negatives_20: 10.7500 - false_positives_20: 26.8750 - loss: 0.5032 - precision_20: 0.7564 - recall_20: 0.8638 - true_negatives_20: 20.2500 - true_positives_20: 76.6250\n",
            "Epoch 16/25\n",
            "\u001b[1m7/7\u001b[0m \u001b[32m━━━━━━━━━━━━━━━━━━━━\u001b[0m\u001b[37m\u001b[0m \u001b[1m1s\u001b[0m 85ms/step - accuracy: 0.7560 - false_negatives_20: 13.5000 - false_positives_20: 20.2500 - loss: 0.4887 - precision_20: 0.7948 - recall_20: 0.8509 - true_negatives_20: 26.7500 - true_positives_20: 74.0000\n",
            "Epoch 17/25\n",
            "\u001b[1m7/7\u001b[0m \u001b[32m━━━━━━━━━━━━━━━━━━━━\u001b[0m\u001b[37m\u001b[0m \u001b[1m1s\u001b[0m 86ms/step - accuracy: 0.7420 - false_negatives_20: 11.3750 - false_positives_20: 22.1250 - loss: 0.4879 - precision_20: 0.7626 - recall_20: 0.8497 - true_negatives_20: 26.6250 - true_positives_20: 74.3750\n",
            "Epoch 18/25\n",
            "\u001b[1m7/7\u001b[0m \u001b[32m━━━━━━━━━━━━━━━━━━━━\u001b[0m\u001b[37m\u001b[0m \u001b[1m1s\u001b[0m 86ms/step - accuracy: 0.7735 - false_negatives_20: 7.8750 - false_positives_20: 23.5000 - loss: 0.4552 - precision_20: 0.7856 - recall_20: 0.9009 - true_negatives_20: 24.5000 - true_positives_20: 78.6250\n",
            "Epoch 19/25\n",
            "\u001b[1m7/7\u001b[0m \u001b[32m━━━━━━━━━━━━━━━━━━━━\u001b[0m\u001b[37m\u001b[0m \u001b[1m1s\u001b[0m 85ms/step - accuracy: 0.7862 - false_negatives_20: 14.6250 - false_positives_20: 15.2500 - loss: 0.4972 - precision_20: 0.8117 - recall_20: 0.8557 - true_negatives_20: 35.2500 - true_positives_20: 69.3750\n",
            "Epoch 20/25\n",
            "\u001b[1m7/7\u001b[0m \u001b[32m━━━━━━━━━━━━━━━━━━━━\u001b[0m\u001b[37m\u001b[0m \u001b[1m1s\u001b[0m 85ms/step - accuracy: 0.7220 - false_negatives_20: 5.7500 - false_positives_20: 30.7500 - loss: 0.5158 - precision_20: 0.7054 - recall_20: 0.9314 - true_negatives_20: 20.6250 - true_positives_20: 77.3750\n",
            "Epoch 21/25\n",
            "\u001b[1m7/7\u001b[0m \u001b[32m━━━━━━━━━━━━━━━━━━━━\u001b[0m\u001b[37m\u001b[0m \u001b[1m1s\u001b[0m 86ms/step - accuracy: 0.7610 - false_negatives_20: 10.3750 - false_positives_20: 22.3750 - loss: 0.4741 - precision_20: 0.7851 - recall_20: 0.8791 - true_negatives_20: 24.7500 - true_positives_20: 77.0000\n",
            "Epoch 22/25\n",
            "\u001b[1m7/7\u001b[0m \u001b[32m━━━━━━━━━━━━━━━━━━━━\u001b[0m\u001b[37m\u001b[0m \u001b[1m1s\u001b[0m 86ms/step - accuracy: 0.7864 - false_negatives_20: 11.5000 - false_positives_20: 16.6250 - loss: 0.4988 - precision_20: 0.7989 - recall_20: 0.8765 - true_negatives_20: 34.3750 - true_positives_20: 72.0000\n",
            "Epoch 23/25\n",
            "\u001b[1m7/7\u001b[0m \u001b[32m━━━━━━━━━━━━━━━━━━━━\u001b[0m\u001b[37m\u001b[0m \u001b[1m1s\u001b[0m 86ms/step - accuracy: 0.7528 - false_negatives_20: 3.8750 - false_positives_20: 28.3750 - loss: 0.4924 - precision_20: 0.7465 - recall_20: 0.9495 - true_negatives_20: 18.7500 - true_positives_20: 83.5000\n",
            "Epoch 24/25\n",
            "\u001b[1m7/7\u001b[0m \u001b[32m━━━━━━━━━━━━━━━━━━━━\u001b[0m\u001b[37m\u001b[0m \u001b[1m1s\u001b[0m 87ms/step - accuracy: 0.7621 - false_negatives_20: 17.5000 - false_positives_20: 14.6250 - loss: 0.5081 - precision_20: 0.8421 - recall_20: 0.7869 - true_negatives_20: 32.7500 - true_positives_20: 69.6250\n",
            "Epoch 25/25\n",
            "\u001b[1m7/7\u001b[0m \u001b[32m━━━━━━━━━━━━━━━━━━━━\u001b[0m\u001b[37m\u001b[0m \u001b[1m1s\u001b[0m 86ms/step - accuracy: 0.7649 - false_negatives_20: 6.1250 - false_positives_20: 25.3750 - loss: 0.4639 - precision_20: 0.7629 - recall_20: 0.9238 - true_negatives_20: 23.0000 - true_positives_20: 80.0000\n"
          ]
        }
      ],
      "source": [
        "#   Compilation et entrainement du modéle\n",
        "model.compile(optimizer=Adam(), loss=BinaryCrossentropy(), metrics=[BinaryAccuracy(threshold=0.5, name=\"accuracy\"), Recall(), Precision(), TruePositives(), TrueNegatives(), FalsePositives(), FalseNegatives()])\n",
        "fit_history = model.fit(c_X_train, c_y_train, epochs=25)"
      ]
    },
    {
      "cell_type": "code",
      "execution_count": 111,
      "metadata": {
        "id": "pBzXtXBmzLja"
      },
      "outputs": [],
      "source": [
        "def model_evaluation(metrics):\n",
        "  print(\"Loss: \", np.round(metrics[0], 2))\n",
        "  print(\"Accuracy: \", np.round(metrics[1], 2))\n",
        "  print(\"Recall: \", np.round(metrics[2], 2))\n",
        "  print(\"Precision: \", np.round(metrics[3], 2))\n",
        "  print(\"True Positives: \", int(metrics[4]))\n",
        "  print(\"True Negatives: \", int(metrics[5]))\n",
        "  print(\"False Positives: \", int(metrics[6]))\n",
        "  print(\"False Negatives: \", int(metrics[7]))\n"
      ]
    },
    {
      "cell_type": "code",
      "execution_count": 112,
      "metadata": {
        "colab": {
          "base_uri": "https://localhost:8080/"
        },
        "id": "epyGVhEktsyY",
        "outputId": "d7824739-cc2e-4af7-a16b-afbc50da28f6"
      },
      "outputs": [
        {
          "name": "stdout",
          "output_type": "stream",
          "text": [
            "\u001b[1m2/2\u001b[0m \u001b[32m━━━━━━━━━━━━━━━━━━━━\u001b[0m\u001b[37m\u001b[0m \u001b[1m7s\u001b[0m 2s/step - accuracy: 0.7206 - false_negatives_20: 7.6667 - false_positives_20: 5.0000 - loss: 0.5624 - precision_20: 0.7667 - recall_20: 0.6797 - true_negatives_20: 16.0000 - true_positives_20: 16.0000\n",
            "Loss:  0.57\n",
            "Accuracy:  0.71\n",
            "Recall:  0.67\n",
            "Precision:  0.75\n",
            "True Positives:  18\n",
            "True Negatives:  18\n",
            "False Positives:  6\n",
            "False Negatives:  9\n"
          ]
        }
      ],
      "source": [
        "resnet_model_metrics = model.evaluate(c_X_test, c_y_test)\n",
        "model_evaluation(resnet_model_metrics)"
      ]
    },
    {
      "cell_type": "markdown",
      "metadata": {
        "id": "vBCRW3hiuDWE"
      },
      "source": [
        "#### 2.a- VGG"
      ]
    },
    {
      "cell_type": "code",
      "execution_count": 113,
      "metadata": {
        "colab": {
          "base_uri": "https://localhost:8080/",
          "height": 337
        },
        "id": "AX9MNyuXuCxu",
        "outputId": "95125334-205c-4e53-a7cc-d695fe17ec03"
      },
      "outputs": [
        {
          "data": {
            "text/html": [
              "<pre style=\"white-space:pre;overflow-x:auto;line-height:normal;font-family:Menlo,'DejaVu Sans Mono',consolas,'Courier New',monospace\"><span style=\"font-weight: bold\">Model: \"VGG16\"</span>\n",
              "</pre>\n"
            ],
            "text/plain": [
              "\u001b[1mModel: \"VGG16\"\u001b[0m\n"
            ]
          },
          "metadata": {},
          "output_type": "display_data"
        },
        {
          "data": {
            "text/html": [
              "<pre style=\"white-space:pre;overflow-x:auto;line-height:normal;font-family:Menlo,'DejaVu Sans Mono',consolas,'Courier New',monospace\">┏━━━━━━━━━━━━━━━━━━━━━━━━━━━━━━━━━┳━━━━━━━━━━━━━━━━━━━━━━━━┳━━━━━━━━━━━━━━━┓\n",
              "┃<span style=\"font-weight: bold\"> Layer (type)                    </span>┃<span style=\"font-weight: bold\"> Output Shape           </span>┃<span style=\"font-weight: bold\">       Param # </span>┃\n",
              "┡━━━━━━━━━━━━━━━━━━━━━━━━━━━━━━━━━╇━━━━━━━━━━━━━━━━━━━━━━━━╇━━━━━━━━━━━━━━━┩\n",
              "│ vgg16 (<span style=\"color: #0087ff; text-decoration-color: #0087ff\">Functional</span>)              │ (<span style=\"color: #00d7ff; text-decoration-color: #00d7ff\">None</span>, <span style=\"color: #00af00; text-decoration-color: #00af00\">7</span>, <span style=\"color: #00af00; text-decoration-color: #00af00\">7</span>, <span style=\"color: #00af00; text-decoration-color: #00af00\">512</span>)      │    <span style=\"color: #00af00; text-decoration-color: #00af00\">14,714,688</span> │\n",
              "├─────────────────────────────────┼────────────────────────┼───────────────┤\n",
              "│ global_average_pooling2d_13     │ (<span style=\"color: #00d7ff; text-decoration-color: #00d7ff\">None</span>, <span style=\"color: #00af00; text-decoration-color: #00af00\">512</span>)            │             <span style=\"color: #00af00; text-decoration-color: #00af00\">0</span> │\n",
              "│ (<span style=\"color: #0087ff; text-decoration-color: #0087ff\">GlobalAveragePooling2D</span>)        │                        │               │\n",
              "├─────────────────────────────────┼────────────────────────┼───────────────┤\n",
              "│ dense_45 (<span style=\"color: #0087ff; text-decoration-color: #0087ff\">Dense</span>)                │ (<span style=\"color: #00d7ff; text-decoration-color: #00d7ff\">None</span>, <span style=\"color: #00af00; text-decoration-color: #00af00\">128</span>)            │        <span style=\"color: #00af00; text-decoration-color: #00af00\">65,664</span> │\n",
              "├─────────────────────────────────┼────────────────────────┼───────────────┤\n",
              "│ dropout_19 (<span style=\"color: #0087ff; text-decoration-color: #0087ff\">Dropout</span>)            │ (<span style=\"color: #00d7ff; text-decoration-color: #00d7ff\">None</span>, <span style=\"color: #00af00; text-decoration-color: #00af00\">128</span>)            │             <span style=\"color: #00af00; text-decoration-color: #00af00\">0</span> │\n",
              "├─────────────────────────────────┼────────────────────────┼───────────────┤\n",
              "│ dense_46 (<span style=\"color: #0087ff; text-decoration-color: #0087ff\">Dense</span>)                │ (<span style=\"color: #00d7ff; text-decoration-color: #00d7ff\">None</span>, <span style=\"color: #00af00; text-decoration-color: #00af00\">64</span>)             │         <span style=\"color: #00af00; text-decoration-color: #00af00\">8,256</span> │\n",
              "├─────────────────────────────────┼────────────────────────┼───────────────┤\n",
              "│ dense_47 (<span style=\"color: #0087ff; text-decoration-color: #0087ff\">Dense</span>)                │ (<span style=\"color: #00d7ff; text-decoration-color: #00d7ff\">None</span>, <span style=\"color: #00af00; text-decoration-color: #00af00\">1</span>)              │            <span style=\"color: #00af00; text-decoration-color: #00af00\">65</span> │\n",
              "└─────────────────────────────────┴────────────────────────┴───────────────┘\n",
              "</pre>\n"
            ],
            "text/plain": [
              "┏━━━━━━━━━━━━━━━━━━━━━━━━━━━━━━━━━┳━━━━━━━━━━━━━━━━━━━━━━━━┳━━━━━━━━━━━━━━━┓\n",
              "┃\u001b[1m \u001b[0m\u001b[1mLayer (type)                   \u001b[0m\u001b[1m \u001b[0m┃\u001b[1m \u001b[0m\u001b[1mOutput Shape          \u001b[0m\u001b[1m \u001b[0m┃\u001b[1m \u001b[0m\u001b[1m      Param #\u001b[0m\u001b[1m \u001b[0m┃\n",
              "┡━━━━━━━━━━━━━━━━━━━━━━━━━━━━━━━━━╇━━━━━━━━━━━━━━━━━━━━━━━━╇━━━━━━━━━━━━━━━┩\n",
              "│ vgg16 (\u001b[38;5;33mFunctional\u001b[0m)              │ (\u001b[38;5;45mNone\u001b[0m, \u001b[38;5;34m7\u001b[0m, \u001b[38;5;34m7\u001b[0m, \u001b[38;5;34m512\u001b[0m)      │    \u001b[38;5;34m14,714,688\u001b[0m │\n",
              "├─────────────────────────────────┼────────────────────────┼───────────────┤\n",
              "│ global_average_pooling2d_13     │ (\u001b[38;5;45mNone\u001b[0m, \u001b[38;5;34m512\u001b[0m)            │             \u001b[38;5;34m0\u001b[0m │\n",
              "│ (\u001b[38;5;33mGlobalAveragePooling2D\u001b[0m)        │                        │               │\n",
              "├─────────────────────────────────┼────────────────────────┼───────────────┤\n",
              "│ dense_45 (\u001b[38;5;33mDense\u001b[0m)                │ (\u001b[38;5;45mNone\u001b[0m, \u001b[38;5;34m128\u001b[0m)            │        \u001b[38;5;34m65,664\u001b[0m │\n",
              "├─────────────────────────────────┼────────────────────────┼───────────────┤\n",
              "│ dropout_19 (\u001b[38;5;33mDropout\u001b[0m)            │ (\u001b[38;5;45mNone\u001b[0m, \u001b[38;5;34m128\u001b[0m)            │             \u001b[38;5;34m0\u001b[0m │\n",
              "├─────────────────────────────────┼────────────────────────┼───────────────┤\n",
              "│ dense_46 (\u001b[38;5;33mDense\u001b[0m)                │ (\u001b[38;5;45mNone\u001b[0m, \u001b[38;5;34m64\u001b[0m)             │         \u001b[38;5;34m8,256\u001b[0m │\n",
              "├─────────────────────────────────┼────────────────────────┼───────────────┤\n",
              "│ dense_47 (\u001b[38;5;33mDense\u001b[0m)                │ (\u001b[38;5;45mNone\u001b[0m, \u001b[38;5;34m1\u001b[0m)              │            \u001b[38;5;34m65\u001b[0m │\n",
              "└─────────────────────────────────┴────────────────────────┴───────────────┘\n"
            ]
          },
          "metadata": {},
          "output_type": "display_data"
        },
        {
          "data": {
            "text/html": [
              "<pre style=\"white-space:pre;overflow-x:auto;line-height:normal;font-family:Menlo,'DejaVu Sans Mono',consolas,'Courier New',monospace\"><span style=\"font-weight: bold\"> Total params: </span><span style=\"color: #00af00; text-decoration-color: #00af00\">14,788,673</span> (56.41 MB)\n",
              "</pre>\n"
            ],
            "text/plain": [
              "\u001b[1m Total params: \u001b[0m\u001b[38;5;34m14,788,673\u001b[0m (56.41 MB)\n"
            ]
          },
          "metadata": {},
          "output_type": "display_data"
        },
        {
          "data": {
            "text/html": [
              "<pre style=\"white-space:pre;overflow-x:auto;line-height:normal;font-family:Menlo,'DejaVu Sans Mono',consolas,'Courier New',monospace\"><span style=\"font-weight: bold\"> Trainable params: </span><span style=\"color: #00af00; text-decoration-color: #00af00\">73,985</span> (289.00 KB)\n",
              "</pre>\n"
            ],
            "text/plain": [
              "\u001b[1m Trainable params: \u001b[0m\u001b[38;5;34m73,985\u001b[0m (289.00 KB)\n"
            ]
          },
          "metadata": {},
          "output_type": "display_data"
        },
        {
          "data": {
            "text/html": [
              "<pre style=\"white-space:pre;overflow-x:auto;line-height:normal;font-family:Menlo,'DejaVu Sans Mono',consolas,'Courier New',monospace\"><span style=\"font-weight: bold\"> Non-trainable params: </span><span style=\"color: #00af00; text-decoration-color: #00af00\">14,714,688</span> (56.13 MB)\n",
              "</pre>\n"
            ],
            "text/plain": [
              "\u001b[1m Non-trainable params: \u001b[0m\u001b[38;5;34m14,714,688\u001b[0m (56.13 MB)\n"
            ]
          },
          "metadata": {},
          "output_type": "display_data"
        }
      ],
      "source": [
        "vgg_model = tf.keras.applications.VGG16(input_shape=input_shape, weights='imagenet', include_top=False)\n",
        "vgg_model.trainable = False\n",
        "v_model = Sequential(name=\"VGG16\")\n",
        "v_model.add(vgg_model)\n",
        "v_model.add(GlobalAveragePooling2D())\n",
        "v_model.add(Dense(128, activation=\"relu\"))\n",
        "v_model.add(Dropout(0.2))\n",
        "v_model.add(Dense(64, activation=\"relu\"))\n",
        "v_model.add(Dense(1, activation=\"sigmoid\"))\n",
        "v_model.summary()"
      ]
    },
    {
      "cell_type": "code",
      "execution_count": 114,
      "metadata": {
        "colab": {
          "base_uri": "https://localhost:8080/"
        },
        "id": "saRCZYrnyRG8",
        "outputId": "79e418a1-9348-46d7-d38d-2fd546274f12"
      },
      "outputs": [
        {
          "name": "stdout",
          "output_type": "stream",
          "text": [
            "Epoch 1/25\n",
            "\u001b[1m7/7\u001b[0m \u001b[32m━━━━━━━━━━━━━━━━━━━━\u001b[0m\u001b[37m\u001b[0m \u001b[1m7s\u001b[0m 441ms/step - accuracy: 0.6031 - false_negatives_21: 5.7500 - false_positives_21: 46.7500 - loss: 0.6614 - precision_21: 0.6310 - recall_21: 0.9106 - true_negatives_21: 2.0000 - true_positives_21: 80.0000\n",
            "Epoch 2/25\n",
            "\u001b[1m7/7\u001b[0m \u001b[32m━━━━━━━━━━━━━━━━━━━━\u001b[0m\u001b[37m\u001b[0m \u001b[1m1s\u001b[0m 167ms/step - accuracy: 0.6492 - false_negatives_21: 1.8750 - false_positives_21: 46.2500 - loss: 0.6282 - precision_21: 0.6522 - recall_21: 0.9830 - true_negatives_21: 1.6250 - true_positives_21: 84.7500\n",
            "Epoch 3/25\n",
            "\u001b[1m7/7\u001b[0m \u001b[32m━━━━━━━━━━━━━━━━━━━━\u001b[0m\u001b[37m\u001b[0m \u001b[1m1s\u001b[0m 165ms/step - accuracy: 0.6861 - false_negatives_21: 1.6250 - false_positives_21: 39.7500 - loss: 0.6078 - precision_21: 0.6712 - recall_21: 0.9813 - true_negatives_21: 10.0000 - true_positives_21: 83.1250\n",
            "Epoch 4/25\n",
            "\u001b[1m7/7\u001b[0m \u001b[32m━━━━━━━━━━━━━━━━━━━━\u001b[0m\u001b[37m\u001b[0m \u001b[1m1s\u001b[0m 168ms/step - accuracy: 0.6990 - false_negatives_21: 0.0000e+00 - false_positives_21: 42.3750 - loss: 0.5901 - precision_21: 0.6890 - recall_21: 1.0000 - true_negatives_21: 4.3750 - true_positives_21: 87.7500\n",
            "Epoch 5/25\n",
            "\u001b[1m7/7\u001b[0m \u001b[32m━━━━━━━━━━━━━━━━━━━━\u001b[0m\u001b[37m\u001b[0m \u001b[1m1s\u001b[0m 167ms/step - accuracy: 0.7760 - false_negatives_21: 4.0000 - false_positives_21: 26.8750 - loss: 0.5457 - precision_21: 0.7558 - recall_21: 0.9658 - true_negatives_21: 21.8750 - true_positives_21: 81.7500\n",
            "Epoch 6/25\n",
            "\u001b[1m7/7\u001b[0m \u001b[32m━━━━━━━━━━━━━━━━━━━━\u001b[0m\u001b[37m\u001b[0m \u001b[1m1s\u001b[0m 169ms/step - accuracy: 0.7631 - false_negatives_21: 1.6250 - false_positives_21: 31.2500 - loss: 0.5387 - precision_21: 0.7380 - recall_21: 0.9814 - true_negatives_21: 17.1250 - true_positives_21: 84.5000\n",
            "Epoch 7/25\n",
            "\u001b[1m7/7\u001b[0m \u001b[32m━━━━━━━━━━━━━━━━━━━━\u001b[0m\u001b[37m\u001b[0m \u001b[1m1s\u001b[0m 170ms/step - accuracy: 0.7625 - false_negatives_21: 9.0000 - false_positives_21: 23.5000 - loss: 0.5094 - precision_21: 0.7624 - recall_21: 0.9138 - true_negatives_21: 25.6250 - true_positives_21: 76.3750\n",
            "Epoch 8/25\n",
            "\u001b[1m7/7\u001b[0m \u001b[32m━━━━━━━━━━━━━━━━━━━━\u001b[0m\u001b[37m\u001b[0m \u001b[1m1s\u001b[0m 170ms/step - accuracy: 0.8086 - false_negatives_21: 2.7500 - false_positives_21: 24.3750 - loss: 0.4799 - precision_21: 0.7921 - recall_21: 0.9628 - true_negatives_21: 22.8750 - true_positives_21: 84.5000\n",
            "Epoch 9/25\n",
            "\u001b[1m7/7\u001b[0m \u001b[32m━━━━━━━━━━━━━━━━━━━━\u001b[0m\u001b[37m\u001b[0m \u001b[1m1s\u001b[0m 169ms/step - accuracy: 0.8314 - false_negatives_21: 4.0000 - false_positives_21: 18.6250 - loss: 0.4296 - precision_21: 0.8151 - recall_21: 0.9572 - true_negatives_21: 29.1250 - true_positives_21: 82.7500\n",
            "Epoch 10/25\n",
            "\u001b[1m7/7\u001b[0m \u001b[32m━━━━━━━━━━━━━━━━━━━━\u001b[0m\u001b[37m\u001b[0m \u001b[1m1s\u001b[0m 172ms/step - accuracy: 0.8013 - false_negatives_21: 7.6250 - false_positives_21: 18.1250 - loss: 0.4264 - precision_21: 0.8118 - recall_21: 0.8964 - true_negatives_21: 29.7500 - true_positives_21: 79.0000\n",
            "Epoch 11/25\n",
            "\u001b[1m7/7\u001b[0m \u001b[32m━━━━━━━━━━━━━━━━━━━━\u001b[0m\u001b[37m\u001b[0m \u001b[1m1s\u001b[0m 173ms/step - accuracy: 0.8062 - false_negatives_21: 8.8750 - false_positives_21: 16.5000 - loss: 0.4281 - precision_21: 0.7957 - recall_21: 0.9158 - true_negatives_21: 35.5000 - true_positives_21: 73.6250\n",
            "Epoch 12/25\n",
            "\u001b[1m7/7\u001b[0m \u001b[32m━━━━━━━━━━━━━━━━━━━━\u001b[0m\u001b[37m\u001b[0m \u001b[1m1s\u001b[0m 171ms/step - accuracy: 0.8418 - false_negatives_21: 2.0000 - false_positives_21: 21.1250 - loss: 0.3841 - precision_21: 0.8234 - recall_21: 0.9662 - true_negatives_21: 27.0000 - true_positives_21: 84.3750\n",
            "Epoch 13/25\n",
            "\u001b[1m7/7\u001b[0m \u001b[32m━━━━━━━━━━━━━━━━━━━━\u001b[0m\u001b[37m\u001b[0m \u001b[1m1s\u001b[0m 171ms/step - accuracy: 0.8491 - false_negatives_21: 12.0000 - false_positives_21: 9.1250 - loss: 0.3812 - precision_21: 0.8823 - recall_21: 0.8737 - true_negatives_21: 41.3750 - true_positives_21: 72.0000\n",
            "Epoch 14/25\n",
            "\u001b[1m7/7\u001b[0m \u001b[32m━━━━━━━━━━━━━━━━━━━━\u001b[0m\u001b[37m\u001b[0m \u001b[1m1s\u001b[0m 171ms/step - accuracy: 0.8013 - false_negatives_21: 0.6250 - false_positives_21: 24.6250 - loss: 0.3954 - precision_21: 0.7628 - recall_21: 0.9942 - true_negatives_21: 25.0000 - true_positives_21: 84.2500\n",
            "Epoch 15/25\n",
            "\u001b[1m7/7\u001b[0m \u001b[32m━━━━━━━━━━━━━━━━━━━━\u001b[0m\u001b[37m\u001b[0m \u001b[1m1s\u001b[0m 173ms/step - accuracy: 0.8574 - false_negatives_21: 5.3750 - false_positives_21: 13.2500 - loss: 0.3526 - precision_21: 0.8619 - recall_21: 0.9386 - true_negatives_21: 33.6250 - true_positives_21: 82.2500\n",
            "Epoch 16/25\n",
            "\u001b[1m7/7\u001b[0m \u001b[32m━━━━━━━━━━━━━━━━━━━━\u001b[0m\u001b[37m\u001b[0m \u001b[1m1s\u001b[0m 174ms/step - accuracy: 0.8494 - false_negatives_21: 7.8750 - false_positives_21: 11.8750 - loss: 0.3258 - precision_21: 0.8758 - recall_21: 0.9032 - true_negatives_21: 34.6250 - true_positives_21: 80.1250\n",
            "Epoch 17/25\n",
            "\u001b[1m7/7\u001b[0m \u001b[32m━━━━━━━━━━━━━━━━━━━━\u001b[0m\u001b[37m\u001b[0m \u001b[1m1s\u001b[0m 171ms/step - accuracy: 0.8611 - false_negatives_21: 4.3750 - false_positives_21: 13.6250 - loss: 0.3217 - precision_21: 0.8487 - recall_21: 0.9561 - true_negatives_21: 34.6250 - true_positives_21: 81.8750\n",
            "Epoch 18/25\n",
            "\u001b[1m7/7\u001b[0m \u001b[32m━━━━━━━━━━━━━━━━━━━━\u001b[0m\u001b[37m\u001b[0m \u001b[1m1s\u001b[0m 172ms/step - accuracy: 0.8824 - false_negatives_21: 6.7500 - false_positives_21: 10.3750 - loss: 0.3009 - precision_21: 0.9013 - recall_21: 0.9244 - true_negatives_21: 36.2500 - true_positives_21: 81.1250\n",
            "Epoch 19/25\n",
            "\u001b[1m7/7\u001b[0m \u001b[32m━━━━━━━━━━━━━━━━━━━━\u001b[0m\u001b[37m\u001b[0m \u001b[1m1s\u001b[0m 171ms/step - accuracy: 0.9052 - false_negatives_21: 3.6250 - false_positives_21: 10.2500 - loss: 0.2950 - precision_21: 0.8948 - recall_21: 0.9665 - true_negatives_21: 38.3750 - true_positives_21: 82.2500\n",
            "Epoch 20/25\n",
            "\u001b[1m7/7\u001b[0m \u001b[32m━━━━━━━━━━━━━━━━━━━━\u001b[0m\u001b[37m\u001b[0m \u001b[1m1s\u001b[0m 174ms/step - accuracy: 0.8929 - false_negatives_21: 4.2500 - false_positives_21: 11.2500 - loss: 0.2879 - precision_21: 0.8940 - recall_21: 0.9484 - true_negatives_21: 36.2500 - true_positives_21: 82.7500\n",
            "Epoch 21/25\n",
            "\u001b[1m7/7\u001b[0m \u001b[32m━━━━━━━━━━━━━━━━━━━━\u001b[0m\u001b[37m\u001b[0m \u001b[1m1s\u001b[0m 172ms/step - accuracy: 0.8568 - false_negatives_21: 10.1250 - false_positives_21: 8.7500 - loss: 0.3268 - precision_21: 0.8839 - recall_21: 0.8915 - true_negatives_21: 39.7500 - true_positives_21: 75.8750\n",
            "Epoch 22/25\n",
            "\u001b[1m7/7\u001b[0m \u001b[32m━━━━━━━━━━━━━━━━━━━━\u001b[0m\u001b[37m\u001b[0m \u001b[1m1s\u001b[0m 170ms/step - accuracy: 0.8583 - false_negatives_21: 5.2500 - false_positives_21: 12.2500 - loss: 0.3140 - precision_21: 0.8537 - recall_21: 0.9251 - true_negatives_21: 37.7500 - true_positives_21: 79.2500\n",
            "Epoch 23/25\n",
            "\u001b[1m7/7\u001b[0m \u001b[32m━━━━━━━━━━━━━━━━━━━━\u001b[0m\u001b[37m\u001b[0m \u001b[1m1s\u001b[0m 171ms/step - accuracy: 0.8886 - false_negatives_21: 6.5000 - false_positives_21: 7.7500 - loss: 0.2895 - precision_21: 0.8933 - recall_21: 0.9262 - true_negatives_21: 43.0000 - true_positives_21: 77.2500\n",
            "Epoch 24/25\n",
            "\u001b[1m7/7\u001b[0m \u001b[32m━━━━━━━━━━━━━━━━━━━━\u001b[0m\u001b[37m\u001b[0m \u001b[1m1s\u001b[0m 170ms/step - accuracy: 0.9198 - false_negatives_21: 3.1250 - false_positives_21: 8.3750 - loss: 0.2541 - precision_21: 0.9136 - recall_21: 0.9674 - true_negatives_21: 39.0000 - true_positives_21: 84.0000\n",
            "Epoch 25/25\n",
            "\u001b[1m7/7\u001b[0m \u001b[32m━━━━━━━━━━━━━━━━━━━━\u001b[0m\u001b[37m\u001b[0m \u001b[1m1s\u001b[0m 171ms/step - accuracy: 0.8792 - false_negatives_21: 8.8750 - false_positives_21: 6.6250 - loss: 0.2967 - precision_21: 0.9185 - recall_21: 0.8908 - true_negatives_21: 42.1250 - true_positives_21: 76.8750\n"
          ]
        }
      ],
      "source": [
        "v_model.compile(optimizer=Adam(), loss=BinaryCrossentropy(), metrics=[BinaryAccuracy(threshold=0.5, name=\"accuracy\"), Recall(), Precision(), TruePositives(), TrueNegatives(), FalsePositives(), FalseNegatives()])\n",
        "vgg_fit_history = v_model.fit(c_X_train, c_y_train, epochs=25)"
      ]
    },
    {
      "cell_type": "code",
      "execution_count": 115,
      "metadata": {
        "colab": {
          "base_uri": "https://localhost:8080/"
        },
        "id": "tu7iRlRsyxQV",
        "outputId": "65d763cb-45ea-4eaf-82ec-b4c9167fafd0"
      },
      "outputs": [
        {
          "name": "stdout",
          "output_type": "stream",
          "text": [
            "\u001b[1m2/2\u001b[0m \u001b[32m━━━━━━━━━━━━━━━━━━━━\u001b[0m\u001b[37m\u001b[0m \u001b[1m2s\u001b[0m 588ms/step - accuracy: 0.7598 - false_negatives_21: 3.6667 - false_positives_21: 7.0000 - loss: 0.4461 - precision_21: 0.7402 - recall_21: 0.8424 - true_negatives_21: 14.0000 - true_positives_21: 20.0000\n",
            "Loss:  0.43\n",
            "Accuracy:  0.76\n",
            "Recall:  0.85\n",
            "Precision:  0.74\n",
            "True Positives:  23\n",
            "True Negatives:  16\n",
            "False Positives:  8\n",
            "False Negatives:  4\n"
          ]
        }
      ],
      "source": [
        "vgg_model_metrics = v_model.evaluate(c_X_test, c_y_test)\n",
        "model_evaluation(vgg_model_metrics)"
      ]
    },
    {
      "cell_type": "markdown",
      "metadata": {
        "id": "QxkHBSNJzu89"
      },
      "source": [
        "####  2.b- VGG19\n"
      ]
    },
    {
      "cell_type": "code",
      "execution_count": 116,
      "metadata": {
        "colab": {
          "base_uri": "https://localhost:8080/",
          "height": 337
        },
        "id": "JrnubHpfz4my",
        "outputId": "5f786f20-7667-44f4-d078-e51c4ab5c824"
      },
      "outputs": [
        {
          "data": {
            "text/html": [
              "<pre style=\"white-space:pre;overflow-x:auto;line-height:normal;font-family:Menlo,'DejaVu Sans Mono',consolas,'Courier New',monospace\"><span style=\"font-weight: bold\">Model: \"VGG19_Model\"</span>\n",
              "</pre>\n"
            ],
            "text/plain": [
              "\u001b[1mModel: \"VGG19_Model\"\u001b[0m\n"
            ]
          },
          "metadata": {},
          "output_type": "display_data"
        },
        {
          "data": {
            "text/html": [
              "<pre style=\"white-space:pre;overflow-x:auto;line-height:normal;font-family:Menlo,'DejaVu Sans Mono',consolas,'Courier New',monospace\">┏━━━━━━━━━━━━━━━━━━━━━━━━━━━━━━━━━┳━━━━━━━━━━━━━━━━━━━━━━━━┳━━━━━━━━━━━━━━━┓\n",
              "┃<span style=\"font-weight: bold\"> Layer (type)                    </span>┃<span style=\"font-weight: bold\"> Output Shape           </span>┃<span style=\"font-weight: bold\">       Param # </span>┃\n",
              "┡━━━━━━━━━━━━━━━━━━━━━━━━━━━━━━━━━╇━━━━━━━━━━━━━━━━━━━━━━━━╇━━━━━━━━━━━━━━━┩\n",
              "│ vgg16 (<span style=\"color: #0087ff; text-decoration-color: #0087ff\">Functional</span>)              │ (<span style=\"color: #00d7ff; text-decoration-color: #00d7ff\">None</span>, <span style=\"color: #00af00; text-decoration-color: #00af00\">7</span>, <span style=\"color: #00af00; text-decoration-color: #00af00\">7</span>, <span style=\"color: #00af00; text-decoration-color: #00af00\">512</span>)      │    <span style=\"color: #00af00; text-decoration-color: #00af00\">14,714,688</span> │\n",
              "├─────────────────────────────────┼────────────────────────┼───────────────┤\n",
              "│ Flatten_layer                   │ (<span style=\"color: #00d7ff; text-decoration-color: #00d7ff\">None</span>, <span style=\"color: #00af00; text-decoration-color: #00af00\">512</span>)            │             <span style=\"color: #00af00; text-decoration-color: #00af00\">0</span> │\n",
              "│ (<span style=\"color: #0087ff; text-decoration-color: #0087ff\">GlobalAveragePooling2D</span>)        │                        │               │\n",
              "├─────────────────────────────────┼────────────────────────┼───────────────┤\n",
              "│ FC-1 (<span style=\"color: #0087ff; text-decoration-color: #0087ff\">Dense</span>)                    │ (<span style=\"color: #00d7ff; text-decoration-color: #00d7ff\">None</span>, <span style=\"color: #00af00; text-decoration-color: #00af00\">128</span>)            │        <span style=\"color: #00af00; text-decoration-color: #00af00\">65,664</span> │\n",
              "├─────────────────────────────────┼────────────────────────┼───────────────┤\n",
              "│ Dropout_layer (<span style=\"color: #0087ff; text-decoration-color: #0087ff\">Dropout</span>)         │ (<span style=\"color: #00d7ff; text-decoration-color: #00d7ff\">None</span>, <span style=\"color: #00af00; text-decoration-color: #00af00\">128</span>)            │             <span style=\"color: #00af00; text-decoration-color: #00af00\">0</span> │\n",
              "├─────────────────────────────────┼────────────────────────┼───────────────┤\n",
              "│ FC-2 (<span style=\"color: #0087ff; text-decoration-color: #0087ff\">Dense</span>)                    │ (<span style=\"color: #00d7ff; text-decoration-color: #00d7ff\">None</span>, <span style=\"color: #00af00; text-decoration-color: #00af00\">64</span>)             │         <span style=\"color: #00af00; text-decoration-color: #00af00\">8,256</span> │\n",
              "├─────────────────────────────────┼────────────────────────┼───────────────┤\n",
              "│ Output_Layer (<span style=\"color: #0087ff; text-decoration-color: #0087ff\">Dense</span>)            │ (<span style=\"color: #00d7ff; text-decoration-color: #00d7ff\">None</span>, <span style=\"color: #00af00; text-decoration-color: #00af00\">1</span>)              │            <span style=\"color: #00af00; text-decoration-color: #00af00\">65</span> │\n",
              "└─────────────────────────────────┴────────────────────────┴───────────────┘\n",
              "</pre>\n"
            ],
            "text/plain": [
              "┏━━━━━━━━━━━━━━━━━━━━━━━━━━━━━━━━━┳━━━━━━━━━━━━━━━━━━━━━━━━┳━━━━━━━━━━━━━━━┓\n",
              "┃\u001b[1m \u001b[0m\u001b[1mLayer (type)                   \u001b[0m\u001b[1m \u001b[0m┃\u001b[1m \u001b[0m\u001b[1mOutput Shape          \u001b[0m\u001b[1m \u001b[0m┃\u001b[1m \u001b[0m\u001b[1m      Param #\u001b[0m\u001b[1m \u001b[0m┃\n",
              "┡━━━━━━━━━━━━━━━━━━━━━━━━━━━━━━━━━╇━━━━━━━━━━━━━━━━━━━━━━━━╇━━━━━━━━━━━━━━━┩\n",
              "│ vgg16 (\u001b[38;5;33mFunctional\u001b[0m)              │ (\u001b[38;5;45mNone\u001b[0m, \u001b[38;5;34m7\u001b[0m, \u001b[38;5;34m7\u001b[0m, \u001b[38;5;34m512\u001b[0m)      │    \u001b[38;5;34m14,714,688\u001b[0m │\n",
              "├─────────────────────────────────┼────────────────────────┼───────────────┤\n",
              "│ Flatten_layer                   │ (\u001b[38;5;45mNone\u001b[0m, \u001b[38;5;34m512\u001b[0m)            │             \u001b[38;5;34m0\u001b[0m │\n",
              "│ (\u001b[38;5;33mGlobalAveragePooling2D\u001b[0m)        │                        │               │\n",
              "├─────────────────────────────────┼────────────────────────┼───────────────┤\n",
              "│ FC-1 (\u001b[38;5;33mDense\u001b[0m)                    │ (\u001b[38;5;45mNone\u001b[0m, \u001b[38;5;34m128\u001b[0m)            │        \u001b[38;5;34m65,664\u001b[0m │\n",
              "├─────────────────────────────────┼────────────────────────┼───────────────┤\n",
              "│ Dropout_layer (\u001b[38;5;33mDropout\u001b[0m)         │ (\u001b[38;5;45mNone\u001b[0m, \u001b[38;5;34m128\u001b[0m)            │             \u001b[38;5;34m0\u001b[0m │\n",
              "├─────────────────────────────────┼────────────────────────┼───────────────┤\n",
              "│ FC-2 (\u001b[38;5;33mDense\u001b[0m)                    │ (\u001b[38;5;45mNone\u001b[0m, \u001b[38;5;34m64\u001b[0m)             │         \u001b[38;5;34m8,256\u001b[0m │\n",
              "├─────────────────────────────────┼────────────────────────┼───────────────┤\n",
              "│ Output_Layer (\u001b[38;5;33mDense\u001b[0m)            │ (\u001b[38;5;45mNone\u001b[0m, \u001b[38;5;34m1\u001b[0m)              │            \u001b[38;5;34m65\u001b[0m │\n",
              "└─────────────────────────────────┴────────────────────────┴───────────────┘\n"
            ]
          },
          "metadata": {},
          "output_type": "display_data"
        },
        {
          "data": {
            "text/html": [
              "<pre style=\"white-space:pre;overflow-x:auto;line-height:normal;font-family:Menlo,'DejaVu Sans Mono',consolas,'Courier New',monospace\"><span style=\"font-weight: bold\"> Total params: </span><span style=\"color: #00af00; text-decoration-color: #00af00\">14,788,673</span> (56.41 MB)\n",
              "</pre>\n"
            ],
            "text/plain": [
              "\u001b[1m Total params: \u001b[0m\u001b[38;5;34m14,788,673\u001b[0m (56.41 MB)\n"
            ]
          },
          "metadata": {},
          "output_type": "display_data"
        },
        {
          "data": {
            "text/html": [
              "<pre style=\"white-space:pre;overflow-x:auto;line-height:normal;font-family:Menlo,'DejaVu Sans Mono',consolas,'Courier New',monospace\"><span style=\"font-weight: bold\"> Trainable params: </span><span style=\"color: #00af00; text-decoration-color: #00af00\">73,985</span> (289.00 KB)\n",
              "</pre>\n"
            ],
            "text/plain": [
              "\u001b[1m Trainable params: \u001b[0m\u001b[38;5;34m73,985\u001b[0m (289.00 KB)\n"
            ]
          },
          "metadata": {},
          "output_type": "display_data"
        },
        {
          "data": {
            "text/html": [
              "<pre style=\"white-space:pre;overflow-x:auto;line-height:normal;font-family:Menlo,'DejaVu Sans Mono',consolas,'Courier New',monospace\"><span style=\"font-weight: bold\"> Non-trainable params: </span><span style=\"color: #00af00; text-decoration-color: #00af00\">14,714,688</span> (56.13 MB)\n",
              "</pre>\n"
            ],
            "text/plain": [
              "\u001b[1m Non-trainable params: \u001b[0m\u001b[38;5;34m14,714,688\u001b[0m (56.13 MB)\n"
            ]
          },
          "metadata": {},
          "output_type": "display_data"
        }
      ],
      "source": [
        "from os import name\n",
        "vgg_model_19 = tf.keras.applications.VGG19(input_shape=input_shape, weights='imagenet', include_top=False)\n",
        "vgg_model_19.trainable = False\n",
        "v_19_model = Sequential(name=\"VGG19_Model\")\n",
        "v_19_model.add(vgg_model)\n",
        "v_19_model.add(GlobalAveragePooling2D(name=\"Flatten_layer\"))\n",
        "v_19_model.add(Dense(128, activation=\"relu\", name=\"FC-1\"))\n",
        "v_19_model.add(Dropout(0.2, name=\"Dropout_layer\"))\n",
        "v_19_model.add(Dense(64, activation=\"relu\", name=\"FC-2\"))\n",
        "v_19_model.add(Dense(1, activation=\"sigmoid\", name=\"Output_Layer\"))\n",
        "v_19_model.summary()"
      ]
    },
    {
      "cell_type": "code",
      "execution_count": 117,
      "metadata": {
        "colab": {
          "base_uri": "https://localhost:8080/"
        },
        "id": "voAKJsap0v3P",
        "outputId": "9ba5b364-9912-4da8-b641-2fb528549bfc"
      },
      "outputs": [
        {
          "name": "stdout",
          "output_type": "stream",
          "text": [
            "Epoch 1/25\n",
            "\u001b[1m7/7\u001b[0m \u001b[32m━━━━━━━━━━━━━━━━━━━━\u001b[0m\u001b[37m\u001b[0m \u001b[1m7s\u001b[0m 371ms/step - accuracy: 0.5449 - false_negatives_22: 21.5000 - false_positives_22: 35.1250 - loss: 0.6770 - precision_22: 0.5833 - recall_22: 0.6246 - true_negatives_22: 16.8750 - true_positives_22: 61.0000\n",
            "Epoch 2/25\n",
            "\u001b[1m7/7\u001b[0m \u001b[32m━━━━━━━━━━━━━━━━━━━━\u001b[0m\u001b[37m\u001b[0m \u001b[1m1s\u001b[0m 163ms/step - accuracy: 0.5949 - false_negatives_22: 0.0000e+00 - false_positives_22: 50.8750 - loss: 0.6943 - precision_22: 0.5922 - recall_22: 1.0000 - true_negatives_22: 1.3750 - true_positives_22: 82.2500\n",
            "Epoch 3/25\n",
            "\u001b[1m7/7\u001b[0m \u001b[32m━━━━━━━━━━━━━━━━━━━━\u001b[0m\u001b[37m\u001b[0m \u001b[1m1s\u001b[0m 162ms/step - accuracy: 0.6485 - false_negatives_22: 3.1250 - false_positives_22: 43.2500 - loss: 0.5995 - precision_22: 0.6476 - recall_22: 0.9551 - true_negatives_22: 7.2500 - true_positives_22: 80.8750\n",
            "Epoch 4/25\n",
            "\u001b[1m7/7\u001b[0m \u001b[32m━━━━━━━━━━━━━━━━━━━━\u001b[0m\u001b[37m\u001b[0m \u001b[1m1s\u001b[0m 160ms/step - accuracy: 0.6693 - false_negatives_22: 0.0000e+00 - false_positives_22: 43.6250 - loss: 0.5536 - precision_22: 0.6510 - recall_22: 1.0000 - true_negatives_22: 7.0000 - true_positives_22: 83.8750\n",
            "Epoch 5/25\n",
            "\u001b[1m7/7\u001b[0m \u001b[32m━━━━━━━━━━━━━━━━━━━━\u001b[0m\u001b[37m\u001b[0m \u001b[1m1s\u001b[0m 161ms/step - accuracy: 0.7662 - false_negatives_22: 0.3750 - false_positives_22: 33.0000 - loss: 0.5066 - precision_22: 0.7439 - recall_22: 0.9970 - true_negatives_22: 13.1250 - true_positives_22: 88.0000\n",
            "Epoch 6/25\n",
            "\u001b[1m7/7\u001b[0m \u001b[32m━━━━━━━━━━━━━━━━━━━━\u001b[0m\u001b[37m\u001b[0m \u001b[1m1s\u001b[0m 161ms/step - accuracy: 0.8115 - false_negatives_22: 10.7500 - false_positives_22: 14.2500 - loss: 0.4993 - precision_22: 0.8340 - recall_22: 0.8730 - true_negatives_22: 36.2500 - true_positives_22: 73.2500\n",
            "Epoch 7/25\n",
            "\u001b[1m7/7\u001b[0m \u001b[32m━━━━━━━━━━━━━━━━━━━━\u001b[0m\u001b[37m\u001b[0m \u001b[1m1s\u001b[0m 162ms/step - accuracy: 0.7433 - false_negatives_22: 1.0000 - false_positives_22: 30.7500 - loss: 0.5201 - precision_22: 0.7111 - recall_22: 0.9921 - true_negatives_22: 19.6250 - true_positives_22: 83.1250\n",
            "Epoch 8/25\n",
            "\u001b[1m7/7\u001b[0m \u001b[32m━━━━━━━━━━━━━━━━━━━━\u001b[0m\u001b[37m\u001b[0m \u001b[1m1s\u001b[0m 168ms/step - accuracy: 0.8525 - false_negatives_22: 7.0000 - false_positives_22: 13.3750 - loss: 0.4195 - precision_22: 0.8538 - recall_22: 0.9201 - true_negatives_22: 37.2500 - true_positives_22: 76.8750\n",
            "Epoch 9/25\n",
            "\u001b[1m7/7\u001b[0m \u001b[32m━━━━━━━━━━━━━━━━━━━━\u001b[0m\u001b[37m\u001b[0m \u001b[1m1s\u001b[0m 166ms/step - accuracy: 0.8262 - false_negatives_22: 4.5000 - false_positives_22: 17.3750 - loss: 0.4225 - precision_22: 0.8021 - recall_22: 0.9453 - true_negatives_22: 32.7500 - true_positives_22: 79.8750\n",
            "Epoch 10/25\n",
            "\u001b[1m7/7\u001b[0m \u001b[32m━━━━━━━━━━━━━━━━━━━━\u001b[0m\u001b[37m\u001b[0m \u001b[1m1s\u001b[0m 164ms/step - accuracy: 0.8299 - false_negatives_22: 6.3750 - false_positives_22: 14.8750 - loss: 0.3706 - precision_22: 0.8320 - recall_22: 0.9165 - true_negatives_22: 34.1250 - true_positives_22: 79.1250\n",
            "Epoch 11/25\n",
            "\u001b[1m7/7\u001b[0m \u001b[32m━━━━━━━━━━━━━━━━━━━━\u001b[0m\u001b[37m\u001b[0m \u001b[1m1s\u001b[0m 163ms/step - accuracy: 0.8798 - false_negatives_22: 6.5000 - false_positives_22: 9.7500 - loss: 0.3494 - precision_22: 0.8892 - recall_22: 0.9216 - true_negatives_22: 40.0000 - true_positives_22: 78.2500\n",
            "Epoch 12/25\n",
            "\u001b[1m7/7\u001b[0m \u001b[32m━━━━━━━━━━━━━━━━━━━━\u001b[0m\u001b[37m\u001b[0m \u001b[1m1s\u001b[0m 164ms/step - accuracy: 0.8637 - false_negatives_22: 7.1250 - false_positives_22: 11.6250 - loss: 0.3381 - precision_22: 0.8717 - recall_22: 0.9252 - true_negatives_22: 36.0000 - true_positives_22: 79.7500\n",
            "Epoch 13/25\n",
            "\u001b[1m7/7\u001b[0m \u001b[32m━━━━━━━━━━━━━━━━━━━━\u001b[0m\u001b[37m\u001b[0m \u001b[1m1s\u001b[0m 165ms/step - accuracy: 0.8512 - false_negatives_22: 9.3750 - false_positives_22: 9.7500 - loss: 0.3570 - precision_22: 0.8735 - recall_22: 0.8941 - true_negatives_22: 40.5000 - true_positives_22: 74.8750\n",
            "Epoch 14/25\n",
            "\u001b[1m7/7\u001b[0m \u001b[32m━━━━━━━━━━━━━━━━━━━━\u001b[0m\u001b[37m\u001b[0m \u001b[1m1s\u001b[0m 163ms/step - accuracy: 0.8711 - false_negatives_22: 1.2500 - false_positives_22: 17.0000 - loss: 0.2930 - precision_22: 0.8429 - recall_22: 0.9895 - true_negatives_22: 29.7500 - true_positives_22: 86.5000\n",
            "Epoch 15/25\n",
            "\u001b[1m7/7\u001b[0m \u001b[32m━━━━━━━━━━━━━━━━━━━━\u001b[0m\u001b[37m\u001b[0m \u001b[1m1s\u001b[0m 165ms/step - accuracy: 0.8407 - false_negatives_22: 12.8750 - false_positives_22: 8.0000 - loss: 0.3632 - precision_22: 0.8973 - recall_22: 0.8487 - true_negatives_22: 41.1250 - true_positives_22: 72.5000\n",
            "Epoch 16/25\n",
            "\u001b[1m7/7\u001b[0m \u001b[32m━━━━━━━━━━━━━━━━━━━━\u001b[0m\u001b[37m\u001b[0m \u001b[1m1s\u001b[0m 165ms/step - accuracy: 0.8496 - false_negatives_22: 1.2500 - false_positives_22: 19.6250 - loss: 0.3535 - precision_22: 0.8176 - recall_22: 0.9864 - true_negatives_22: 29.2500 - true_positives_22: 84.3750\n",
            "Epoch 17/25\n",
            "\u001b[1m7/7\u001b[0m \u001b[32m━━━━━━━━━━━━━━━━━━━━\u001b[0m\u001b[37m\u001b[0m \u001b[1m1s\u001b[0m 172ms/step - accuracy: 0.8599 - false_negatives_22: 9.8750 - false_positives_22: 7.8750 - loss: 0.3157 - precision_22: 0.9136 - recall_22: 0.8687 - true_negatives_22: 40.1250 - true_positives_22: 76.6250\n",
            "Epoch 18/25\n",
            "\u001b[1m7/7\u001b[0m \u001b[32m━━━━━━━━━━━━━━━━━━━━\u001b[0m\u001b[37m\u001b[0m \u001b[1m1s\u001b[0m 171ms/step - accuracy: 0.8831 - false_negatives_22: 4.6250 - false_positives_22: 11.0000 - loss: 0.2871 - precision_22: 0.8782 - recall_22: 0.9470 - true_negatives_22: 38.6250 - true_positives_22: 80.2500\n",
            "Epoch 19/25\n",
            "\u001b[1m7/7\u001b[0m \u001b[32m━━━━━━━━━━━━━━━━━━━━\u001b[0m\u001b[37m\u001b[0m \u001b[1m1s\u001b[0m 167ms/step - accuracy: 0.8812 - false_negatives_22: 6.1250 - false_positives_22: 10.0000 - loss: 0.2708 - precision_22: 0.8960 - recall_22: 0.9220 - true_negatives_22: 38.6250 - true_positives_22: 79.7500\n",
            "Epoch 20/25\n",
            "\u001b[1m7/7\u001b[0m \u001b[32m━━━━━━━━━━━━━━━━━━━━\u001b[0m\u001b[37m\u001b[0m \u001b[1m1s\u001b[0m 167ms/step - accuracy: 0.9053 - false_negatives_22: 5.6250 - false_positives_22: 8.0000 - loss: 0.2487 - precision_22: 0.9194 - recall_22: 0.9378 - true_negatives_22: 39.5000 - true_positives_22: 81.3750\n",
            "Epoch 21/25\n",
            "\u001b[1m7/7\u001b[0m \u001b[32m━━━━━━━━━━━━━━━━━━━━\u001b[0m\u001b[37m\u001b[0m \u001b[1m1s\u001b[0m 168ms/step - accuracy: 0.9226 - false_negatives_22: 3.3750 - false_positives_22: 7.2500 - loss: 0.2220 - precision_22: 0.9305 - recall_22: 0.9507 - true_negatives_22: 41.5000 - true_positives_22: 82.3750\n",
            "Epoch 22/25\n",
            "\u001b[1m7/7\u001b[0m \u001b[32m━━━━━━━━━━━━━━━━━━━━\u001b[0m\u001b[37m\u001b[0m \u001b[1m1s\u001b[0m 169ms/step - accuracy: 0.9070 - false_negatives_22: 6.2500 - false_positives_22: 7.5000 - loss: 0.2232 - precision_22: 0.9341 - recall_22: 0.9220 - true_negatives_22: 40.8750 - true_positives_22: 79.8750\n",
            "Epoch 23/25\n",
            "\u001b[1m7/7\u001b[0m \u001b[32m━━━━━━━━━━━━━━━━━━━━\u001b[0m\u001b[37m\u001b[0m \u001b[1m1s\u001b[0m 168ms/step - accuracy: 0.8673 - false_negatives_22: 14.5000 - false_positives_22: 3.7500 - loss: 0.2821 - precision_22: 0.9463 - recall_22: 0.8322 - true_negatives_22: 46.8750 - true_positives_22: 69.3750\n",
            "Epoch 24/25\n",
            "\u001b[1m7/7\u001b[0m \u001b[32m━━━━━━━━━━━━━━━━━━━━\u001b[0m\u001b[37m\u001b[0m \u001b[1m1s\u001b[0m 170ms/step - accuracy: 0.8836 - false_negatives_22: 0.7500 - false_positives_22: 14.7500 - loss: 0.2942 - precision_22: 0.8499 - recall_22: 0.9938 - true_negatives_22: 34.2500 - true_positives_22: 84.7500\n",
            "Epoch 25/25\n",
            "\u001b[1m7/7\u001b[0m \u001b[32m━━━━━━━━━━━━━━━━━━━━\u001b[0m\u001b[37m\u001b[0m \u001b[1m1s\u001b[0m 168ms/step - accuracy: 0.8872 - false_negatives_22: 11.1250 - false_positives_22: 2.7500 - loss: 0.2708 - precision_22: 0.9662 - recall_22: 0.8446 - true_negatives_22: 47.8750 - true_positives_22: 72.7500\n"
          ]
        }
      ],
      "source": [
        "v_19_model.compile(optimizer=Adam(), loss=BinaryCrossentropy(), metrics=[BinaryAccuracy(threshold=0.5, name=\"accuracy\"), Recall(), Precision(), TruePositives(), TrueNegatives(), FalsePositives(), FalseNegatives()])\n",
        "vgg_19_fit_history = v_19_model.fit(c_X_train, c_y_train, epochs=25)"
      ]
    },
    {
      "cell_type": "code",
      "execution_count": 118,
      "metadata": {
        "colab": {
          "base_uri": "https://localhost:8080/"
        },
        "id": "44EG76UF1Nei",
        "outputId": "dcb61730-f1a5-4f49-ed7d-952edb1c30a1"
      },
      "outputs": [
        {
          "name": "stdout",
          "output_type": "stream",
          "text": [
            "\u001b[1m2/2\u001b[0m \u001b[32m━━━━━━━━━━━━━━━━━━━━\u001b[0m\u001b[37m\u001b[0m \u001b[1m2s\u001b[0m 722ms/step - accuracy: 0.7702 - false_negatives_22: 0.0000e+00 - false_positives_22: 10.3333 - loss: 0.5313 - precision_22: 0.6976 - recall_22: 1.0000 - true_negatives_22: 10.6667 - true_positives_22: 23.6667\n",
            "Loss:  0.51\n",
            "Accuracy:  0.76\n",
            "Recall:  1.0\n",
            "Precision:  0.69\n",
            "True Positives:  27\n",
            "True Negatives:  12\n",
            "False Positives:  12\n",
            "False Negatives:  0\n"
          ]
        }
      ],
      "source": [
        "vgg_19_model_metrics = v_19_model.evaluate(c_X_test, c_y_test)\n",
        "model_evaluation(vgg_19_model_metrics)"
      ]
    },
    {
      "cell_type": "markdown",
      "metadata": {
        "id": "4jl9kKeh1vr5"
      },
      "source": [
        "##### 3- Inception"
      ]
    },
    {
      "cell_type": "code",
      "execution_count": 119,
      "metadata": {
        "id": "8-7scfB510VZ"
      },
      "outputs": [],
      "source": [
        "inception = tf.keras.applications.InceptionV3(input_shape=input_shape, weights='imagenet', include_top=False)\n",
        "inception.trainable = False"
      ]
    },
    {
      "cell_type": "code",
      "execution_count": 120,
      "metadata": {
        "colab": {
          "base_uri": "https://localhost:8080/",
          "height": 337
        },
        "id": "PMY1QCqz2Dat",
        "outputId": "b233baa4-9ac6-443a-e1d7-d89e45d46062"
      },
      "outputs": [
        {
          "data": {
            "text/html": [
              "<pre style=\"white-space:pre;overflow-x:auto;line-height:normal;font-family:Menlo,'DejaVu Sans Mono',consolas,'Courier New',monospace\"><span style=\"font-weight: bold\">Model: \"sequential_9\"</span>\n",
              "</pre>\n"
            ],
            "text/plain": [
              "\u001b[1mModel: \"sequential_9\"\u001b[0m\n"
            ]
          },
          "metadata": {},
          "output_type": "display_data"
        },
        {
          "data": {
            "text/html": [
              "<pre style=\"white-space:pre;overflow-x:auto;line-height:normal;font-family:Menlo,'DejaVu Sans Mono',consolas,'Courier New',monospace\">┏━━━━━━━━━━━━━━━━━━━━━━━━━━━━━━━━━┳━━━━━━━━━━━━━━━━━━━━━━━━┳━━━━━━━━━━━━━━━┓\n",
              "┃<span style=\"font-weight: bold\"> Layer (type)                    </span>┃<span style=\"font-weight: bold\"> Output Shape           </span>┃<span style=\"font-weight: bold\">       Param # </span>┃\n",
              "┡━━━━━━━━━━━━━━━━━━━━━━━━━━━━━━━━━╇━━━━━━━━━━━━━━━━━━━━━━━━╇━━━━━━━━━━━━━━━┩\n",
              "│ inception_v3 (<span style=\"color: #0087ff; text-decoration-color: #0087ff\">Functional</span>)       │ (<span style=\"color: #00d7ff; text-decoration-color: #00d7ff\">None</span>, <span style=\"color: #00af00; text-decoration-color: #00af00\">5</span>, <span style=\"color: #00af00; text-decoration-color: #00af00\">5</span>, <span style=\"color: #00af00; text-decoration-color: #00af00\">2048</span>)     │    <span style=\"color: #00af00; text-decoration-color: #00af00\">21,802,784</span> │\n",
              "├─────────────────────────────────┼────────────────────────┼───────────────┤\n",
              "│ global_average_pooling2d_14     │ (<span style=\"color: #00d7ff; text-decoration-color: #00d7ff\">None</span>, <span style=\"color: #00af00; text-decoration-color: #00af00\">2048</span>)           │             <span style=\"color: #00af00; text-decoration-color: #00af00\">0</span> │\n",
              "│ (<span style=\"color: #0087ff; text-decoration-color: #0087ff\">GlobalAveragePooling2D</span>)        │                        │               │\n",
              "├─────────────────────────────────┼────────────────────────┼───────────────┤\n",
              "│ dense_48 (<span style=\"color: #0087ff; text-decoration-color: #0087ff\">Dense</span>)                │ (<span style=\"color: #00d7ff; text-decoration-color: #00d7ff\">None</span>, <span style=\"color: #00af00; text-decoration-color: #00af00\">128</span>)            │       <span style=\"color: #00af00; text-decoration-color: #00af00\">262,272</span> │\n",
              "├─────────────────────────────────┼────────────────────────┼───────────────┤\n",
              "│ dropout_20 (<span style=\"color: #0087ff; text-decoration-color: #0087ff\">Dropout</span>)            │ (<span style=\"color: #00d7ff; text-decoration-color: #00d7ff\">None</span>, <span style=\"color: #00af00; text-decoration-color: #00af00\">128</span>)            │             <span style=\"color: #00af00; text-decoration-color: #00af00\">0</span> │\n",
              "├─────────────────────────────────┼────────────────────────┼───────────────┤\n",
              "│ dense_49 (<span style=\"color: #0087ff; text-decoration-color: #0087ff\">Dense</span>)                │ (<span style=\"color: #00d7ff; text-decoration-color: #00d7ff\">None</span>, <span style=\"color: #00af00; text-decoration-color: #00af00\">64</span>)             │         <span style=\"color: #00af00; text-decoration-color: #00af00\">8,256</span> │\n",
              "├─────────────────────────────────┼────────────────────────┼───────────────┤\n",
              "│ dense_50 (<span style=\"color: #0087ff; text-decoration-color: #0087ff\">Dense</span>)                │ (<span style=\"color: #00d7ff; text-decoration-color: #00d7ff\">None</span>, <span style=\"color: #00af00; text-decoration-color: #00af00\">1</span>)              │            <span style=\"color: #00af00; text-decoration-color: #00af00\">65</span> │\n",
              "└─────────────────────────────────┴────────────────────────┴───────────────┘\n",
              "</pre>\n"
            ],
            "text/plain": [
              "┏━━━━━━━━━━━━━━━━━━━━━━━━━━━━━━━━━┳━━━━━━━━━━━━━━━━━━━━━━━━┳━━━━━━━━━━━━━━━┓\n",
              "┃\u001b[1m \u001b[0m\u001b[1mLayer (type)                   \u001b[0m\u001b[1m \u001b[0m┃\u001b[1m \u001b[0m\u001b[1mOutput Shape          \u001b[0m\u001b[1m \u001b[0m┃\u001b[1m \u001b[0m\u001b[1m      Param #\u001b[0m\u001b[1m \u001b[0m┃\n",
              "┡━━━━━━━━━━━━━━━━━━━━━━━━━━━━━━━━━╇━━━━━━━━━━━━━━━━━━━━━━━━╇━━━━━━━━━━━━━━━┩\n",
              "│ inception_v3 (\u001b[38;5;33mFunctional\u001b[0m)       │ (\u001b[38;5;45mNone\u001b[0m, \u001b[38;5;34m5\u001b[0m, \u001b[38;5;34m5\u001b[0m, \u001b[38;5;34m2048\u001b[0m)     │    \u001b[38;5;34m21,802,784\u001b[0m │\n",
              "├─────────────────────────────────┼────────────────────────┼───────────────┤\n",
              "│ global_average_pooling2d_14     │ (\u001b[38;5;45mNone\u001b[0m, \u001b[38;5;34m2048\u001b[0m)           │             \u001b[38;5;34m0\u001b[0m │\n",
              "│ (\u001b[38;5;33mGlobalAveragePooling2D\u001b[0m)        │                        │               │\n",
              "├─────────────────────────────────┼────────────────────────┼───────────────┤\n",
              "│ dense_48 (\u001b[38;5;33mDense\u001b[0m)                │ (\u001b[38;5;45mNone\u001b[0m, \u001b[38;5;34m128\u001b[0m)            │       \u001b[38;5;34m262,272\u001b[0m │\n",
              "├─────────────────────────────────┼────────────────────────┼───────────────┤\n",
              "│ dropout_20 (\u001b[38;5;33mDropout\u001b[0m)            │ (\u001b[38;5;45mNone\u001b[0m, \u001b[38;5;34m128\u001b[0m)            │             \u001b[38;5;34m0\u001b[0m │\n",
              "├─────────────────────────────────┼────────────────────────┼───────────────┤\n",
              "│ dense_49 (\u001b[38;5;33mDense\u001b[0m)                │ (\u001b[38;5;45mNone\u001b[0m, \u001b[38;5;34m64\u001b[0m)             │         \u001b[38;5;34m8,256\u001b[0m │\n",
              "├─────────────────────────────────┼────────────────────────┼───────────────┤\n",
              "│ dense_50 (\u001b[38;5;33mDense\u001b[0m)                │ (\u001b[38;5;45mNone\u001b[0m, \u001b[38;5;34m1\u001b[0m)              │            \u001b[38;5;34m65\u001b[0m │\n",
              "└─────────────────────────────────┴────────────────────────┴───────────────┘\n"
            ]
          },
          "metadata": {},
          "output_type": "display_data"
        },
        {
          "data": {
            "text/html": [
              "<pre style=\"white-space:pre;overflow-x:auto;line-height:normal;font-family:Menlo,'DejaVu Sans Mono',consolas,'Courier New',monospace\"><span style=\"font-weight: bold\"> Total params: </span><span style=\"color: #00af00; text-decoration-color: #00af00\">22,073,377</span> (84.20 MB)\n",
              "</pre>\n"
            ],
            "text/plain": [
              "\u001b[1m Total params: \u001b[0m\u001b[38;5;34m22,073,377\u001b[0m (84.20 MB)\n"
            ]
          },
          "metadata": {},
          "output_type": "display_data"
        },
        {
          "data": {
            "text/html": [
              "<pre style=\"white-space:pre;overflow-x:auto;line-height:normal;font-family:Menlo,'DejaVu Sans Mono',consolas,'Courier New',monospace\"><span style=\"font-weight: bold\"> Trainable params: </span><span style=\"color: #00af00; text-decoration-color: #00af00\">270,593</span> (1.03 MB)\n",
              "</pre>\n"
            ],
            "text/plain": [
              "\u001b[1m Trainable params: \u001b[0m\u001b[38;5;34m270,593\u001b[0m (1.03 MB)\n"
            ]
          },
          "metadata": {},
          "output_type": "display_data"
        },
        {
          "data": {
            "text/html": [
              "<pre style=\"white-space:pre;overflow-x:auto;line-height:normal;font-family:Menlo,'DejaVu Sans Mono',consolas,'Courier New',monospace\"><span style=\"font-weight: bold\"> Non-trainable params: </span><span style=\"color: #00af00; text-decoration-color: #00af00\">21,802,784</span> (83.17 MB)\n",
              "</pre>\n"
            ],
            "text/plain": [
              "\u001b[1m Non-trainable params: \u001b[0m\u001b[38;5;34m21,802,784\u001b[0m (83.17 MB)\n"
            ]
          },
          "metadata": {},
          "output_type": "display_data"
        }
      ],
      "source": [
        "inception_model = Sequential()\n",
        "inception_model.add(inception)\n",
        "inception_model.add(GlobalAveragePooling2D())\n",
        "inception_model.add(Dense(128, activation=\"relu\"))\n",
        "inception_model.add(Dropout(0.2))\n",
        "inception_model.add(Dense(64, activation=\"relu\"))\n",
        "inception_model.add(Dense(1, activation=\"sigmoid\"))\n",
        "inception_model.summary()"
      ]
    },
    {
      "cell_type": "code",
      "execution_count": 121,
      "metadata": {
        "colab": {
          "base_uri": "https://localhost:8080/"
        },
        "id": "zBhulYhQ2lK9",
        "outputId": "89390715-04b9-473e-d4e1-57e4712fa86b"
      },
      "outputs": [
        {
          "name": "stdout",
          "output_type": "stream",
          "text": [
            "Epoch 1/25\n",
            "\u001b[1m7/7\u001b[0m \u001b[32m━━━━━━━━━━━━━━━━━━━━\u001b[0m\u001b[37m\u001b[0m \u001b[1m19s\u001b[0m 782ms/step - accuracy: 0.6206 - false_negatives_23: 22.5000 - false_positives_23: 27.3750 - loss: 0.6831 - precision_23: 0.6977 - recall_23: 0.7273 - true_negatives_23: 20.8750 - true_positives_23: 63.7500\n",
            "Epoch 2/25\n",
            "\u001b[1m7/7\u001b[0m \u001b[32m━━━━━━━━━━━━━━━━━━━━\u001b[0m\u001b[37m\u001b[0m \u001b[1m1s\u001b[0m 73ms/step - accuracy: 0.7715 - false_negatives_23: 2.5000 - false_positives_23: 27.0000 - loss: 0.4444 - precision_23: 0.7448 - recall_23: 0.9664 - true_negatives_23: 21.8750 - true_positives_23: 83.1250\n",
            "Epoch 3/25\n",
            "\u001b[1m7/7\u001b[0m \u001b[32m━━━━━━━━━━━━━━━━━━━━\u001b[0m\u001b[37m\u001b[0m \u001b[1m1s\u001b[0m 68ms/step - accuracy: 0.8418 - false_negatives_23: 13.0000 - false_positives_23: 7.5000 - loss: 0.3412 - precision_23: 0.9054 - recall_23: 0.8233 - true_negatives_23: 43.2500 - true_positives_23: 70.7500\n",
            "Epoch 4/25\n",
            "\u001b[1m7/7\u001b[0m \u001b[32m━━━━━━━━━━━━━━━━━━━━\u001b[0m\u001b[37m\u001b[0m \u001b[1m1s\u001b[0m 67ms/step - accuracy: 0.8802 - false_negatives_23: 5.3750 - false_positives_23: 10.3750 - loss: 0.3082 - precision_23: 0.8845 - recall_23: 0.9477 - true_negatives_23: 35.1250 - true_positives_23: 83.6250\n",
            "Epoch 5/25\n",
            "\u001b[1m7/7\u001b[0m \u001b[32m━━━━━━━━━━━━━━━━━━━━\u001b[0m\u001b[37m\u001b[0m \u001b[1m1s\u001b[0m 68ms/step - accuracy: 0.9202 - false_negatives_23: 3.5000 - false_positives_23: 8.8750 - loss: 0.1888 - precision_23: 0.9196 - recall_23: 0.9578 - true_negatives_23: 41.5000 - true_positives_23: 80.6250\n",
            "Epoch 6/25\n",
            "\u001b[1m7/7\u001b[0m \u001b[32m━━━━━━━━━━━━━━━━━━━━\u001b[0m\u001b[37m\u001b[0m \u001b[1m1s\u001b[0m 70ms/step - accuracy: 0.9618 - false_negatives_23: 3.6250 - false_positives_23: 2.1250 - loss: 0.1392 - precision_23: 0.9824 - recall_23: 0.9558 - true_negatives_23: 49.5000 - true_positives_23: 79.2500\n",
            "Epoch 7/25\n",
            "\u001b[1m7/7\u001b[0m \u001b[32m━━━━━━━━━━━━━━━━━━━━\u001b[0m\u001b[37m\u001b[0m \u001b[1m1s\u001b[0m 73ms/step - accuracy: 0.9260 - false_negatives_23: 2.2500 - false_positives_23: 6.8750 - loss: 0.1683 - precision_23: 0.9096 - recall_23: 0.9708 - true_negatives_23: 45.2500 - true_positives_23: 80.1250\n",
            "Epoch 8/25\n",
            "\u001b[1m7/7\u001b[0m \u001b[32m━━━━━━━━━━━━━━━━━━━━\u001b[0m\u001b[37m\u001b[0m \u001b[1m1s\u001b[0m 74ms/step - accuracy: 0.9635 - false_negatives_23: 1.8750 - false_positives_23: 3.0000 - loss: 0.1087 - precision_23: 0.9614 - recall_23: 0.9796 - true_negatives_23: 48.7500 - true_positives_23: 80.8750\n",
            "Epoch 9/25\n",
            "\u001b[1m7/7\u001b[0m \u001b[32m━━━━━━━━━━━━━━━━━━━━\u001b[0m\u001b[37m\u001b[0m \u001b[1m1s\u001b[0m 74ms/step - accuracy: 0.9667 - false_negatives_23: 0.5000 - false_positives_23: 4.0000 - loss: 0.1032 - precision_23: 0.9531 - recall_23: 0.9958 - true_negatives_23: 45.2500 - true_positives_23: 84.7500\n",
            "Epoch 10/25\n",
            "\u001b[1m7/7\u001b[0m \u001b[32m━━━━━━━━━━━━━━━━━━━━\u001b[0m\u001b[37m\u001b[0m \u001b[1m1s\u001b[0m 68ms/step - accuracy: 0.9855 - false_negatives_23: 1.3750 - false_positives_23: 0.7500 - loss: 0.0896 - precision_23: 0.9922 - recall_23: 0.9849 - true_negatives_23: 48.0000 - true_positives_23: 84.3750\n",
            "Epoch 11/25\n",
            "\u001b[1m7/7\u001b[0m \u001b[32m━━━━━━━━━━━━━━━━━━━━\u001b[0m\u001b[37m\u001b[0m \u001b[1m0s\u001b[0m 68ms/step - accuracy: 0.9514 - false_negatives_23: 2.1250 - false_positives_23: 4.5000 - loss: 0.0861 - precision_23: 0.9472 - recall_23: 0.9786 - true_negatives_23: 44.0000 - true_positives_23: 83.8750\n",
            "Epoch 12/25\n",
            "\u001b[1m7/7\u001b[0m \u001b[32m━━━━━━━━━━━━━━━━━━━━\u001b[0m\u001b[37m\u001b[0m \u001b[1m0s\u001b[0m 67ms/step - accuracy: 0.9829 - false_negatives_23: 1.0000 - false_positives_23: 1.1250 - loss: 0.0792 - precision_23: 0.9898 - recall_23: 0.9831 - true_negatives_23: 50.0000 - true_positives_23: 82.3750\n",
            "Epoch 13/25\n",
            "\u001b[1m7/7\u001b[0m \u001b[32m━━━━━━━━━━━━━━━━━━━━\u001b[0m\u001b[37m\u001b[0m \u001b[1m1s\u001b[0m 70ms/step - accuracy: 0.9981 - false_negatives_23: 0.3750 - false_positives_23: 0.0000e+00 - loss: 0.0428 - precision_23: 1.0000 - recall_23: 0.9970 - true_negatives_23: 47.8750 - true_positives_23: 86.2500\n",
            "Epoch 14/25\n",
            "\u001b[1m7/7\u001b[0m \u001b[32m━━━━━━━━━━━━━━━━━━━━\u001b[0m\u001b[37m\u001b[0m \u001b[1m1s\u001b[0m 68ms/step - accuracy: 1.0000 - false_negatives_23: 0.0000e+00 - false_positives_23: 0.0000e+00 - loss: 0.0451 - precision_23: 1.0000 - recall_23: 1.0000 - true_negatives_23: 46.7500 - true_positives_23: 87.7500\n",
            "Epoch 15/25\n",
            "\u001b[1m7/7\u001b[0m \u001b[32m━━━━━━━━━━━━━━━━━━━━\u001b[0m\u001b[37m\u001b[0m \u001b[1m0s\u001b[0m 68ms/step - accuracy: 0.9901 - false_negatives_23: 1.5000 - false_positives_23: 0.0000e+00 - loss: 0.0379 - precision_23: 1.0000 - recall_23: 0.9837 - true_negatives_23: 51.8750 - true_positives_23: 81.1250\n",
            "Epoch 16/25\n",
            "\u001b[1m7/7\u001b[0m \u001b[32m━━━━━━━━━━━━━━━━━━━━\u001b[0m\u001b[37m\u001b[0m \u001b[1m1s\u001b[0m 68ms/step - accuracy: 0.9951 - false_negatives_23: 0.2500 - false_positives_23: 0.6250 - loss: 0.0339 - precision_23: 0.9943 - recall_23: 0.9980 - true_negatives_23: 48.6250 - true_positives_23: 85.0000    \n",
            "Epoch 17/25\n",
            "\u001b[1m7/7\u001b[0m \u001b[32m━━━━━━━━━━━━━━━━━━━━\u001b[0m\u001b[37m\u001b[0m \u001b[1m0s\u001b[0m 67ms/step - accuracy: 0.9904 - false_negatives_23: 0.8750 - false_positives_23: 0.5000 - loss: 0.0363 - precision_23: 0.9957 - recall_23: 0.9889 - true_negatives_23: 50.2500 - true_positives_23: 82.8750\n",
            "Epoch 18/25\n",
            "\u001b[1m7/7\u001b[0m \u001b[32m━━━━━━━━━━━━━━━━━━━━\u001b[0m\u001b[37m\u001b[0m \u001b[1m1s\u001b[0m 67ms/step - accuracy: 1.0000 - false_negatives_23: 0.0000e+00 - false_positives_23: 0.0000e+00 - loss: 0.0288 - precision_23: 1.0000 - recall_23: 1.0000 - true_negatives_23: 49.7500 - true_positives_23: 84.7500\n",
            "Epoch 19/25\n",
            "\u001b[1m7/7\u001b[0m \u001b[32m━━━━━━━━━━━━━━━━━━━━\u001b[0m\u001b[37m\u001b[0m \u001b[1m1s\u001b[0m 68ms/step - accuracy: 1.0000 - false_negatives_23: 0.0000e+00 - false_positives_23: 0.0000e+00 - loss: 0.0275 - precision_23: 1.0000 - recall_23: 1.0000 - true_negatives_23: 49.3750 - true_positives_23: 85.1250\n",
            "Epoch 20/25\n",
            "\u001b[1m7/7\u001b[0m \u001b[32m━━━━━━━━━━━━━━━━━━━━\u001b[0m\u001b[37m\u001b[0m \u001b[1m0s\u001b[0m 67ms/step - accuracy: 1.0000 - false_negatives_23: 0.0000e+00 - false_positives_23: 0.0000e+00 - loss: 0.0116 - precision_23: 1.0000 - recall_23: 1.0000 - true_negatives_23: 48.8750 - true_positives_23: 85.6250\n",
            "Epoch 21/25\n",
            "\u001b[1m7/7\u001b[0m \u001b[32m━━━━━━━━━━━━━━━━━━━━\u001b[0m\u001b[37m\u001b[0m \u001b[1m1s\u001b[0m 69ms/step - accuracy: 0.9964 - false_negatives_23: 0.0000e+00 - false_positives_23: 0.6250 - loss: 0.0115 - precision_23: 0.9942 - recall_23: 1.0000 - true_negatives_23: 50.6250 - true_positives_23: 83.2500\n",
            "Epoch 22/25\n",
            "\u001b[1m7/7\u001b[0m \u001b[32m━━━━━━━━━━━━━━━━━━━━\u001b[0m\u001b[37m\u001b[0m \u001b[1m1s\u001b[0m 67ms/step - accuracy: 1.0000 - false_negatives_23: 0.0000e+00 - false_positives_23: 0.0000e+00 - loss: 0.0082 - precision_23: 1.0000 - recall_23: 1.0000 - true_negatives_23: 49.7500 - true_positives_23: 84.7500\n",
            "Epoch 23/25\n",
            "\u001b[1m7/7\u001b[0m \u001b[32m━━━━━━━━━━━━━━━━━━━━\u001b[0m\u001b[37m\u001b[0m \u001b[1m0s\u001b[0m 67ms/step - accuracy: 1.0000 - false_negatives_23: 0.0000e+00 - false_positives_23: 0.0000e+00 - loss: 0.0132 - precision_23: 1.0000 - recall_23: 1.0000 - true_negatives_23: 50.1250 - true_positives_23: 84.3750\n",
            "Epoch 24/25\n",
            "\u001b[1m7/7\u001b[0m \u001b[32m━━━━━━━━━━━━━━━━━━━━\u001b[0m\u001b[37m\u001b[0m \u001b[1m0s\u001b[0m 68ms/step - accuracy: 1.0000 - false_negatives_23: 0.0000e+00 - false_positives_23: 0.0000e+00 - loss: 0.0071 - precision_23: 1.0000 - recall_23: 1.0000 - true_negatives_23: 51.3750 - true_positives_23: 83.1250\n",
            "Epoch 25/25\n",
            "\u001b[1m7/7\u001b[0m \u001b[32m━━━━━━━━━━━━━━━━━━━━\u001b[0m\u001b[37m\u001b[0m \u001b[1m1s\u001b[0m 68ms/step - accuracy: 0.9964 - false_negatives_23: 0.6250 - false_positives_23: 0.0000e+00 - loss: 0.0107 - precision_23: 1.0000 - recall_23: 0.9943 - true_negatives_23: 49.6250 - true_positives_23: 84.2500\n"
          ]
        }
      ],
      "source": [
        "inception_model.compile(optimizer=Adam(), loss=BinaryCrossentropy(), metrics=[BinaryAccuracy(threshold=0.5, name=\"accuracy\"), Recall(), Precision(), TruePositives(), TrueNegatives(), FalsePositives(), FalseNegatives()])\n",
        "inception_fit_history = inception_model.fit(c_X_train, c_y_train, epochs=25)"
      ]
    },
    {
      "cell_type": "code",
      "execution_count": 122,
      "metadata": {
        "colab": {
          "base_uri": "https://localhost:8080/"
        },
        "id": "BvnWECHM4YxO",
        "outputId": "6fb1dbd6-27b1-489a-b850-c36db8e3a823"
      },
      "outputs": [
        {
          "name": "stdout",
          "output_type": "stream",
          "text": [
            "\u001b[1m2/2\u001b[0m \u001b[32m━━━━━━━━━━━━━━━━━━━━\u001b[0m\u001b[37m\u001b[0m \u001b[1m10s\u001b[0m 3s/step - accuracy: 0.9034 - false_negatives_23: 1.0000 - false_positives_23: 3.3333 - loss: 0.7539 - precision_23: 0.8741 - recall_23: 0.9557 - true_negatives_23: 17.6667 - true_positives_23: 22.6667\n",
            "Loss:  0.77\n",
            "Accuracy:  0.9\n",
            "Recall:  0.96\n",
            "Precision:  0.87\n",
            "True Positives:  26\n",
            "True Negatives:  20\n",
            "False Positives:  4\n",
            "False Negatives:  1\n"
          ]
        }
      ],
      "source": [
        "inception_model_metrics = inception_model.evaluate(c_X_test, c_y_test)\n",
        "model_evaluation(inception_model_metrics)\n"
      ]
    },
    {
      "cell_type": "markdown",
      "metadata": {
        "id": "e5xxcI1r8we3"
      },
      "source": [
        "##### 4- Xception"
      ]
    },
    {
      "cell_type": "code",
      "execution_count": 123,
      "metadata": {
        "id": "rI9Awj-B8wMJ"
      },
      "outputs": [],
      "source": [
        "xception = tf.keras.applications.Xception(input_shape=input_shape, weights='imagenet', include_top=False)\n",
        "xception.trainable = False"
      ]
    },
    {
      "cell_type": "code",
      "execution_count": 124,
      "metadata": {
        "colab": {
          "base_uri": "https://localhost:8080/",
          "height": 321
        },
        "id": "EIfA_v4v82we",
        "outputId": "85898e04-82ca-48c0-af80-dce173e7bc86"
      },
      "outputs": [
        {
          "data": {
            "text/html": [
              "<pre style=\"white-space:pre;overflow-x:auto;line-height:normal;font-family:Menlo,'DejaVu Sans Mono',consolas,'Courier New',monospace\"><span style=\"font-weight: bold\">Model: \"xception_model\"</span>\n",
              "</pre>\n"
            ],
            "text/plain": [
              "\u001b[1mModel: \"xception_model\"\u001b[0m\n"
            ]
          },
          "metadata": {},
          "output_type": "display_data"
        },
        {
          "data": {
            "text/html": [
              "<pre style=\"white-space:pre;overflow-x:auto;line-height:normal;font-family:Menlo,'DejaVu Sans Mono',consolas,'Courier New',monospace\">┏━━━━━━━━━━━━━━━━━━━━━━━━━━━━━━━━━┳━━━━━━━━━━━━━━━━━━━━━━━━┳━━━━━━━━━━━━━━━┓\n",
              "┃<span style=\"font-weight: bold\"> Layer (type)                    </span>┃<span style=\"font-weight: bold\"> Output Shape           </span>┃<span style=\"font-weight: bold\">       Param # </span>┃\n",
              "┡━━━━━━━━━━━━━━━━━━━━━━━━━━━━━━━━━╇━━━━━━━━━━━━━━━━━━━━━━━━╇━━━━━━━━━━━━━━━┩\n",
              "│ xception (<span style=\"color: #0087ff; text-decoration-color: #0087ff\">Functional</span>)           │ (<span style=\"color: #00d7ff; text-decoration-color: #00d7ff\">None</span>, <span style=\"color: #00af00; text-decoration-color: #00af00\">7</span>, <span style=\"color: #00af00; text-decoration-color: #00af00\">7</span>, <span style=\"color: #00af00; text-decoration-color: #00af00\">2048</span>)     │    <span style=\"color: #00af00; text-decoration-color: #00af00\">20,861,480</span> │\n",
              "├─────────────────────────────────┼────────────────────────┼───────────────┤\n",
              "│ flatten_6 (<span style=\"color: #0087ff; text-decoration-color: #0087ff\">Flatten</span>)             │ (<span style=\"color: #00d7ff; text-decoration-color: #00d7ff\">None</span>, <span style=\"color: #00af00; text-decoration-color: #00af00\">100352</span>)         │             <span style=\"color: #00af00; text-decoration-color: #00af00\">0</span> │\n",
              "├─────────────────────────────────┼────────────────────────┼───────────────┤\n",
              "│ dense_51 (<span style=\"color: #0087ff; text-decoration-color: #0087ff\">Dense</span>)                │ (<span style=\"color: #00d7ff; text-decoration-color: #00d7ff\">None</span>, <span style=\"color: #00af00; text-decoration-color: #00af00\">128</span>)            │    <span style=\"color: #00af00; text-decoration-color: #00af00\">12,845,184</span> │\n",
              "├─────────────────────────────────┼────────────────────────┼───────────────┤\n",
              "│ dropout_21 (<span style=\"color: #0087ff; text-decoration-color: #0087ff\">Dropout</span>)            │ (<span style=\"color: #00d7ff; text-decoration-color: #00d7ff\">None</span>, <span style=\"color: #00af00; text-decoration-color: #00af00\">128</span>)            │             <span style=\"color: #00af00; text-decoration-color: #00af00\">0</span> │\n",
              "├─────────────────────────────────┼────────────────────────┼───────────────┤\n",
              "│ dense_52 (<span style=\"color: #0087ff; text-decoration-color: #0087ff\">Dense</span>)                │ (<span style=\"color: #00d7ff; text-decoration-color: #00d7ff\">None</span>, <span style=\"color: #00af00; text-decoration-color: #00af00\">64</span>)             │         <span style=\"color: #00af00; text-decoration-color: #00af00\">8,256</span> │\n",
              "├─────────────────────────────────┼────────────────────────┼───────────────┤\n",
              "│ dense_53 (<span style=\"color: #0087ff; text-decoration-color: #0087ff\">Dense</span>)                │ (<span style=\"color: #00d7ff; text-decoration-color: #00d7ff\">None</span>, <span style=\"color: #00af00; text-decoration-color: #00af00\">1</span>)              │            <span style=\"color: #00af00; text-decoration-color: #00af00\">65</span> │\n",
              "└─────────────────────────────────┴────────────────────────┴───────────────┘\n",
              "</pre>\n"
            ],
            "text/plain": [
              "┏━━━━━━━━━━━━━━━━━━━━━━━━━━━━━━━━━┳━━━━━━━━━━━━━━━━━━━━━━━━┳━━━━━━━━━━━━━━━┓\n",
              "┃\u001b[1m \u001b[0m\u001b[1mLayer (type)                   \u001b[0m\u001b[1m \u001b[0m┃\u001b[1m \u001b[0m\u001b[1mOutput Shape          \u001b[0m\u001b[1m \u001b[0m┃\u001b[1m \u001b[0m\u001b[1m      Param #\u001b[0m\u001b[1m \u001b[0m┃\n",
              "┡━━━━━━━━━━━━━━━━━━━━━━━━━━━━━━━━━╇━━━━━━━━━━━━━━━━━━━━━━━━╇━━━━━━━━━━━━━━━┩\n",
              "│ xception (\u001b[38;5;33mFunctional\u001b[0m)           │ (\u001b[38;5;45mNone\u001b[0m, \u001b[38;5;34m7\u001b[0m, \u001b[38;5;34m7\u001b[0m, \u001b[38;5;34m2048\u001b[0m)     │    \u001b[38;5;34m20,861,480\u001b[0m │\n",
              "├─────────────────────────────────┼────────────────────────┼───────────────┤\n",
              "│ flatten_6 (\u001b[38;5;33mFlatten\u001b[0m)             │ (\u001b[38;5;45mNone\u001b[0m, \u001b[38;5;34m100352\u001b[0m)         │             \u001b[38;5;34m0\u001b[0m │\n",
              "├─────────────────────────────────┼────────────────────────┼───────────────┤\n",
              "│ dense_51 (\u001b[38;5;33mDense\u001b[0m)                │ (\u001b[38;5;45mNone\u001b[0m, \u001b[38;5;34m128\u001b[0m)            │    \u001b[38;5;34m12,845,184\u001b[0m │\n",
              "├─────────────────────────────────┼────────────────────────┼───────────────┤\n",
              "│ dropout_21 (\u001b[38;5;33mDropout\u001b[0m)            │ (\u001b[38;5;45mNone\u001b[0m, \u001b[38;5;34m128\u001b[0m)            │             \u001b[38;5;34m0\u001b[0m │\n",
              "├─────────────────────────────────┼────────────────────────┼───────────────┤\n",
              "│ dense_52 (\u001b[38;5;33mDense\u001b[0m)                │ (\u001b[38;5;45mNone\u001b[0m, \u001b[38;5;34m64\u001b[0m)             │         \u001b[38;5;34m8,256\u001b[0m │\n",
              "├─────────────────────────────────┼────────────────────────┼───────────────┤\n",
              "│ dense_53 (\u001b[38;5;33mDense\u001b[0m)                │ (\u001b[38;5;45mNone\u001b[0m, \u001b[38;5;34m1\u001b[0m)              │            \u001b[38;5;34m65\u001b[0m │\n",
              "└─────────────────────────────────┴────────────────────────┴───────────────┘\n"
            ]
          },
          "metadata": {},
          "output_type": "display_data"
        },
        {
          "data": {
            "text/html": [
              "<pre style=\"white-space:pre;overflow-x:auto;line-height:normal;font-family:Menlo,'DejaVu Sans Mono',consolas,'Courier New',monospace\"><span style=\"font-weight: bold\"> Total params: </span><span style=\"color: #00af00; text-decoration-color: #00af00\">33,714,985</span> (128.61 MB)\n",
              "</pre>\n"
            ],
            "text/plain": [
              "\u001b[1m Total params: \u001b[0m\u001b[38;5;34m33,714,985\u001b[0m (128.61 MB)\n"
            ]
          },
          "metadata": {},
          "output_type": "display_data"
        },
        {
          "data": {
            "text/html": [
              "<pre style=\"white-space:pre;overflow-x:auto;line-height:normal;font-family:Menlo,'DejaVu Sans Mono',consolas,'Courier New',monospace\"><span style=\"font-weight: bold\"> Trainable params: </span><span style=\"color: #00af00; text-decoration-color: #00af00\">12,853,505</span> (49.03 MB)\n",
              "</pre>\n"
            ],
            "text/plain": [
              "\u001b[1m Trainable params: \u001b[0m\u001b[38;5;34m12,853,505\u001b[0m (49.03 MB)\n"
            ]
          },
          "metadata": {},
          "output_type": "display_data"
        },
        {
          "data": {
            "text/html": [
              "<pre style=\"white-space:pre;overflow-x:auto;line-height:normal;font-family:Menlo,'DejaVu Sans Mono',consolas,'Courier New',monospace\"><span style=\"font-weight: bold\"> Non-trainable params: </span><span style=\"color: #00af00; text-decoration-color: #00af00\">20,861,480</span> (79.58 MB)\n",
              "</pre>\n"
            ],
            "text/plain": [
              "\u001b[1m Non-trainable params: \u001b[0m\u001b[38;5;34m20,861,480\u001b[0m (79.58 MB)\n"
            ]
          },
          "metadata": {},
          "output_type": "display_data"
        }
      ],
      "source": [
        "xception_model = Sequential(name=\"xception_model\")\n",
        "xception_model.add(xception)\n",
        "xception_model.add(Flatten())\n",
        "xception_model.add(Dense(128, activation=\"relu\"))\n",
        "xception_model.add(Dropout(0.2))\n",
        "xception_model.add(Dense(64, activation=\"relu\"))\n",
        "xception_model.add(Dense(1, activation=\"sigmoid\"))\n",
        "xception_model.summary()"
      ]
    },
    {
      "cell_type": "code",
      "execution_count": 125,
      "metadata": {
        "colab": {
          "base_uri": "https://localhost:8080/"
        },
        "id": "MtoVrcA69E1u",
        "outputId": "001b6223-fcff-46dd-ca1f-f1a63e819a61"
      },
      "outputs": [
        {
          "name": "stdout",
          "output_type": "stream",
          "text": [
            "Epoch 1/25\n",
            "\u001b[1m7/7\u001b[0m \u001b[32m━━━━━━━━━━━━━━━━━━━━\u001b[0m\u001b[37m\u001b[0m \u001b[1m14s\u001b[0m 642ms/step - accuracy: 0.6777 - false_negatives_24: 22.1250 - false_positives_24: 19.6250 - loss: 4.0510 - precision_24: 0.7600 - recall_24: 0.7088 - true_negatives_24: 30.8750 - true_positives_24: 61.8750\n",
            "Epoch 2/25\n",
            "\u001b[1m7/7\u001b[0m \u001b[32m━━━━━━━━━━━━━━━━━━━━\u001b[0m\u001b[37m\u001b[0m \u001b[1m1s\u001b[0m 130ms/step - accuracy: 0.7817 - false_negatives_24: 17.0000 - false_positives_24: 11.7500 - loss: 1.7080 - precision_24: 0.8756 - recall_24: 0.7656 - true_negatives_24: 38.0000 - true_positives_24: 67.7500\n",
            "Epoch 3/25\n",
            "\u001b[1m7/7\u001b[0m \u001b[32m━━━━━━━━━━━━━━━━━━━━\u001b[0m\u001b[37m\u001b[0m \u001b[1m1s\u001b[0m 132ms/step - accuracy: 0.8694 - false_negatives_24: 7.2500 - false_positives_24: 10.5000 - loss: 0.7383 - precision_24: 0.8765 - recall_24: 0.9210 - true_negatives_24: 39.6250 - true_positives_24: 77.1250\n",
            "Epoch 4/25\n",
            "\u001b[1m7/7\u001b[0m \u001b[32m━━━━━━━━━━━━━━━━━━━━\u001b[0m\u001b[37m\u001b[0m \u001b[1m1s\u001b[0m 133ms/step - accuracy: 0.9682 - false_negatives_24: 1.5000 - false_positives_24: 3.6250 - loss: 0.1554 - precision_24: 0.9678 - recall_24: 0.9838 - true_negatives_24: 44.3750 - true_positives_24: 85.0000\n",
            "Epoch 5/25\n",
            "\u001b[1m7/7\u001b[0m \u001b[32m━━━━━━━━━━━━━━━━━━━━\u001b[0m\u001b[37m\u001b[0m \u001b[1m1s\u001b[0m 132ms/step - accuracy: 0.9026 - false_negatives_24: 9.6250 - false_positives_24: 2.8750 - loss: 0.4361 - precision_24: 0.9641 - recall_24: 0.8744 - true_negatives_24: 47.0000 - true_positives_24: 75.0000\n",
            "Epoch 6/25\n",
            "\u001b[1m7/7\u001b[0m \u001b[32m━━━━━━━━━━━━━━━━━━━━\u001b[0m\u001b[37m\u001b[0m \u001b[1m1s\u001b[0m 133ms/step - accuracy: 0.8985 - false_negatives_24: 5.6250 - false_positives_24: 8.1250 - loss: 0.4634 - precision_24: 0.8994 - recall_24: 0.9386 - true_negatives_24: 43.3750 - true_positives_24: 77.3750\n",
            "Epoch 7/25\n",
            "\u001b[1m7/7\u001b[0m \u001b[32m━━━━━━━━━━━━━━━━━━━━\u001b[0m\u001b[37m\u001b[0m \u001b[1m1s\u001b[0m 134ms/step - accuracy: 0.9611 - false_negatives_24: 1.3750 - false_positives_24: 5.3750 - loss: 0.2103 - precision_24: 0.9571 - recall_24: 0.9851 - true_negatives_24: 42.2500 - true_positives_24: 85.5000\n",
            "Epoch 8/25\n",
            "\u001b[1m7/7\u001b[0m \u001b[32m━━━━━━━━━━━━━━━━━━━━\u001b[0m\u001b[37m\u001b[0m \u001b[1m1s\u001b[0m 134ms/step - accuracy: 0.9674 - false_negatives_24: 3.2500 - false_positives_24: 1.6250 - loss: 0.1305 - precision_24: 0.9782 - recall_24: 0.9715 - true_negatives_24: 46.2500 - true_positives_24: 83.3750\n",
            "Epoch 9/25\n",
            "\u001b[1m7/7\u001b[0m \u001b[32m━━━━━━━━━━━━━━━━━━━━\u001b[0m\u001b[37m\u001b[0m \u001b[1m1s\u001b[0m 137ms/step - accuracy: 0.9671 - false_negatives_24: 0.0000e+00 - false_positives_24: 4.8750 - loss: 0.1378 - precision_24: 0.9508 - recall_24: 1.0000 - true_negatives_24: 44.8750 - true_positives_24: 84.7500\n",
            "Epoch 10/25\n",
            "\u001b[1m7/7\u001b[0m \u001b[32m━━━━━━━━━━━━━━━━━━━━\u001b[0m\u001b[37m\u001b[0m \u001b[1m1s\u001b[0m 139ms/step - accuracy: 0.9817 - false_negatives_24: 1.2500 - false_positives_24: 1.6250 - loss: 0.0877 - precision_24: 0.9822 - recall_24: 0.9898 - true_negatives_24: 45.7500 - true_positives_24: 85.8750\n",
            "Epoch 11/25\n",
            "\u001b[1m7/7\u001b[0m \u001b[32m━━━━━━━━━━━━━━━━━━━━\u001b[0m\u001b[37m\u001b[0m \u001b[1m1s\u001b[0m 139ms/step - accuracy: 0.9550 - false_negatives_24: 3.8750 - false_positives_24: 1.1250 - loss: 0.3598 - precision_24: 0.9910 - recall_24: 0.9353 - true_negatives_24: 48.8750 - true_positives_24: 80.6250\n",
            "Epoch 12/25\n",
            "\u001b[1m7/7\u001b[0m \u001b[32m━━━━━━━━━━━━━━━━━━━━\u001b[0m\u001b[37m\u001b[0m \u001b[1m1s\u001b[0m 135ms/step - accuracy: 0.9837 - false_negatives_24: 1.3750 - false_positives_24: 0.6250 - loss: 0.0590 - precision_24: 0.9942 - recall_24: 0.9795 - true_negatives_24: 49.5000 - true_positives_24: 83.0000\n",
            "Epoch 13/25\n",
            "\u001b[1m7/7\u001b[0m \u001b[32m━━━━━━━━━━━━━━━━━━━━\u001b[0m\u001b[37m\u001b[0m \u001b[1m1s\u001b[0m 138ms/step - accuracy: 0.9588 - false_negatives_24: 3.8750 - false_positives_24: 0.3750 - loss: 0.0769 - precision_24: 0.9970 - recall_24: 0.9430 - true_negatives_24: 46.0000 - true_positives_24: 84.2500\n",
            "Epoch 14/25\n",
            "\u001b[1m7/7\u001b[0m \u001b[32m━━━━━━━━━━━━━━━━━━━━\u001b[0m\u001b[37m\u001b[0m \u001b[1m1s\u001b[0m 135ms/step - accuracy: 0.9901 - false_negatives_24: 0.7500 - false_positives_24: 0.7500 - loss: 0.0190 - precision_24: 0.9920 - recall_24: 0.9920 - true_negatives_24: 49.0000 - true_positives_24: 84.0000\n",
            "Epoch 15/25\n",
            "\u001b[1m7/7\u001b[0m \u001b[32m━━━━━━━━━━━━━━━━━━━━\u001b[0m\u001b[37m\u001b[0m \u001b[1m1s\u001b[0m 139ms/step - accuracy: 1.0000 - false_negatives_24: 0.0000e+00 - false_positives_24: 0.0000e+00 - loss: 0.0046 - precision_24: 1.0000 - recall_24: 1.0000 - true_negatives_24: 48.0000 - true_positives_24: 86.5000\n",
            "Epoch 16/25\n",
            "\u001b[1m7/7\u001b[0m \u001b[32m━━━━━━━━━━━━━━━━━━━━\u001b[0m\u001b[37m\u001b[0m \u001b[1m1s\u001b[0m 138ms/step - accuracy: 1.0000 - false_negatives_24: 0.0000e+00 - false_positives_24: 0.0000e+00 - loss: 6.7216e-04 - precision_24: 1.0000 - recall_24: 1.0000 - true_negatives_24: 47.8750 - true_positives_24: 86.6250\n",
            "Epoch 17/25\n",
            "\u001b[1m7/7\u001b[0m \u001b[32m━━━━━━━━━━━━━━━━━━━━\u001b[0m\u001b[37m\u001b[0m \u001b[1m1s\u001b[0m 139ms/step - accuracy: 0.9892 - false_negatives_24: 0.0000e+00 - false_positives_24: 1.0000 - loss: 0.0218 - precision_24: 0.9817 - recall_24: 1.0000 - true_negatives_24: 50.7500 - true_positives_24: 82.7500\n",
            "Epoch 18/25\n",
            "\u001b[1m7/7\u001b[0m \u001b[32m━━━━━━━━━━━━━━━━━━━━\u001b[0m\u001b[37m\u001b[0m \u001b[1m1s\u001b[0m 137ms/step - accuracy: 1.0000 - false_negatives_24: 0.0000e+00 - false_positives_24: 0.0000e+00 - loss: 0.0079 - precision_24: 1.0000 - recall_24: 1.0000 - true_negatives_24: 50.5000 - true_positives_24: 84.0000\n",
            "Epoch 19/25\n",
            "\u001b[1m7/7\u001b[0m \u001b[32m━━━━━━━━━━━━━━━━━━━━\u001b[0m\u001b[37m\u001b[0m \u001b[1m1s\u001b[0m 142ms/step - accuracy: 1.0000 - false_negatives_24: 0.0000e+00 - false_positives_24: 0.0000e+00 - loss: 7.7408e-04 - precision_24: 1.0000 - recall_24: 1.0000 - true_negatives_24: 49.8750 - true_positives_24: 84.6250\n",
            "Epoch 20/25\n",
            "\u001b[1m7/7\u001b[0m \u001b[32m━━━━━━━━━━━━━━━━━━━━\u001b[0m\u001b[37m\u001b[0m \u001b[1m1s\u001b[0m 145ms/step - accuracy: 1.0000 - false_negatives_24: 0.0000e+00 - false_positives_24: 0.0000e+00 - loss: 0.0022 - precision_24: 1.0000 - recall_24: 1.0000 - true_negatives_24: 49.8750 - true_positives_24: 84.6250\n",
            "Epoch 21/25\n",
            "\u001b[1m7/7\u001b[0m \u001b[32m━━━━━━━━━━━━━━━━━━━━\u001b[0m\u001b[37m\u001b[0m \u001b[1m1s\u001b[0m 138ms/step - accuracy: 0.9964 - false_negatives_24: 0.6250 - false_positives_24: 0.0000e+00 - loss: 0.0119 - precision_24: 1.0000 - recall_24: 0.9942 - true_negatives_24: 50.7500 - true_positives_24: 83.1250\n",
            "Epoch 22/25\n",
            "\u001b[1m7/7\u001b[0m \u001b[32m━━━━━━━━━━━━━━━━━━━━\u001b[0m\u001b[37m\u001b[0m \u001b[1m1s\u001b[0m 140ms/step - accuracy: 1.0000 - false_negatives_24: 0.0000e+00 - false_positives_24: 0.0000e+00 - loss: 2.8050e-04 - precision_24: 1.0000 - recall_24: 1.0000 - true_negatives_24: 49.0000 - true_positives_24: 85.5000\n",
            "Epoch 23/25\n",
            "\u001b[1m7/7\u001b[0m \u001b[32m━━━━━━━━━━━━━━━━━━━━\u001b[0m\u001b[37m\u001b[0m \u001b[1m1s\u001b[0m 136ms/step - accuracy: 0.9892 - false_negatives_24: 1.0000 - false_positives_24: 0.0000e+00 - loss: 0.0122 - precision_24: 1.0000 - recall_24: 0.9835 - true_negatives_24: 47.7500 - true_positives_24: 85.7500\n",
            "Epoch 24/25\n",
            "\u001b[1m7/7\u001b[0m \u001b[32m━━━━━━━━━━━━━━━━━━━━\u001b[0m\u001b[37m\u001b[0m \u001b[1m1s\u001b[0m 135ms/step - accuracy: 1.0000 - false_negatives_24: 0.0000e+00 - false_positives_24: 0.0000e+00 - loss: 0.0041 - precision_24: 1.0000 - recall_24: 1.0000 - true_negatives_24: 49.7500 - true_positives_24: 84.7500\n",
            "Epoch 25/25\n",
            "\u001b[1m7/7\u001b[0m \u001b[32m━━━━━━━━━━━━━━━━━━━━\u001b[0m\u001b[37m\u001b[0m \u001b[1m1s\u001b[0m 141ms/step - accuracy: 1.0000 - false_negatives_24: 0.0000e+00 - false_positives_24: 0.0000e+00 - loss: 0.0046 - precision_24: 1.0000 - recall_24: 1.0000 - true_negatives_24: 51.5000 - true_positives_24: 83.0000\n"
          ]
        }
      ],
      "source": [
        "xception_model.compile(optimizer=Adam(), loss=BinaryCrossentropy(), metrics=[BinaryAccuracy(threshold=0.5, name=\"accuracy\"), Recall(), Precision(), TruePositives(), TrueNegatives(), FalsePositives(), FalseNegatives()])\n",
        "xception_fit_history = xception_model.fit(c_X_train, c_y_train, epochs=25)"
      ]
    },
    {
      "cell_type": "code",
      "execution_count": 126,
      "metadata": {
        "colab": {
          "base_uri": "https://localhost:8080/"
        },
        "id": "TjA3ffsh9b4y",
        "outputId": "352b9797-faeb-4250-e3ef-571978664ba5"
      },
      "outputs": [
        {
          "name": "stdout",
          "output_type": "stream",
          "text": [
            "\u001b[1m2/2\u001b[0m \u001b[32m━━━━━━━━━━━━━━━━━━━━\u001b[0m\u001b[37m\u001b[0m \u001b[1m5s\u001b[0m 2s/step - accuracy: 0.8538 - false_negatives_24: 1.6667 - false_positives_24: 5.0000 - loss: 1.2063 - precision_24: 0.8183 - recall_24: 0.9310 - true_negatives_24: 16.0000 - true_positives_24: 22.0000\n",
            "Loss:  1.08\n",
            "Accuracy:  0.84\n",
            "Recall:  0.93\n",
            "Precision:  0.81\n",
            "True Positives:  25\n",
            "True Negatives:  18\n",
            "False Positives:  6\n",
            "False Negatives:  2\n"
          ]
        }
      ],
      "source": [
        "xception_model_metrics = xception_model.evaluate(c_X_test, c_y_test)\n",
        "model_evaluation(xception_model_metrics)"
      ]
    },
    {
      "cell_type": "markdown",
      "metadata": {
        "id": "QeDZIXRQ-9rs"
      },
      "source": [
        "####  5- EfficientNet"
      ]
    },
    {
      "cell_type": "code",
      "execution_count": 127,
      "metadata": {
        "colab": {
          "base_uri": "https://localhost:8080/",
          "height": 337
        },
        "id": "huvheBuk_Ccd",
        "outputId": "8c8a509e-571b-47b5-dbe8-8e8d0fb12231"
      },
      "outputs": [
        {
          "data": {
            "text/html": [
              "<pre style=\"white-space:pre;overflow-x:auto;line-height:normal;font-family:Menlo,'DejaVu Sans Mono',consolas,'Courier New',monospace\"><span style=\"font-weight: bold\">Model: \"efficientNet_model\"</span>\n",
              "</pre>\n"
            ],
            "text/plain": [
              "\u001b[1mModel: \"efficientNet_model\"\u001b[0m\n"
            ]
          },
          "metadata": {},
          "output_type": "display_data"
        },
        {
          "data": {
            "text/html": [
              "<pre style=\"white-space:pre;overflow-x:auto;line-height:normal;font-family:Menlo,'DejaVu Sans Mono',consolas,'Courier New',monospace\">┏━━━━━━━━━━━━━━━━━━━━━━━━━━━━━━━━━┳━━━━━━━━━━━━━━━━━━━━━━━━┳━━━━━━━━━━━━━━━┓\n",
              "┃<span style=\"font-weight: bold\"> Layer (type)                    </span>┃<span style=\"font-weight: bold\"> Output Shape           </span>┃<span style=\"font-weight: bold\">       Param # </span>┃\n",
              "┡━━━━━━━━━━━━━━━━━━━━━━━━━━━━━━━━━╇━━━━━━━━━━━━━━━━━━━━━━━━╇━━━━━━━━━━━━━━━┩\n",
              "│ efficientnetb7 (<span style=\"color: #0087ff; text-decoration-color: #0087ff\">Functional</span>)     │ (<span style=\"color: #00d7ff; text-decoration-color: #00d7ff\">None</span>, <span style=\"color: #00af00; text-decoration-color: #00af00\">7</span>, <span style=\"color: #00af00; text-decoration-color: #00af00\">7</span>, <span style=\"color: #00af00; text-decoration-color: #00af00\">2560</span>)     │    <span style=\"color: #00af00; text-decoration-color: #00af00\">64,097,687</span> │\n",
              "├─────────────────────────────────┼────────────────────────┼───────────────┤\n",
              "│ global_average_pooling2d_15     │ (<span style=\"color: #00d7ff; text-decoration-color: #00d7ff\">None</span>, <span style=\"color: #00af00; text-decoration-color: #00af00\">2560</span>)           │             <span style=\"color: #00af00; text-decoration-color: #00af00\">0</span> │\n",
              "│ (<span style=\"color: #0087ff; text-decoration-color: #0087ff\">GlobalAveragePooling2D</span>)        │                        │               │\n",
              "├─────────────────────────────────┼────────────────────────┼───────────────┤\n",
              "│ dense_54 (<span style=\"color: #0087ff; text-decoration-color: #0087ff\">Dense</span>)                │ (<span style=\"color: #00d7ff; text-decoration-color: #00d7ff\">None</span>, <span style=\"color: #00af00; text-decoration-color: #00af00\">128</span>)            │       <span style=\"color: #00af00; text-decoration-color: #00af00\">327,808</span> │\n",
              "├─────────────────────────────────┼────────────────────────┼───────────────┤\n",
              "│ dropout_22 (<span style=\"color: #0087ff; text-decoration-color: #0087ff\">Dropout</span>)            │ (<span style=\"color: #00d7ff; text-decoration-color: #00d7ff\">None</span>, <span style=\"color: #00af00; text-decoration-color: #00af00\">128</span>)            │             <span style=\"color: #00af00; text-decoration-color: #00af00\">0</span> │\n",
              "├─────────────────────────────────┼────────────────────────┼───────────────┤\n",
              "│ dense_55 (<span style=\"color: #0087ff; text-decoration-color: #0087ff\">Dense</span>)                │ (<span style=\"color: #00d7ff; text-decoration-color: #00d7ff\">None</span>, <span style=\"color: #00af00; text-decoration-color: #00af00\">64</span>)             │         <span style=\"color: #00af00; text-decoration-color: #00af00\">8,256</span> │\n",
              "├─────────────────────────────────┼────────────────────────┼───────────────┤\n",
              "│ dense_56 (<span style=\"color: #0087ff; text-decoration-color: #0087ff\">Dense</span>)                │ (<span style=\"color: #00d7ff; text-decoration-color: #00d7ff\">None</span>, <span style=\"color: #00af00; text-decoration-color: #00af00\">1</span>)              │            <span style=\"color: #00af00; text-decoration-color: #00af00\">65</span> │\n",
              "└─────────────────────────────────┴────────────────────────┴───────────────┘\n",
              "</pre>\n"
            ],
            "text/plain": [
              "┏━━━━━━━━━━━━━━━━━━━━━━━━━━━━━━━━━┳━━━━━━━━━━━━━━━━━━━━━━━━┳━━━━━━━━━━━━━━━┓\n",
              "┃\u001b[1m \u001b[0m\u001b[1mLayer (type)                   \u001b[0m\u001b[1m \u001b[0m┃\u001b[1m \u001b[0m\u001b[1mOutput Shape          \u001b[0m\u001b[1m \u001b[0m┃\u001b[1m \u001b[0m\u001b[1m      Param #\u001b[0m\u001b[1m \u001b[0m┃\n",
              "┡━━━━━━━━━━━━━━━━━━━━━━━━━━━━━━━━━╇━━━━━━━━━━━━━━━━━━━━━━━━╇━━━━━━━━━━━━━━━┩\n",
              "│ efficientnetb7 (\u001b[38;5;33mFunctional\u001b[0m)     │ (\u001b[38;5;45mNone\u001b[0m, \u001b[38;5;34m7\u001b[0m, \u001b[38;5;34m7\u001b[0m, \u001b[38;5;34m2560\u001b[0m)     │    \u001b[38;5;34m64,097,687\u001b[0m │\n",
              "├─────────────────────────────────┼────────────────────────┼───────────────┤\n",
              "│ global_average_pooling2d_15     │ (\u001b[38;5;45mNone\u001b[0m, \u001b[38;5;34m2560\u001b[0m)           │             \u001b[38;5;34m0\u001b[0m │\n",
              "│ (\u001b[38;5;33mGlobalAveragePooling2D\u001b[0m)        │                        │               │\n",
              "├─────────────────────────────────┼────────────────────────┼───────────────┤\n",
              "│ dense_54 (\u001b[38;5;33mDense\u001b[0m)                │ (\u001b[38;5;45mNone\u001b[0m, \u001b[38;5;34m128\u001b[0m)            │       \u001b[38;5;34m327,808\u001b[0m │\n",
              "├─────────────────────────────────┼────────────────────────┼───────────────┤\n",
              "│ dropout_22 (\u001b[38;5;33mDropout\u001b[0m)            │ (\u001b[38;5;45mNone\u001b[0m, \u001b[38;5;34m128\u001b[0m)            │             \u001b[38;5;34m0\u001b[0m │\n",
              "├─────────────────────────────────┼────────────────────────┼───────────────┤\n",
              "│ dense_55 (\u001b[38;5;33mDense\u001b[0m)                │ (\u001b[38;5;45mNone\u001b[0m, \u001b[38;5;34m64\u001b[0m)             │         \u001b[38;5;34m8,256\u001b[0m │\n",
              "├─────────────────────────────────┼────────────────────────┼───────────────┤\n",
              "│ dense_56 (\u001b[38;5;33mDense\u001b[0m)                │ (\u001b[38;5;45mNone\u001b[0m, \u001b[38;5;34m1\u001b[0m)              │            \u001b[38;5;34m65\u001b[0m │\n",
              "└─────────────────────────────────┴────────────────────────┴───────────────┘\n"
            ]
          },
          "metadata": {},
          "output_type": "display_data"
        },
        {
          "data": {
            "text/html": [
              "<pre style=\"white-space:pre;overflow-x:auto;line-height:normal;font-family:Menlo,'DejaVu Sans Mono',consolas,'Courier New',monospace\"><span style=\"font-weight: bold\"> Total params: </span><span style=\"color: #00af00; text-decoration-color: #00af00\">64,433,816</span> (245.80 MB)\n",
              "</pre>\n"
            ],
            "text/plain": [
              "\u001b[1m Total params: \u001b[0m\u001b[38;5;34m64,433,816\u001b[0m (245.80 MB)\n"
            ]
          },
          "metadata": {},
          "output_type": "display_data"
        },
        {
          "data": {
            "text/html": [
              "<pre style=\"white-space:pre;overflow-x:auto;line-height:normal;font-family:Menlo,'DejaVu Sans Mono',consolas,'Courier New',monospace\"><span style=\"font-weight: bold\"> Trainable params: </span><span style=\"color: #00af00; text-decoration-color: #00af00\">336,129</span> (1.28 MB)\n",
              "</pre>\n"
            ],
            "text/plain": [
              "\u001b[1m Trainable params: \u001b[0m\u001b[38;5;34m336,129\u001b[0m (1.28 MB)\n"
            ]
          },
          "metadata": {},
          "output_type": "display_data"
        },
        {
          "data": {
            "text/html": [
              "<pre style=\"white-space:pre;overflow-x:auto;line-height:normal;font-family:Menlo,'DejaVu Sans Mono',consolas,'Courier New',monospace\"><span style=\"font-weight: bold\"> Non-trainable params: </span><span style=\"color: #00af00; text-decoration-color: #00af00\">64,097,687</span> (244.51 MB)\n",
              "</pre>\n"
            ],
            "text/plain": [
              "\u001b[1m Non-trainable params: \u001b[0m\u001b[38;5;34m64,097,687\u001b[0m (244.51 MB)\n"
            ]
          },
          "metadata": {},
          "output_type": "display_data"
        }
      ],
      "source": [
        "efficientNet = EfficientNetB7(input_shape=input_shape, weights='imagenet', include_top=False)\n",
        "efficientNet.trainable = False\n",
        "efficientNet_model = Sequential(name=\"efficientNet_model\")\n",
        "efficientNet_model.add(efficientNet)\n",
        "efficientNet_model.add(GlobalAveragePooling2D())\n",
        "efficientNet_model.add(Dense(128, activation=\"relu\"))\n",
        "efficientNet_model.add(Dropout(0.2))\n",
        "efficientNet_model.add(Dense(64, activation=\"relu\"))\n",
        "efficientNet_model.add(Dense(1, activation=\"sigmoid\"))\n",
        "efficientNet_model.summary()"
      ]
    },
    {
      "cell_type": "code",
      "execution_count": 128,
      "metadata": {
        "colab": {
          "base_uri": "https://localhost:8080/"
        },
        "id": "sfJo1SBrASeM",
        "outputId": "81ef8432-172f-48dc-9f66-99621c351315"
      },
      "outputs": [
        {
          "name": "stdout",
          "output_type": "stream",
          "text": [
            "Epoch 1/25\n",
            "\u001b[1m7/7\u001b[0m \u001b[32m━━━━━━━━━━━━━━━━━━━━\u001b[0m\u001b[37m\u001b[0m \u001b[1m111s\u001b[0m 6s/step - accuracy: 0.5145 - false_negatives_25: 27.2500 - false_positives_25: 36.8750 - loss: 0.7266 - precision_25: 0.6142 - recall_25: 0.6298 - true_negatives_25: 14.5000 - true_positives_25: 55.8750\n",
            "Epoch 2/25\n",
            "\u001b[1m7/7\u001b[0m \u001b[32m━━━━━━━━━━━━━━━━━━━━\u001b[0m\u001b[37m\u001b[0m \u001b[1m10s\u001b[0m 223ms/step - accuracy: 0.6612 - false_negatives_25: 0.0000e+00 - false_positives_25: 47.1250 - loss: 0.6707 - precision_25: 0.6612 - recall_25: 1.0000 - true_negatives_25: 0.0000e+00 - true_positives_25: 87.3750\n",
            "Epoch 3/25\n",
            "\u001b[1m7/7\u001b[0m \u001b[32m━━━━━━━━━━━━━━━━━━━━\u001b[0m\u001b[37m\u001b[0m \u001b[1m3s\u001b[0m 226ms/step - accuracy: 0.6164 - false_negatives_25: 12.1250 - false_positives_25: 42.5000 - loss: 0.6754 - precision_25: 0.6469 - recall_25: 0.8858 - true_negatives_25: 6.6250 - true_positives_25: 73.2500\n",
            "Epoch 4/25\n",
            "\u001b[1m7/7\u001b[0m \u001b[32m━━━━━━━━━━━━━━━━━━━━\u001b[0m\u001b[37m\u001b[0m \u001b[1m3s\u001b[0m 229ms/step - accuracy: 0.6548 - false_negatives_25: 1.0000 - false_positives_25: 45.7500 - loss: 0.6525 - precision_25: 0.6520 - recall_25: 0.9831 - true_negatives_25: 3.2500 - true_positives_25: 84.5000\n",
            "Epoch 5/25\n",
            "\u001b[1m7/7\u001b[0m \u001b[32m━━━━━━━━━━━━━━━━━━━━\u001b[0m\u001b[37m\u001b[0m \u001b[1m3s\u001b[0m 235ms/step - accuracy: 0.6426 - false_negatives_25: 0.5000 - false_positives_25: 49.2500 - loss: 0.6644 - precision_25: 0.6443 - recall_25: 0.9958 - true_negatives_25: 0.0000e+00 - true_positives_25: 84.7500\n",
            "Epoch 6/25\n",
            "\u001b[1m7/7\u001b[0m \u001b[32m━━━━━━━━━━━━━━━━━━━━\u001b[0m\u001b[37m\u001b[0m \u001b[1m3s\u001b[0m 230ms/step - accuracy: 0.6272 - false_negatives_25: 0.0000e+00 - false_positives_25: 50.0000 - loss: 0.6603 - precision_25: 0.6272 - recall_25: 1.0000 - true_negatives_25: 0.0000e+00 - true_positives_25: 84.5000\n",
            "Epoch 7/25\n",
            "\u001b[1m7/7\u001b[0m \u001b[32m━━━━━━━━━━━━━━━━━━━━\u001b[0m\u001b[37m\u001b[0m \u001b[1m3s\u001b[0m 231ms/step - accuracy: 0.6463 - false_negatives_25: 0.0000e+00 - false_positives_25: 48.2500 - loss: 0.6445 - precision_25: 0.6463 - recall_25: 1.0000 - true_negatives_25: 0.0000e+00 - true_positives_25: 86.2500\n",
            "Epoch 8/25\n",
            "\u001b[1m7/7\u001b[0m \u001b[32m━━━━━━━━━━━━━━━━━━━━\u001b[0m\u001b[37m\u001b[0m \u001b[1m3s\u001b[0m 234ms/step - accuracy: 0.6460 - false_negatives_25: 0.7500 - false_positives_25: 48.2500 - loss: 0.6360 - precision_25: 0.6468 - recall_25: 0.9938 - true_negatives_25: 0.8750 - true_positives_25: 84.6250\n",
            "Epoch 9/25\n",
            "\u001b[1m7/7\u001b[0m \u001b[32m━━━━━━━━━━━━━━━━━━━━\u001b[0m\u001b[37m\u001b[0m \u001b[1m3s\u001b[0m 237ms/step - accuracy: 0.6182 - false_negatives_25: 0.0000e+00 - false_positives_25: 50.3750 - loss: 0.6556 - precision_25: 0.6172 - recall_25: 1.0000 - true_negatives_25: 0.5000 - true_positives_25: 83.6250\n",
            "Epoch 10/25\n",
            "\u001b[1m7/7\u001b[0m \u001b[32m━━━━━━━━━━━━━━━━━━━━\u001b[0m\u001b[37m\u001b[0m \u001b[1m2s\u001b[0m 243ms/step - accuracy: 0.6171 - false_negatives_25: 0.0000e+00 - false_positives_25: 50.5000 - loss: 0.6413 - precision_25: 0.6162 - recall_25: 1.0000 - true_negatives_25: 0.5000 - true_positives_25: 83.5000\n",
            "Epoch 11/25\n",
            "\u001b[1m7/7\u001b[0m \u001b[32m━━━━━━━━━━━━━━━━━━━━\u001b[0m\u001b[37m\u001b[0m \u001b[1m3s\u001b[0m 237ms/step - accuracy: 0.6660 - false_negatives_25: 0.0000e+00 - false_positives_25: 45.1250 - loss: 0.6340 - precision_25: 0.6634 - recall_25: 1.0000 - true_negatives_25: 1.1250 - true_positives_25: 88.2500\n",
            "Epoch 12/25\n",
            "\u001b[1m7/7\u001b[0m \u001b[32m━━━━━━━━━━━━━━━━━━━━\u001b[0m\u001b[37m\u001b[0m \u001b[1m2s\u001b[0m 237ms/step - accuracy: 0.5847 - false_negatives_25: 4.8750 - false_positives_25: 47.8750 - loss: 0.6617 - precision_25: 0.5940 - recall_25: 0.9445 - true_negatives_25: 4.6250 - true_positives_25: 77.1250\n",
            "Epoch 13/25\n",
            "\u001b[1m7/7\u001b[0m \u001b[32m━━━━━━━━━━━━━━━━━━━━\u001b[0m\u001b[37m\u001b[0m \u001b[1m2s\u001b[0m 236ms/step - accuracy: 0.5978 - false_negatives_25: 3.8750 - false_positives_25: 47.8750 - loss: 0.6474 - precision_25: 0.6119 - recall_25: 0.9495 - true_negatives_25: 2.3750 - true_positives_25: 80.3750\n",
            "Epoch 14/25\n",
            "\u001b[1m7/7\u001b[0m \u001b[32m━━━━━━━━━━━━━━━━━━━━\u001b[0m\u001b[37m\u001b[0m \u001b[1m3s\u001b[0m 239ms/step - accuracy: 0.6646 - false_negatives_25: 2.5000 - false_positives_25: 44.6250 - loss: 0.6014 - precision_25: 0.6660 - recall_25: 0.9750 - true_negatives_25: 3.6250 - true_positives_25: 83.7500\n",
            "Epoch 15/25\n",
            "\u001b[1m7/7\u001b[0m \u001b[32m━━━━━━━━━━━━━━━━━━━━\u001b[0m\u001b[37m\u001b[0m \u001b[1m3s\u001b[0m 242ms/step - accuracy: 0.6737 - false_negatives_25: 3.8750 - false_positives_25: 40.1250 - loss: 0.5968 - precision_25: 0.6763 - recall_25: 0.9574 - true_negatives_25: 8.1250 - true_positives_25: 82.3750\n",
            "Epoch 16/25\n",
            "\u001b[1m7/7\u001b[0m \u001b[32m━━━━━━━━━━━━━━━━━━━━\u001b[0m\u001b[37m\u001b[0m \u001b[1m3s\u001b[0m 239ms/step - accuracy: 0.6244 - false_negatives_25: 12.7500 - false_positives_25: 36.2500 - loss: 0.6643 - precision_25: 0.6446 - recall_25: 0.8365 - true_negatives_25: 14.3750 - true_positives_25: 71.1250\n",
            "Epoch 17/25\n",
            "\u001b[1m7/7\u001b[0m \u001b[32m━━━━━━━━━━━━━━━━━━━━\u001b[0m\u001b[37m\u001b[0m \u001b[1m2s\u001b[0m 235ms/step - accuracy: 0.6907 - false_negatives_25: 1.6250 - false_positives_25: 41.5000 - loss: 0.6360 - precision_25: 0.6818 - recall_25: 0.9851 - true_negatives_25: 6.6250 - true_positives_25: 84.7500\n",
            "Epoch 18/25\n",
            "\u001b[1m7/7\u001b[0m \u001b[32m━━━━━━━━━━━━━━━━━━━━\u001b[0m\u001b[37m\u001b[0m \u001b[1m2s\u001b[0m 237ms/step - accuracy: 0.6724 - false_negatives_25: 6.1250 - false_positives_25: 37.3750 - loss: 0.6336 - precision_25: 0.6721 - recall_25: 0.9393 - true_negatives_25: 11.2500 - true_positives_25: 79.7500\n",
            "Epoch 19/25\n",
            "\u001b[1m7/7\u001b[0m \u001b[32m━━━━━━━━━━━━━━━━━━━━\u001b[0m\u001b[37m\u001b[0m \u001b[1m3s\u001b[0m 232ms/step - accuracy: 0.6565 - false_negatives_25: 8.0000 - false_positives_25: 37.3750 - loss: 0.6113 - precision_25: 0.6655 - recall_25: 0.9031 - true_negatives_25: 11.0000 - true_positives_25: 78.1250\n",
            "Epoch 20/25\n",
            "\u001b[1m7/7\u001b[0m \u001b[32m━━━━━━━━━━━━━━━━━━━━\u001b[0m\u001b[37m\u001b[0m \u001b[1m2s\u001b[0m 232ms/step - accuracy: 0.6583 - false_negatives_25: 2.1250 - false_positives_25: 43.8750 - loss: 0.6210 - precision_25: 0.6516 - recall_25: 0.9766 - true_negatives_25: 6.2500 - true_positives_25: 82.2500\n",
            "Epoch 21/25\n",
            "\u001b[1m7/7\u001b[0m \u001b[32m━━━━━━━━━━━━━━━━━━━━\u001b[0m\u001b[37m\u001b[0m \u001b[1m3s\u001b[0m 236ms/step - accuracy: 0.6370 - false_negatives_25: 5.1250 - false_positives_25: 41.7500 - loss: 0.6286 - precision_25: 0.6428 - recall_25: 0.9419 - true_negatives_25: 8.1250 - true_positives_25: 79.5000\n",
            "Epoch 22/25\n",
            "\u001b[1m7/7\u001b[0m \u001b[32m━━━━━━━━━━━━━━━━━━━━\u001b[0m\u001b[37m\u001b[0m \u001b[1m2s\u001b[0m 230ms/step - accuracy: 0.6467 - false_negatives_25: 5.0000 - false_positives_25: 41.2500 - loss: 0.6292 - precision_25: 0.6457 - recall_25: 0.9513 - true_negatives_25: 9.0000 - true_positives_25: 79.2500\n",
            "Epoch 23/25\n",
            "\u001b[1m7/7\u001b[0m \u001b[32m━━━━━━━━━━━━━━━━━━━━\u001b[0m\u001b[37m\u001b[0m \u001b[1m3s\u001b[0m 229ms/step - accuracy: 0.6891 - false_negatives_25: 4.2500 - false_positives_25: 38.8750 - loss: 0.6028 - precision_25: 0.6920 - recall_25: 0.9496 - true_negatives_25: 9.6250 - true_positives_25: 81.7500\n",
            "Epoch 24/25\n",
            "\u001b[1m7/7\u001b[0m \u001b[32m━━━━━━━━━━━━━━━━━━━━\u001b[0m\u001b[37m\u001b[0m \u001b[1m3s\u001b[0m 227ms/step - accuracy: 0.6699 - false_negatives_25: 6.2500 - false_positives_25: 38.1250 - loss: 0.6196 - precision_25: 0.6746 - recall_25: 0.9211 - true_negatives_25: 11.1250 - true_positives_25: 79.0000\n",
            "Epoch 25/25\n",
            "\u001b[1m7/7\u001b[0m \u001b[32m━━━━━━━━━━━━━━━━━━━━\u001b[0m\u001b[37m\u001b[0m \u001b[1m3s\u001b[0m 234ms/step - accuracy: 0.6442 - false_negatives_25: 9.6250 - false_positives_25: 37.3750 - loss: 0.6389 - precision_25: 0.6671 - recall_25: 0.8823 - true_negatives_25: 11.8750 - true_positives_25: 75.6250\n"
          ]
        }
      ],
      "source": [
        "efficientNet_model.compile(optimizer=Adam(), loss=BinaryCrossentropy(), metrics=[BinaryAccuracy(threshold=0.5, name=\"accuracy\"), Recall(), Precision(), TruePositives(), TrueNegatives(), FalsePositives(), FalseNegatives()])\n",
        "efficientNet_fit_history = efficientNet_model.fit(c_X_train, c_y_train, epochs=25)"
      ]
    },
    {
      "cell_type": "code",
      "execution_count": 129,
      "metadata": {
        "colab": {
          "base_uri": "https://localhost:8080/"
        },
        "id": "2pifdy6XAh6Y",
        "outputId": "0a4213f4-e70c-47ca-dccb-17eac0937c04"
      },
      "outputs": [
        {
          "name": "stdout",
          "output_type": "stream",
          "text": [
            "\u001b[1m2/2\u001b[0m \u001b[32m━━━━━━━━━━━━━━━━━━━━\u001b[0m\u001b[37m\u001b[0m \u001b[1m24s\u001b[0m 7s/step - accuracy: 0.5535 - false_negatives_25: 0.0000e+00 - false_positives_25: 20.0000 - loss: 0.6918 - precision_25: 0.5428 - recall_25: 1.0000 - true_negatives_25: 1.0000 - true_positives_25: 23.6667\n",
            "Loss:  0.69\n",
            "Accuracy:  0.55\n",
            "Recall:  1.0\n",
            "Precision:  0.54\n",
            "True Positives:  27\n",
            "True Negatives:  1\n",
            "False Positives:  23\n",
            "False Negatives:  0\n"
          ]
        }
      ],
      "source": [
        "efficientNet_model_metrics = efficientNet_model.evaluate(c_X_test, c_y_test)\n",
        "model_evaluation(efficientNet_model_metrics)"
      ]
    },
    {
      "cell_type": "markdown",
      "metadata": {
        "id": "2hV8Ig_fCbJI"
      },
      "source": [
        "#### 6- LeNet"
      ]
    },
    {
      "cell_type": "code",
      "execution_count": 133,
      "metadata": {
        "colab": {
          "base_uri": "https://localhost:8080/",
          "height": 545
        },
        "id": "ZnOVf79aCdda",
        "outputId": "b454d19f-a24f-4723-fd0f-bad1eef15424"
      },
      "outputs": [
        {
          "data": {
            "text/html": [
              "<pre style=\"white-space:pre;overflow-x:auto;line-height:normal;font-family:Menlo,'DejaVu Sans Mono',consolas,'Courier New',monospace\"><span style=\"font-weight: bold\">Model: \"LeNet\"</span>\n",
              "</pre>\n"
            ],
            "text/plain": [
              "\u001b[1mModel: \"LeNet\"\u001b[0m\n"
            ]
          },
          "metadata": {},
          "output_type": "display_data"
        },
        {
          "data": {
            "text/html": [
              "<pre style=\"white-space:pre;overflow-x:auto;line-height:normal;font-family:Menlo,'DejaVu Sans Mono',consolas,'Courier New',monospace\">┏━━━━━━━━━━━━━━━━━━━━━━━━━━━━━━━━━┳━━━━━━━━━━━━━━━━━━━━━━━━┳━━━━━━━━━━━━━━━┓\n",
              "┃<span style=\"font-weight: bold\"> Layer (type)                    </span>┃<span style=\"font-weight: bold\"> Output Shape           </span>┃<span style=\"font-weight: bold\">       Param # </span>┃\n",
              "┡━━━━━━━━━━━━━━━━━━━━━━━━━━━━━━━━━╇━━━━━━━━━━━━━━━━━━━━━━━━╇━━━━━━━━━━━━━━━┩\n",
              "│ conv2d_391 (<span style=\"color: #0087ff; text-decoration-color: #0087ff\">Conv2D</span>)             │ (<span style=\"color: #00d7ff; text-decoration-color: #00d7ff\">None</span>, <span style=\"color: #00af00; text-decoration-color: #00af00\">220</span>, <span style=\"color: #00af00; text-decoration-color: #00af00\">220</span>, <span style=\"color: #00af00; text-decoration-color: #00af00\">6</span>)    │           <span style=\"color: #00af00; text-decoration-color: #00af00\">156</span> │\n",
              "├─────────────────────────────────┼────────────────────────┼───────────────┤\n",
              "│ average_pooling2d_38            │ (<span style=\"color: #00d7ff; text-decoration-color: #00d7ff\">None</span>, <span style=\"color: #00af00; text-decoration-color: #00af00\">110</span>, <span style=\"color: #00af00; text-decoration-color: #00af00\">110</span>, <span style=\"color: #00af00; text-decoration-color: #00af00\">6</span>)    │             <span style=\"color: #00af00; text-decoration-color: #00af00\">0</span> │\n",
              "│ (<span style=\"color: #0087ff; text-decoration-color: #0087ff\">AveragePooling2D</span>)              │                        │               │\n",
              "├─────────────────────────────────┼────────────────────────┼───────────────┤\n",
              "│ activation_378 (<span style=\"color: #0087ff; text-decoration-color: #0087ff\">Activation</span>)     │ (<span style=\"color: #00d7ff; text-decoration-color: #00d7ff\">None</span>, <span style=\"color: #00af00; text-decoration-color: #00af00\">110</span>, <span style=\"color: #00af00; text-decoration-color: #00af00\">110</span>, <span style=\"color: #00af00; text-decoration-color: #00af00\">6</span>)    │             <span style=\"color: #00af00; text-decoration-color: #00af00\">0</span> │\n",
              "├─────────────────────────────────┼────────────────────────┼───────────────┤\n",
              "│ conv2d_392 (<span style=\"color: #0087ff; text-decoration-color: #0087ff\">Conv2D</span>)             │ (<span style=\"color: #00d7ff; text-decoration-color: #00d7ff\">None</span>, <span style=\"color: #00af00; text-decoration-color: #00af00\">106</span>, <span style=\"color: #00af00; text-decoration-color: #00af00\">106</span>, <span style=\"color: #00af00; text-decoration-color: #00af00\">16</span>)   │         <span style=\"color: #00af00; text-decoration-color: #00af00\">2,416</span> │\n",
              "├─────────────────────────────────┼────────────────────────┼───────────────┤\n",
              "│ average_pooling2d_39            │ (<span style=\"color: #00d7ff; text-decoration-color: #00d7ff\">None</span>, <span style=\"color: #00af00; text-decoration-color: #00af00\">53</span>, <span style=\"color: #00af00; text-decoration-color: #00af00\">53</span>, <span style=\"color: #00af00; text-decoration-color: #00af00\">16</span>)     │             <span style=\"color: #00af00; text-decoration-color: #00af00\">0</span> │\n",
              "│ (<span style=\"color: #0087ff; text-decoration-color: #0087ff\">AveragePooling2D</span>)              │                        │               │\n",
              "├─────────────────────────────────┼────────────────────────┼───────────────┤\n",
              "│ activation_379 (<span style=\"color: #0087ff; text-decoration-color: #0087ff\">Activation</span>)     │ (<span style=\"color: #00d7ff; text-decoration-color: #00d7ff\">None</span>, <span style=\"color: #00af00; text-decoration-color: #00af00\">53</span>, <span style=\"color: #00af00; text-decoration-color: #00af00\">53</span>, <span style=\"color: #00af00; text-decoration-color: #00af00\">16</span>)     │             <span style=\"color: #00af00; text-decoration-color: #00af00\">0</span> │\n",
              "├─────────────────────────────────┼────────────────────────┼───────────────┤\n",
              "│ conv2d_393 (<span style=\"color: #0087ff; text-decoration-color: #0087ff\">Conv2D</span>)             │ (<span style=\"color: #00d7ff; text-decoration-color: #00d7ff\">None</span>, <span style=\"color: #00af00; text-decoration-color: #00af00\">49</span>, <span style=\"color: #00af00; text-decoration-color: #00af00\">49</span>, <span style=\"color: #00af00; text-decoration-color: #00af00\">120</span>)    │        <span style=\"color: #00af00; text-decoration-color: #00af00\">48,120</span> │\n",
              "├─────────────────────────────────┼────────────────────────┼───────────────┤\n",
              "│ flatten_8 (<span style=\"color: #0087ff; text-decoration-color: #0087ff\">Flatten</span>)             │ (<span style=\"color: #00d7ff; text-decoration-color: #00d7ff\">None</span>, <span style=\"color: #00af00; text-decoration-color: #00af00\">288120</span>)         │             <span style=\"color: #00af00; text-decoration-color: #00af00\">0</span> │\n",
              "├─────────────────────────────────┼────────────────────────┼───────────────┤\n",
              "│ dense_59 (<span style=\"color: #0087ff; text-decoration-color: #0087ff\">Dense</span>)                │ (<span style=\"color: #00d7ff; text-decoration-color: #00d7ff\">None</span>, <span style=\"color: #00af00; text-decoration-color: #00af00\">120</span>)            │    <span style=\"color: #00af00; text-decoration-color: #00af00\">34,574,520</span> │\n",
              "├─────────────────────────────────┼────────────────────────┼───────────────┤\n",
              "│ dropout_23 (<span style=\"color: #0087ff; text-decoration-color: #0087ff\">Dropout</span>)            │ (<span style=\"color: #00d7ff; text-decoration-color: #00d7ff\">None</span>, <span style=\"color: #00af00; text-decoration-color: #00af00\">120</span>)            │             <span style=\"color: #00af00; text-decoration-color: #00af00\">0</span> │\n",
              "├─────────────────────────────────┼────────────────────────┼───────────────┤\n",
              "│ dense_60 (<span style=\"color: #0087ff; text-decoration-color: #0087ff\">Dense</span>)                │ (<span style=\"color: #00d7ff; text-decoration-color: #00d7ff\">None</span>, <span style=\"color: #00af00; text-decoration-color: #00af00\">84</span>)             │        <span style=\"color: #00af00; text-decoration-color: #00af00\">10,164</span> │\n",
              "├─────────────────────────────────┼────────────────────────┼───────────────┤\n",
              "│ dense_61 (<span style=\"color: #0087ff; text-decoration-color: #0087ff\">Dense</span>)                │ (<span style=\"color: #00d7ff; text-decoration-color: #00d7ff\">None</span>, <span style=\"color: #00af00; text-decoration-color: #00af00\">1</span>)              │            <span style=\"color: #00af00; text-decoration-color: #00af00\">85</span> │\n",
              "└─────────────────────────────────┴────────────────────────┴───────────────┘\n",
              "</pre>\n"
            ],
            "text/plain": [
              "┏━━━━━━━━━━━━━━━━━━━━━━━━━━━━━━━━━┳━━━━━━━━━━━━━━━━━━━━━━━━┳━━━━━━━━━━━━━━━┓\n",
              "┃\u001b[1m \u001b[0m\u001b[1mLayer (type)                   \u001b[0m\u001b[1m \u001b[0m┃\u001b[1m \u001b[0m\u001b[1mOutput Shape          \u001b[0m\u001b[1m \u001b[0m┃\u001b[1m \u001b[0m\u001b[1m      Param #\u001b[0m\u001b[1m \u001b[0m┃\n",
              "┡━━━━━━━━━━━━━━━━━━━━━━━━━━━━━━━━━╇━━━━━━━━━━━━━━━━━━━━━━━━╇━━━━━━━━━━━━━━━┩\n",
              "│ conv2d_391 (\u001b[38;5;33mConv2D\u001b[0m)             │ (\u001b[38;5;45mNone\u001b[0m, \u001b[38;5;34m220\u001b[0m, \u001b[38;5;34m220\u001b[0m, \u001b[38;5;34m6\u001b[0m)    │           \u001b[38;5;34m156\u001b[0m │\n",
              "├─────────────────────────────────┼────────────────────────┼───────────────┤\n",
              "│ average_pooling2d_38            │ (\u001b[38;5;45mNone\u001b[0m, \u001b[38;5;34m110\u001b[0m, \u001b[38;5;34m110\u001b[0m, \u001b[38;5;34m6\u001b[0m)    │             \u001b[38;5;34m0\u001b[0m │\n",
              "│ (\u001b[38;5;33mAveragePooling2D\u001b[0m)              │                        │               │\n",
              "├─────────────────────────────────┼────────────────────────┼───────────────┤\n",
              "│ activation_378 (\u001b[38;5;33mActivation\u001b[0m)     │ (\u001b[38;5;45mNone\u001b[0m, \u001b[38;5;34m110\u001b[0m, \u001b[38;5;34m110\u001b[0m, \u001b[38;5;34m6\u001b[0m)    │             \u001b[38;5;34m0\u001b[0m │\n",
              "├─────────────────────────────────┼────────────────────────┼───────────────┤\n",
              "│ conv2d_392 (\u001b[38;5;33mConv2D\u001b[0m)             │ (\u001b[38;5;45mNone\u001b[0m, \u001b[38;5;34m106\u001b[0m, \u001b[38;5;34m106\u001b[0m, \u001b[38;5;34m16\u001b[0m)   │         \u001b[38;5;34m2,416\u001b[0m │\n",
              "├─────────────────────────────────┼────────────────────────┼───────────────┤\n",
              "│ average_pooling2d_39            │ (\u001b[38;5;45mNone\u001b[0m, \u001b[38;5;34m53\u001b[0m, \u001b[38;5;34m53\u001b[0m, \u001b[38;5;34m16\u001b[0m)     │             \u001b[38;5;34m0\u001b[0m │\n",
              "│ (\u001b[38;5;33mAveragePooling2D\u001b[0m)              │                        │               │\n",
              "├─────────────────────────────────┼────────────────────────┼───────────────┤\n",
              "│ activation_379 (\u001b[38;5;33mActivation\u001b[0m)     │ (\u001b[38;5;45mNone\u001b[0m, \u001b[38;5;34m53\u001b[0m, \u001b[38;5;34m53\u001b[0m, \u001b[38;5;34m16\u001b[0m)     │             \u001b[38;5;34m0\u001b[0m │\n",
              "├─────────────────────────────────┼────────────────────────┼───────────────┤\n",
              "│ conv2d_393 (\u001b[38;5;33mConv2D\u001b[0m)             │ (\u001b[38;5;45mNone\u001b[0m, \u001b[38;5;34m49\u001b[0m, \u001b[38;5;34m49\u001b[0m, \u001b[38;5;34m120\u001b[0m)    │        \u001b[38;5;34m48,120\u001b[0m │\n",
              "├─────────────────────────────────┼────────────────────────┼───────────────┤\n",
              "│ flatten_8 (\u001b[38;5;33mFlatten\u001b[0m)             │ (\u001b[38;5;45mNone\u001b[0m, \u001b[38;5;34m288120\u001b[0m)         │             \u001b[38;5;34m0\u001b[0m │\n",
              "├─────────────────────────────────┼────────────────────────┼───────────────┤\n",
              "│ dense_59 (\u001b[38;5;33mDense\u001b[0m)                │ (\u001b[38;5;45mNone\u001b[0m, \u001b[38;5;34m120\u001b[0m)            │    \u001b[38;5;34m34,574,520\u001b[0m │\n",
              "├─────────────────────────────────┼────────────────────────┼───────────────┤\n",
              "│ dropout_23 (\u001b[38;5;33mDropout\u001b[0m)            │ (\u001b[38;5;45mNone\u001b[0m, \u001b[38;5;34m120\u001b[0m)            │             \u001b[38;5;34m0\u001b[0m │\n",
              "├─────────────────────────────────┼────────────────────────┼───────────────┤\n",
              "│ dense_60 (\u001b[38;5;33mDense\u001b[0m)                │ (\u001b[38;5;45mNone\u001b[0m, \u001b[38;5;34m84\u001b[0m)             │        \u001b[38;5;34m10,164\u001b[0m │\n",
              "├─────────────────────────────────┼────────────────────────┼───────────────┤\n",
              "│ dense_61 (\u001b[38;5;33mDense\u001b[0m)                │ (\u001b[38;5;45mNone\u001b[0m, \u001b[38;5;34m1\u001b[0m)              │            \u001b[38;5;34m85\u001b[0m │\n",
              "└─────────────────────────────────┴────────────────────────┴───────────────┘\n"
            ]
          },
          "metadata": {},
          "output_type": "display_data"
        },
        {
          "data": {
            "text/html": [
              "<pre style=\"white-space:pre;overflow-x:auto;line-height:normal;font-family:Menlo,'DejaVu Sans Mono',consolas,'Courier New',monospace\"><span style=\"font-weight: bold\"> Total params: </span><span style=\"color: #00af00; text-decoration-color: #00af00\">34,635,461</span> (132.12 MB)\n",
              "</pre>\n"
            ],
            "text/plain": [
              "\u001b[1m Total params: \u001b[0m\u001b[38;5;34m34,635,461\u001b[0m (132.12 MB)\n"
            ]
          },
          "metadata": {},
          "output_type": "display_data"
        },
        {
          "data": {
            "text/html": [
              "<pre style=\"white-space:pre;overflow-x:auto;line-height:normal;font-family:Menlo,'DejaVu Sans Mono',consolas,'Courier New',monospace\"><span style=\"font-weight: bold\"> Trainable params: </span><span style=\"color: #00af00; text-decoration-color: #00af00\">34,635,461</span> (132.12 MB)\n",
              "</pre>\n"
            ],
            "text/plain": [
              "\u001b[1m Trainable params: \u001b[0m\u001b[38;5;34m34,635,461\u001b[0m (132.12 MB)\n"
            ]
          },
          "metadata": {},
          "output_type": "display_data"
        },
        {
          "data": {
            "text/html": [
              "<pre style=\"white-space:pre;overflow-x:auto;line-height:normal;font-family:Menlo,'DejaVu Sans Mono',consolas,'Courier New',monospace\"><span style=\"font-weight: bold\"> Non-trainable params: </span><span style=\"color: #00af00; text-decoration-color: #00af00\">0</span> (0.00 B)\n",
              "</pre>\n"
            ],
            "text/plain": [
              "\u001b[1m Non-trainable params: \u001b[0m\u001b[38;5;34m0\u001b[0m (0.00 B)\n"
            ]
          },
          "metadata": {},
          "output_type": "display_data"
        }
      ],
      "source": [
        "from re import L\n",
        "input_shape = (224, 224, 1)\n",
        "lenet = Sequential(name=\"LeNet\")\n",
        "lenet.add(Input(shape=input_shape))\n",
        "lenet.add(Conv2D(filters=6, kernel_size=(5, 5), activation=\"tanh\"))\n",
        "lenet.add(AveragePooling2D(pool_size=(2, 2)))\n",
        "lenet.add(Activation(\"sigmoid\"))\n",
        "lenet.add(Conv2D(filters=16, kernel_size=(5, 5), activation=\"tanh\"))\n",
        "lenet.add(AveragePooling2D(pool_size=(2, 2)))\n",
        "lenet.add(Activation(\"sigmoid\"))\n",
        "lenet.add(Conv2D(filters=120, kernel_size=(5, 5), activation=\"tanh\"))\n",
        "lenet.add(Flatten())\n",
        "lenet.add(Dense(120, activation=\"tanh\"))\n",
        "lenet.add(Dropout(0.2))\n",
        "lenet.add(Dense(84, activation=\"tanh\"))\n",
        "lenet.add(Dense(1, activation=\"sigmoid\"))\n",
        "lenet.summary()"
      ]
    },
    {
      "cell_type": "code",
      "execution_count": 135,
      "metadata": {
        "colab": {
          "base_uri": "https://localhost:8080/"
        },
        "id": "yUw6heqTJvQ7",
        "outputId": "a7be598d-acee-40df-dfd5-6315da555d54"
      },
      "outputs": [
        {
          "name": "stdout",
          "output_type": "stream",
          "text": [
            "Epoch 1/25\n",
            "\u001b[1m7/7\u001b[0m \u001b[32m━━━━━━━━━━━━━━━━━━━━\u001b[0m\u001b[37m\u001b[0m \u001b[1m20s\u001b[0m 1s/step - accuracy: 0.6135 - false_negatives_27: 10.0000 - false_positives_27: 41.6250 - loss: 1.5627 - precision_27: 0.6678 - recall_27: 0.8358 - true_negatives_27: 7.0000 - true_positives_27: 75.8750\n",
            "Epoch 2/25\n",
            "\u001b[1m7/7\u001b[0m \u001b[32m━━━━━━━━━━━━━━━━━━━━\u001b[0m\u001b[37m\u001b[0m \u001b[1m4s\u001b[0m 50ms/step - accuracy: 0.5933 - false_negatives_27: 13.7500 - false_positives_27: 43.8750 - loss: 0.8623 - precision_27: 0.6242 - recall_27: 0.8887 - true_negatives_27: 6.1250 - true_positives_27: 70.7500\n",
            "Epoch 3/25\n",
            "\u001b[1m7/7\u001b[0m \u001b[32m━━━━━━━━━━━━━━━━━━━━\u001b[0m\u001b[37m\u001b[0m \u001b[1m0s\u001b[0m 31ms/step - accuracy: 0.3616 - false_negatives_27: 80.3750 - false_positives_27: 3.0000 - loss: 0.8625 - precision_27: 0.5439 - recall_27: 0.0557 - true_negatives_27: 44.6250 - true_positives_27: 6.5000\n",
            "Epoch 4/25\n",
            "\u001b[1m7/7\u001b[0m \u001b[32m━━━━━━━━━━━━━━━━━━━━\u001b[0m\u001b[37m\u001b[0m \u001b[1m0s\u001b[0m 30ms/step - accuracy: 0.6432 - false_negatives_27: 4.8750 - false_positives_27: 43.2500 - loss: 0.6700 - precision_27: 0.6512 - recall_27: 0.9183 - true_negatives_27: 7.5000 - true_positives_27: 78.8750\n",
            "Epoch 5/25\n",
            "\u001b[1m7/7\u001b[0m \u001b[32m━━━━━━━━━━━━━━━━━━━━\u001b[0m\u001b[37m\u001b[0m \u001b[1m0s\u001b[0m 29ms/step - accuracy: 0.6343 - false_negatives_27: 0.0000e+00 - false_positives_27: 48.3750 - loss: 0.7076 - precision_27: 0.6343 - recall_27: 1.0000 - true_negatives_27: 0.0000e+00 - true_positives_27: 86.1250\n",
            "Epoch 6/25\n",
            "\u001b[1m7/7\u001b[0m \u001b[32m━━━━━━━━━━━━━━━━━━━━\u001b[0m\u001b[37m\u001b[0m \u001b[1m0s\u001b[0m 29ms/step - accuracy: 0.6085 - false_negatives_27: 5.5000 - false_positives_27: 47.0000 - loss: 0.6930 - precision_27: 0.6183 - recall_27: 0.9544 - true_negatives_27: 3.7500 - true_positives_27: 78.2500\n",
            "Epoch 7/25\n",
            "\u001b[1m7/7\u001b[0m \u001b[32m━━━━━━━━━━━━━━━━━━━━\u001b[0m\u001b[37m\u001b[0m \u001b[1m0s\u001b[0m 29ms/step - accuracy: 0.5096 - false_negatives_27: 24.1250 - false_positives_27: 39.5000 - loss: 0.7049 - precision_27: 0.5967 - recall_27: 0.6813 - true_negatives_27: 10.3750 - true_positives_27: 60.5000\n",
            "Epoch 8/25\n",
            "\u001b[1m7/7\u001b[0m \u001b[32m━━━━━━━━━━━━━━━━━━━━\u001b[0m\u001b[37m\u001b[0m \u001b[1m0s\u001b[0m 29ms/step - accuracy: 0.6810 - false_negatives_27: 0.0000e+00 - false_positives_27: 45.7500 - loss: 0.6448 - precision_27: 0.6810 - recall_27: 1.0000 - true_negatives_27: 0.0000e+00 - true_positives_27: 88.7500\n",
            "Epoch 9/25\n",
            "\u001b[1m7/7\u001b[0m \u001b[32m━━━━━━━━━━━━━━━━━━━━\u001b[0m\u001b[37m\u001b[0m \u001b[1m0s\u001b[0m 29ms/step - accuracy: 0.6042 - false_negatives_27: 0.2500 - false_positives_27: 50.5000 - loss: 0.7030 - precision_27: 0.6008 - recall_27: 0.9980 - true_negatives_27: 1.5000 - true_positives_27: 82.2500    \n",
            "Epoch 10/25\n",
            "\u001b[1m7/7\u001b[0m \u001b[32m━━━━━━━━━━━━━━━━━━━━\u001b[0m\u001b[37m\u001b[0m \u001b[1m0s\u001b[0m 29ms/step - accuracy: 0.6228 - false_negatives_27: 0.0000e+00 - false_positives_27: 49.5000 - loss: 0.6702 - precision_27: 0.6221 - recall_27: 1.0000 - true_negatives_27: 0.3750 - true_positives_27: 84.6250    \n",
            "Epoch 11/25\n",
            "\u001b[1m7/7\u001b[0m \u001b[32m━━━━━━━━━━━━━━━━━━━━\u001b[0m\u001b[37m\u001b[0m \u001b[1m0s\u001b[0m 30ms/step - accuracy: 0.6398 - false_negatives_27: 1.6250 - false_positives_27: 47.7500 - loss: 0.6542 - precision_27: 0.6493 - recall_27: 0.9783 - true_negatives_27: 0.0000e+00 - true_positives_27: 85.1250\n",
            "Epoch 12/25\n",
            "\u001b[1m7/7\u001b[0m \u001b[32m━━━━━━━━━━━━━━━━━━━━\u001b[0m\u001b[37m\u001b[0m \u001b[1m0s\u001b[0m 29ms/step - accuracy: 0.6370 - false_negatives_27: 1.8750 - false_positives_27: 48.2500 - loss: 0.6539 - precision_27: 0.6412 - recall_27: 0.9842 - true_negatives_27: 1.0000 - true_positives_27: 83.3750\n",
            "Epoch 13/25\n",
            "\u001b[1m7/7\u001b[0m \u001b[32m━━━━━━━━━━━━━━━━━━━━\u001b[0m\u001b[37m\u001b[0m \u001b[1m0s\u001b[0m 29ms/step - accuracy: 0.6248 - false_negatives_27: 3.0000 - false_positives_27: 48.0000 - loss: 0.6774 - precision_27: 0.6357 - recall_27: 0.9639 - true_negatives_27: 1.0000 - true_positives_27: 82.5000\n",
            "Epoch 14/25\n",
            "\u001b[1m7/7\u001b[0m \u001b[32m━━━━━━━━━━━━━━━━━━━━\u001b[0m\u001b[37m\u001b[0m \u001b[1m0s\u001b[0m 31ms/step - accuracy: 0.6529 - false_negatives_27: 0.0000e+00 - false_positives_27: 47.7500 - loss: 0.6479 - precision_27: 0.6529 - recall_27: 1.0000 - true_negatives_27: 0.0000e+00 - true_positives_27: 86.7500\n",
            "Epoch 15/25\n",
            "\u001b[1m7/7\u001b[0m \u001b[32m━━━━━━━━━━━━━━━━━━━━\u001b[0m\u001b[37m\u001b[0m \u001b[1m0s\u001b[0m 30ms/step - accuracy: 0.6405 - false_negatives_27: 0.0000e+00 - false_positives_27: 49.1250 - loss: 0.6549 - precision_27: 0.6405 - recall_27: 1.0000 - true_negatives_27: 0.0000e+00 - true_positives_27: 85.3750\n",
            "Epoch 16/25\n",
            "\u001b[1m7/7\u001b[0m \u001b[32m━━━━━━━━━━━━━━━━━━━━\u001b[0m\u001b[37m\u001b[0m \u001b[1m0s\u001b[0m 30ms/step - accuracy: 0.6529 - false_negatives_27: 0.0000e+00 - false_positives_27: 47.6250 - loss: 0.6657 - precision_27: 0.6529 - recall_27: 1.0000 - true_negatives_27: 0.0000e+00 - true_positives_27: 86.8750\n",
            "Epoch 17/25\n",
            "\u001b[1m7/7\u001b[0m \u001b[32m━━━━━━━━━━━━━━━━━━━━\u001b[0m\u001b[37m\u001b[0m \u001b[1m0s\u001b[0m 29ms/step - accuracy: 0.6546 - false_negatives_27: 0.0000e+00 - false_positives_27: 48.1250 - loss: 0.6478 - precision_27: 0.6546 - recall_27: 1.0000 - true_negatives_27: 0.0000e+00 - true_positives_27: 86.3750\n",
            "Epoch 18/25\n",
            "\u001b[1m7/7\u001b[0m \u001b[32m━━━━━━━━━━━━━━━━━━━━\u001b[0m\u001b[37m\u001b[0m \u001b[1m0s\u001b[0m 30ms/step - accuracy: 0.6071 - false_negatives_27: 1.5000 - false_positives_27: 50.0000 - loss: 0.6693 - precision_27: 0.6118 - recall_27: 0.9842 - true_negatives_27: 0.7500 - true_positives_27: 82.2500\n",
            "Epoch 19/25\n",
            "\u001b[1m7/7\u001b[0m \u001b[32m━━━━━━━━━━━━━━━━━━━━\u001b[0m\u001b[37m\u001b[0m \u001b[1m0s\u001b[0m 29ms/step - accuracy: 0.6102 - false_negatives_27: 0.5000 - false_positives_27: 50.6250 - loss: 0.6666 - precision_27: 0.6119 - recall_27: 0.9958 - true_negatives_27: 0.0000e+00 - true_positives_27: 83.3750\n",
            "Epoch 20/25\n",
            "\u001b[1m7/7\u001b[0m \u001b[32m━━━━━━━━━━━━━━━━━━━━\u001b[0m\u001b[37m\u001b[0m \u001b[1m0s\u001b[0m 29ms/step - accuracy: 0.6503 - false_negatives_27: 0.0000e+00 - false_positives_27: 48.1250 - loss: 0.6584 - precision_27: 0.6503 - recall_27: 1.0000 - true_negatives_27: 0.0000e+00 - true_positives_27: 86.3750\n",
            "Epoch 21/25\n",
            "\u001b[1m7/7\u001b[0m \u001b[32m━━━━━━━━━━━━━━━━━━━━\u001b[0m\u001b[37m\u001b[0m \u001b[1m0s\u001b[0m 29ms/step - accuracy: 0.6168 - false_negatives_27: 0.3750 - false_positives_27: 50.5000 - loss: 0.6547 - precision_27: 0.6180 - recall_27: 0.9970 - true_negatives_27: 0.0000e+00 - true_positives_27: 83.6250    \n",
            "Epoch 22/25\n",
            "\u001b[1m7/7\u001b[0m \u001b[32m━━━━━━━━━━━━━━━━━━━━\u001b[0m\u001b[37m\u001b[0m \u001b[1m0s\u001b[0m 30ms/step - accuracy: 0.5512 - false_negatives_27: 5.1250 - false_positives_27: 53.1250 - loss: 0.6982 - precision_27: 0.5716 - recall_27: 0.9404 - true_negatives_27: 0.0000e+00 - true_positives_27: 76.2500\n",
            "Epoch 23/25\n",
            "\u001b[1m7/7\u001b[0m \u001b[32m━━━━━━━━━━━━━━━━━━━━\u001b[0m\u001b[37m\u001b[0m \u001b[1m0s\u001b[0m 30ms/step - accuracy: 0.6660 - false_negatives_27: 0.0000e+00 - false_positives_27: 46.8750 - loss: 0.6462 - precision_27: 0.6660 - recall_27: 1.0000 - true_negatives_27: 0.0000e+00 - true_positives_27: 87.6250\n",
            "Epoch 24/25\n",
            "\u001b[1m7/7\u001b[0m \u001b[32m━━━━━━━━━━━━━━━━━━━━\u001b[0m\u001b[37m\u001b[0m \u001b[1m0s\u001b[0m 29ms/step - accuracy: 0.6488 - false_negatives_27: 0.0000e+00 - false_positives_27: 47.6250 - loss: 0.6551 - precision_27: 0.6488 - recall_27: 1.0000 - true_negatives_27: 0.0000e+00 - true_positives_27: 86.8750\n",
            "Epoch 25/25\n",
            "\u001b[1m7/7\u001b[0m \u001b[32m━━━━━━━━━━━━━━━━━━━━\u001b[0m\u001b[37m\u001b[0m \u001b[1m0s\u001b[0m 29ms/step - accuracy: 0.6490 - false_negatives_27: 4.5000 - false_positives_27: 43.2500 - loss: 0.6567 - precision_27: 0.6589 - recall_27: 0.9559 - true_negatives_27: 4.1250 - true_positives_27: 82.6250\n"
          ]
        }
      ],
      "source": [
        "lenet.compile(optimizer=Adam(), loss=BinaryCrossentropy(), metrics=[BinaryAccuracy(threshold=0.5, name=\"accuracy\"), Recall(), Precision(), TruePositives(), TrueNegatives(), FalsePositives(), FalseNegatives()])\n",
        "lenet_fit_history = lenet.fit(g_X_train, g_y_train, epochs=25)"
      ]
    },
    {
      "cell_type": "code",
      "execution_count": 136,
      "metadata": {
        "colab": {
          "base_uri": "https://localhost:8080/"
        },
        "id": "8R_zBdmkK2vH",
        "outputId": "ab66325a-bb30-4475-deb5-bdd43ba6a8ba"
      },
      "outputs": [
        {
          "name": "stdout",
          "output_type": "stream",
          "text": [
            "\u001b[1m2/2\u001b[0m \u001b[32m━━━━━━━━━━━━━━━━━━━━\u001b[0m\u001b[37m\u001b[0m \u001b[1m7s\u001b[0m 4s/step - accuracy: 0.5300 - false_negatives_27: 0.0000e+00 - false_positives_27: 21.0000 - loss: 0.6935 - precision_27: 0.5300 - recall_27: 1.0000 - true_negatives_27: 0.0000e+00 - true_positives_27: 23.6667\n",
            "Loss:  0.69\n",
            "Accuracy:  0.53\n",
            "Recall:  1.0\n",
            "Precision:  0.53\n",
            "True Positives:  27\n",
            "True Negatives:  0\n",
            "False Positives:  24\n",
            "False Negatives:  0\n"
          ]
        }
      ],
      "source": [
        "lenet_model_metrics = lenet.evaluate(g_X_test, g_y_test)\n",
        "model_evaluation(lenet_model_metrics)"
      ]
    },
    {
      "cell_type": "markdown",
      "metadata": {
        "id": "m53J3dsxMDvO"
      },
      "source": [
        "### Evaluation"
      ]
    },
    {
      "cell_type": "code",
      "execution_count": 145,
      "metadata": {
        "colab": {
          "base_uri": "https://localhost:8080/"
        },
        "id": "_lJuXgB1QnRM",
        "outputId": "aa0af4dd-8493-4b8d-cf6c-a8b7fa58b855"
      },
      "outputs": [
        {
          "name": "stdout",
          "output_type": "stream",
          "text": [
            "0.56651371717453\n",
            "0.7058823704719543\n",
            "0.6666666865348816\n",
            "0.75\n",
            "18.0\n",
            "18.0\n",
            "6.0\n",
            "9.0\n"
          ]
        }
      ],
      "source": [
        "for i in resnet_model_metrics:\n",
        "  print(i)"
      ]
    },
    {
      "cell_type": "markdown",
      "metadata": {
        "id": "DweEuj2jMYG7"
      },
      "source": [
        "#### 1- Loss"
      ]
    },
    {
      "cell_type": "code",
      "execution_count": 158,
      "metadata": {
        "colab": {
          "base_uri": "https://localhost:8080/",
          "height": 1000
        },
        "id": "vX4HTc7FMbGZ",
        "outputId": "35dacedd-e2d7-461b-9f59-d212e26b7c17"
      },
      "outputs": [
        {
          "name": "stderr",
          "output_type": "stream",
          "text": [
            "/tmp/ipython-input-158-1196418374.py:17: MatplotlibDeprecationWarning: The get_cmap function was deprecated in Matplotlib 3.7 and will be removed in 3.11. Use ``matplotlib.colormaps[name]`` or ``matplotlib.colormaps.get_cmap()`` or ``pyplot.get_cmap()`` instead.\n",
            "  colors = plt.cm.get_cmap('tab10', len(models))  # 10 couleurs max\n"
          ]
        },
        {
          "data": {
            "image/png": "[encoded data removed]",
            "text/plain": [
              "<Figure size 1600x1200 with 4 Axes>"
            ]
          },
          "metadata": {},
          "output_type": "display_data"
        }
      ],
      "source": [
        "metric_names = [\"Loss\", \"Accuracy\", \"Precision\", \"Recall\"]\n",
        "\n",
        "metrics_dict = {\n",
        "    \"ResNet50\": resnet_model_metrics,\n",
        "    \"VGG16\": vgg_model_metrics,\n",
        "    \"VGG19\": vgg_19_model_metrics,\n",
        "    \"Inception\": inception_model_metrics,\n",
        "    \"Xception\": xception_model_metrics,\n",
        "    \"EfficientNet\": efficientNet_model_metrics,\n",
        "    \"LeNet\": lenet_model_metrics\n",
        "}\n",
        "\n",
        "models = list(metrics_dict.keys())\n",
        "num_metrics = len(metric_names)\n",
        "\n",
        "# Définir une couleur unique par modèle\n",
        "colors = plt.cm.get_cmap('tab10', len(models))  # 10 couleurs max\n",
        "\n",
        "plt.figure(figsize=(16, 12))\n",
        "\n",
        "for i in range(num_metrics):\n",
        "    plt.subplot(2, 2, i + 1)\n",
        "    values = [metrics_dict[model][i] for model in models]\n",
        "\n",
        "    # Affiche chaque barre modèle par modèle, avec sa couleur\n",
        "    for j, (model, val) in enumerate(zip(models, values)):\n",
        "        plt.bar(model, val, color=colors(j))\n",
        "\n",
        "    plt.title(metric_names[i])\n",
        "    plt.ylabel(metric_names[i])\n",
        "    plt.xticks(rotation=45)\n",
        "    plt.grid(axis='y', linestyle='--', alpha=0.5)\n",
        "\n",
        "# Créer une légende commune (hors des subplots)\n",
        "handles = [plt.Line2D([0], [0], color=colors(i), lw=8) for i in range(len(models))]\n",
        "plt.legend(handles, models, title=\"Modèles\", bbox_to_anchor=(1.05, 1), loc='upper left')\n",
        "\n",
        "plt.tight_layout(rect=[0, 0, 0.85, 1])  # laisser de la place à droite pour la légende\n",
        "plt.suptitle(\"Comparaison des métriques entre les modèles\", fontsize=16, y=1.02)\n",
        "plt.show()"
      ]
    },
    {
      "cell_type": "code",
      "execution_count": null,
      "metadata": {
        "id": "1ylkyQgCMF4_"
      },
      "outputs": [],
      "source": []
    }
  ],
  "metadata": {
    "accelerator": "GPU",
    "colab": {
      "gpuType": "T4",
      "provenance": []
    },
    "kernelspec": {
      "display_name": "base",
      "language": "python",
      "name": "python3"
    },
    "language_info": {
      "codemirror_mode": {
        "name": "ipython",
        "version": 3
      },
      "file_extension": ".py",
      "mimetype": "text/x-python",
      "name": "python",
      "nbconvert_exporter": "python",
      "pygments_lexer": "ipython3",
      "version": "3.12.7"
    }
  },
  "nbformat": 4,
  "nbformat_minor": 0
}
