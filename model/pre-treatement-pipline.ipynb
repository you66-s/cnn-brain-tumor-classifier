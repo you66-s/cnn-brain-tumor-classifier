{
 "cells": [
  {
   "cell_type": "code",
   "execution_count": 17,
   "metadata": {},
   "outputs": [],
   "source": [
    "import numpy as np\n",
    "from PIL import Image\n",
    "import tensorflow as tf\n",
    "import matplotlib.pyplot as plt"
   ]
  },
  {
   "cell_type": "code",
   "execution_count": 18,
   "metadata": {},
   "outputs": [],
   "source": [
    "def image_preprocessing_pipeline(image_path, size=(224, 224)):\n",
    "    # 1. Chargement de l'image*\n",
    "    try:\n",
    "        image = Image.open(image_path)\n",
    "    except FileNotFoundError:\n",
    "        print(f\"Image in this path: {image_path} Not found\")\n",
    "        return None\n",
    "    # 2. Redimensionnement de l'image\n",
    "    resized_img = image.resize(size=size)\n",
    "    # 3. Conversion en grayscale\n",
    "    if resized_img != 'L':\n",
    "        grayscale_img = resized_img.convert('L')\n",
    "    else:\n",
    "        grayscale_img = resized_img\n",
    "    # 4. Conversion en array NumPy\n",
    "    img_np_arr = np.array(grayscale_img)\n",
    "    img_np_arr = np.expand_dims(img_np_arr, axis=-1)\n",
    "    img_np_arr = np.expand_dims(img_np_arr, axis=0)\n",
    "    # 5. Normalisation\n",
    "    img_np_arr_norm = img_np_arr.astype('float32') / 255\n",
    "    return img_np_arr_norm"
   ]
  }
 ],
 "metadata": {
  "kernelspec": {
   "display_name": "base",
   "language": "python",
   "name": "python3"
  },
  "language_info": {
   "codemirror_mode": {
    "name": "ipython",
    "version": 3
   },
   "file_extension": ".py",
   "mimetype": "text/x-python",
   "name": "python",
   "nbconvert_exporter": "python",
   "pygments_lexer": "ipython3",
   "version": "3.12.7"
  }
 },
 "nbformat": 4,
 "nbformat_minor": 2
}
