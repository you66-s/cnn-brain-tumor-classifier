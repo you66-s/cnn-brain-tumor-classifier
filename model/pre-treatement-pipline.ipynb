{
 "cells": [
  {
   "cell_type": "code",
   "execution_count": 4,
   "metadata": {},
   "outputs": [],
   "source": [
    "import numpy as np\n",
    "from PIL import Image\n",
    "import os"
   ]
  },
  {
   "cell_type": "code",
   "execution_count": 5,
   "metadata": {},
   "outputs": [],
   "source": [
    "def colored_image_preprocessing_pipeline(image_path, size=(224, 224)):\n",
    "    # 1. Chargement de l'image*\n",
    "    try:\n",
    "        image = Image.open(image_path)\n",
    "    except FileNotFoundError:\n",
    "        return(f\"Image in this path: {image_path} Not found\")\n",
    "    # 2. Redimensionnement de l'image\n",
    "    resized_img = image.resize(size=size)\n",
    "    # 3. Conversion en grayscale\n",
    "    if resized_img != 'RGB':\n",
    "        colored_img = resized_img.convert('RGB')\n",
    "    else:\n",
    "        colored_img = resized_img\n",
    "    # 4. Conversion en array NumPy\n",
    "    img_np_arr = np.array(colored_img)\n",
    "    img_np_arr = np.expand_dims(img_np_arr, axis=0)\n",
    "    # 5. Normalisation\n",
    "    img_np_arr_norm = img_np_arr.astype('float32') / 255\n",
    "    return img_np_arr_norm"
   ]
  },
  {
   "cell_type": "code",
   "execution_count": 6,
   "metadata": {},
   "outputs": [
    {
     "data": {
      "text/plain": [
       "array([[[[0.92156863, 0.92156863, 0.92156863],\n",
       "         [0.6627451 , 0.6627451 , 0.6627451 ],\n",
       "         [0.67058825, 0.67058825, 0.67058825],\n",
       "         ...,\n",
       "         [0.67058825, 0.67058825, 0.67058825],\n",
       "         [0.6666667 , 0.6666667 , 0.6666667 ],\n",
       "         [0.92156863, 0.92156863, 0.92156863]],\n",
       "\n",
       "        [[0.7529412 , 0.7529412 , 0.7529412 ],\n",
       "         [0.        , 0.        , 0.        ],\n",
       "         [0.        , 0.        , 0.        ],\n",
       "         ...,\n",
       "         [0.        , 0.        , 0.        ],\n",
       "         [0.        , 0.        , 0.        ],\n",
       "         [0.75686276, 0.75686276, 0.75686276]],\n",
       "\n",
       "        [[0.7607843 , 0.7607843 , 0.7607843 ],\n",
       "         [0.        , 0.        , 0.        ],\n",
       "         [0.        , 0.        , 0.        ],\n",
       "         ...,\n",
       "         [0.        , 0.        , 0.        ],\n",
       "         [0.        , 0.        , 0.        ],\n",
       "         [0.7647059 , 0.7647059 , 0.7647059 ]],\n",
       "\n",
       "        ...,\n",
       "\n",
       "        [[0.7607843 , 0.7607843 , 0.7607843 ],\n",
       "         [0.        , 0.        , 0.        ],\n",
       "         [0.00392157, 0.00392157, 0.00392157],\n",
       "         ...,\n",
       "         [0.        , 0.        , 0.        ],\n",
       "         [0.        , 0.        , 0.        ],\n",
       "         [0.7607843 , 0.7607843 , 0.7607843 ]],\n",
       "\n",
       "        [[0.7529412 , 0.7529412 , 0.7529412 ],\n",
       "         [0.        , 0.        , 0.        ],\n",
       "         [0.        , 0.        , 0.        ],\n",
       "         ...,\n",
       "         [0.        , 0.        , 0.        ],\n",
       "         [0.        , 0.        , 0.        ],\n",
       "         [0.75686276, 0.75686276, 0.75686276]],\n",
       "\n",
       "        [[0.92156863, 0.92156863, 0.92156863],\n",
       "         [0.6666667 , 0.6666667 , 0.6666667 ],\n",
       "         [0.67058825, 0.67058825, 0.67058825],\n",
       "         ...,\n",
       "         [0.67058825, 0.67058825, 0.67058825],\n",
       "         [0.6666667 , 0.6666667 , 0.6666667 ],\n",
       "         [0.92156863, 0.92156863, 0.92156863]]]], dtype=float32)"
      ]
     },
     "execution_count": 6,
     "metadata": {},
     "output_type": "execute_result"
    }
   ],
   "source": [
    "colored_image_preprocessing_pipeline('../dataset/yes/Y101.jpg')"
   ]
  },
  {
   "cell_type": "code",
   "execution_count": 48,
   "metadata": {},
   "outputs": [],
   "source": [
    "def image_preprocessing_pipeline(image_path, size=(224, 224)):\n",
    "    # 1. Chargement de l'image*\n",
    "    try:\n",
    "        image = Image.open(image_path)\n",
    "    except FileNotFoundError:\n",
    "        return(f\"Image in this path: {image_path} Not found\")\n",
    "    # 2. Redimensionnement de l'image\n",
    "    resized_img = image.resize(size=size)\n",
    "    # 3. Conversion en grayscale\n",
    "    if resized_img != 'L':\n",
    "        grayscale_img = resized_img.convert('L')\n",
    "    else:\n",
    "        grayscale_img = resized_img\n",
    "    # 4. Conversion en array NumPy\n",
    "    img_np_arr = np.array(grayscale_img)\n",
    "    img_np_arr = np.expand_dims(img_np_arr, axis=-1)\n",
    "    img_np_arr = np.expand_dims(img_np_arr, axis=0)\n",
    "    # 5. Normalisation\n",
    "    img_np_arr_norm = img_np_arr.astype('float32') / 255\n",
    "    return img_np_arr_norm"
   ]
  },
  {
   "cell_type": "code",
   "execution_count": 56,
   "metadata": {},
   "outputs": [
    {
     "name": "stdout",
     "output_type": "stream",
     "text": [
      "x shape: (253, 224, 224, 1)\n",
      "y shape: (253,)\n"
     ]
    }
   ],
   "source": [
    "#   Creation du dataset\n",
    "X = []\n",
    "y = []\n",
    "yes_path = '../dataset/yes/'\n",
    "no_path = '../dataset/no/'\n",
    "yes_list_img = os.listdir('../dataset/yes/')\n",
    "no_list_img = os.listdir('../dataset/no/')\n",
    "for img in range(len(yes_list_img)):\n",
    "    img_arr = image_preprocessing_pipeline(yes_path + yes_list_img[img])\n",
    "    X.append(img_arr)\n",
    "    y.append(1)\n",
    "for img in range(len(no_list_img)):\n",
    "    img_arr = image_preprocessing_pipeline(no_path + no_list_img[img])\n",
    "    X.append(img_arr)\n",
    "    y.append(0)\n",
    "\n",
    "# Conversion en tableaux NumPy\n",
    "X = np.vstack(X)  # (n_samples, 224, 224, 1)\n",
    "y = np.array(y)   # (n_samples,)\n",
    "np.savez('../dataset-processed/Brain_Tumor_Dataset.npz', X=X, y=y)\n",
    "print(f\"x shape: {X.shape}\")\n",
    "print(f\"y shape: {y.shape}\")"
   ]
  },
  {
   "cell_type": "code",
   "execution_count": 8,
   "metadata": {},
   "outputs": [
    {
     "name": "stdout",
     "output_type": "stream",
     "text": [
      "x shape: (253, 224, 224, 3)\n",
      "y shape: (253,)\n"
     ]
    }
   ],
   "source": [
    "#   Colored Dataset\n",
    "X = []\n",
    "y = []\n",
    "yes_path = '../dataset/yes/'\n",
    "no_path = '../dataset/no/'\n",
    "yes_list_img = os.listdir('../dataset/yes/')\n",
    "no_list_img = os.listdir('../dataset/no/')\n",
    "for img in range(len(yes_list_img)):\n",
    "    img_arr = colored_image_preprocessing_pipeline(yes_path + yes_list_img[img])\n",
    "    X.append(img_arr)\n",
    "    y.append(1)\n",
    "for img in range(len(no_list_img)):\n",
    "    img_arr = colored_image_preprocessing_pipeline(no_path + no_list_img[img])\n",
    "    X.append(img_arr)\n",
    "    y.append(0)\n",
    "\n",
    "# Conversion en tableaux NumPy\n",
    "X = np.vstack(X)  # (n_samples, 224, 224, 1)\n",
    "y = np.array(y)   # (n_samples,)\n",
    "np.savez('../colored-dataset/Brain_Tumor_Dataset.npz', X=X, y=y)\n",
    "print(f\"x shape: {X.shape}\")\n",
    "print(f\"y shape: {y.shape}\")"
   ]
  }
 ],
 "metadata": {
  "kernelspec": {
   "display_name": "Python 3",
   "language": "python",
   "name": "python3"
  },
  "language_info": {
   "codemirror_mode": {
    "name": "ipython",
    "version": 3
   },
   "file_extension": ".py",
   "mimetype": "text/x-python",
   "name": "python",
   "nbconvert_exporter": "python",
   "pygments_lexer": "ipython3",
   "version": "3.12.7"
  }
 },
 "nbformat": 4,
 "nbformat_minor": 2
}
